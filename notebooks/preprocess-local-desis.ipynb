{
 "cells": [
  {
   "cell_type": "code",
   "execution_count": 1,
   "metadata": {
    "collapsed": false,
    "jupyter": {
     "outputs_hidden": false
    },
    "pycharm": {
     "name": "#%%\n"
    }
   },
   "outputs": [],
   "source": [
    "%matplotlib widget\n",
    "from spectraclass.data.base import DataManager\n",
    "from spectraclass.data.spatial.tile.manager import TileManager\n",
    "from spectraclass.data.base import ModeDataManager\n",
    "from typing import List, Union, Tuple, Optional, Dict, Callable"
   ]
  },
  {
   "cell_type": "markdown",
   "metadata": {},
   "source": [
    "Here we configure paths on the Jupyter server.  If these paths are not specified here then the default values,\n",
    "    defined in server-side config files, for the project (\"demo2\") and data mode (\"desis\"), will be used.  You can\n",
    "    choose whatever project names you want, they are used to save configurations and results for ongoing investigations."
   ]
  },
  {
   "cell_type": "code",
   "execution_count": 2,
   "metadata": {
    "collapsed": false,
    "jupyter": {
     "outputs_hidden": false
    },
    "pycharm": {
     "name": "#%%\n"
    }
   },
   "outputs": [
    {
     "name": "stdout",
     "output_type": "stream",
     "text": [
      "Opening log file:  '/Users/tpmaxwel/.spectraclass/logging/desis/demo2.log'\n",
      "Using config file: '/Users/tpmaxwel/Development/Projects/spectraclass/defaults/config.py'\n",
      "Using config file: '/Users/tpmaxwel/.spectraclass/config/desis/demo2.py'\n"
     ]
    },
    {
     "name": "stderr",
     "output_type": "stream",
     "text": [
      "/Applications/anaconda3/envs/spectraclass.mba/lib/python3.9/site-packages/spectraclass-0.1-py3.9.egg/spectraclass/model/base.py:20: UserWarning: Config option `subsample` not recognized by `DesisDataManager`.  Did you mean `subsample_index`?\n",
      "  inst = cls(*args, **kwargs)\n",
      "/Applications/anaconda3/envs/spectraclass.mba/lib/python3.9/site-packages/jupyter_client/session.py:716: UserWarning: Message serialization failed with:\n",
      "Out of range float values are not JSON compliant\n",
      "Supporting this message is deprecated in jupyter-client 7, please make sure your message is JSON-compliant\n",
      "  content = self.pack(content)\n"
     ]
    }
   ],
   "source": [
    "image_indices = [2,3,4]\n",
    "dm: DataManager = DataManager.initialize( \"demo2\", 'desis' )\n",
    "dm.modal.cache_dir = \"/Volumes/Shared/Cache\"\n",
    "dm.modal.data_dir = \"/Volumes/Shared/Data/DESIS\"\n",
    "dm.modal.image_names = [ f\"DESIS-HSI-L1C-DT0468853252_00{index}-20200628T153803-V0210\" for index in image_indices ]\n",
    "TileManager.block_size = 250\n",
    "ModeDataManager.model_dims = 16"
   ]
  },
  {
   "cell_type": "markdown",
   "metadata": {},
   "source": [
    "This block is used to preprocess the dataset.  It only needs to be executed once."
   ]
  },
  {
   "cell_type": "code",
   "execution_count": 3,
   "metadata": {
    "collapsed": false,
    "jupyter": {
     "outputs_hidden": false
    },
    "pycharm": {
     "name": "#%%\n"
    }
   },
   "outputs": [
    {
     "name": "stdout",
     "output_type": "stream",
     "text": [
      " Preparing inputs\n",
      "Completed Reading raster file /Volumes/Shared/Data/DESIS/DESIS-HSI-L1C-DT0468853252_003-20200628T153803-V0210-SPECTRAL_IMAGE.tif, dims = ('band', 'y', 'x'), shape = (235, 1713, 1520), time=0.34 sec\n",
      " Skipping existing block(0, 0) with nsamples=0, existing file: /Volumes/Shared/Cache/spectraclass/DESIS/DESIS-HSI-L1C-DT0468853252_003-20200628T153803-V0210_b-250-250-0-0-m16.nc\n",
      " Skipping existing block(0, 1) with nsamples=0, existing file: /Volumes/Shared/Cache/spectraclass/DESIS/DESIS-HSI-L1C-DT0468853252_003-20200628T153803-V0210_b-250-250-0-1-m16.nc\n",
      " Skipping existing block(0, 2) with nsamples=1234, existing file: /Volumes/Shared/Cache/spectraclass/DESIS/DESIS-HSI-L1C-DT0468853252_003-20200628T153803-V0210_b-250-250-0-2-m16.nc\n",
      " Skipping existing block(0, 3) with nsamples=33792, existing file: /Volumes/Shared/Cache/spectraclass/DESIS/DESIS-HSI-L1C-DT0468853252_003-20200628T153803-V0210_b-250-250-0-3-m16.nc\n",
      " Skipping existing block(0, 4) with nsamples=35666, existing file: /Volumes/Shared/Cache/spectraclass/DESIS/DESIS-HSI-L1C-DT0468853252_003-20200628T153803-V0210_b-250-250-0-4-m16.nc\n",
      " Skipping existing block(0, 5) with nsamples=31, existing file: /Volumes/Shared/Cache/spectraclass/DESIS/DESIS-HSI-L1C-DT0468853252_003-20200628T153803-V0210_b-250-250-0-5-m16.nc\n",
      " Skipping existing block(0, 6) with nsamples=0, existing file: /Volumes/Shared/Cache/spectraclass/DESIS/DESIS-HSI-L1C-DT0468853252_003-20200628T153803-V0210_b-250-250-0-6-m16.nc\n",
      " Skipping existing block(1, 0) with nsamples=0, existing file: /Volumes/Shared/Cache/spectraclass/DESIS/DESIS-HSI-L1C-DT0468853252_003-20200628T153803-V0210_b-250-250-1-0-m16.nc\n",
      " Skipping existing block(1, 1) with nsamples=7669, existing file: /Volumes/Shared/Cache/spectraclass/DESIS/DESIS-HSI-L1C-DT0468853252_003-20200628T153803-V0210_b-250-250-1-1-m16.nc\n",
      " Skipping existing block(1, 2) with nsamples=48767, existing file: /Volumes/Shared/Cache/spectraclass/DESIS/DESIS-HSI-L1C-DT0468853252_003-20200628T153803-V0210_b-250-250-1-2-m16.nc\n",
      " Skipping existing block(1, 3) with nsamples=62524, existing file: /Volumes/Shared/Cache/spectraclass/DESIS/DESIS-HSI-L1C-DT0468853252_003-20200628T153803-V0210_b-250-250-1-3-m16.nc\n",
      " Skipping existing block(1, 4) with nsamples=62520, existing file: /Volumes/Shared/Cache/spectraclass/DESIS/DESIS-HSI-L1C-DT0468853252_003-20200628T153803-V0210_b-250-250-1-4-m16.nc\n",
      " Skipping existing block(1, 5) with nsamples=30115, existing file: /Volumes/Shared/Cache/spectraclass/DESIS/DESIS-HSI-L1C-DT0468853252_003-20200628T153803-V0210_b-250-250-1-5-m16.nc\n",
      " Skipping existing block(1, 6) with nsamples=0, existing file: /Volumes/Shared/Cache/spectraclass/DESIS/DESIS-HSI-L1C-DT0468853252_003-20200628T153803-V0210_b-250-250-1-6-m16.nc\n",
      " Skipping existing block(2, 0) with nsamples=19274, existing file: /Volumes/Shared/Cache/spectraclass/DESIS/DESIS-HSI-L1C-DT0468853252_003-20200628T153803-V0210_b-250-250-2-0-m16.nc\n",
      " Skipping existing block(2, 1) with nsamples=58241, existing file: /Volumes/Shared/Cache/spectraclass/DESIS/DESIS-HSI-L1C-DT0468853252_003-20200628T153803-V0210_b-250-250-2-1-m16.nc\n",
      " Skipping existing block(2, 2) with nsamples=62506, existing file: /Volumes/Shared/Cache/spectraclass/DESIS/DESIS-HSI-L1C-DT0468853252_003-20200628T153803-V0210_b-250-250-2-2-m16.nc\n",
      " Skipping existing block(2, 3) with nsamples=62505, existing file: /Volumes/Shared/Cache/spectraclass/DESIS/DESIS-HSI-L1C-DT0468853252_003-20200628T153803-V0210_b-250-250-2-3-m16.nc\n",
      " Skipping existing block(2, 4) with nsamples=62507, existing file: /Volumes/Shared/Cache/spectraclass/DESIS/DESIS-HSI-L1C-DT0468853252_003-20200628T153803-V0210_b-250-250-2-4-m16.nc\n",
      " Skipping existing block(2, 5) with nsamples=62355, existing file: /Volumes/Shared/Cache/spectraclass/DESIS/DESIS-HSI-L1C-DT0468853252_003-20200628T153803-V0210_b-250-250-2-5-m16.nc\n",
      " Skipping existing block(2, 6) with nsamples=24365, existing file: /Volumes/Shared/Cache/spectraclass/DESIS/DESIS-HSI-L1C-DT0468853252_003-20200628T153803-V0210_b-250-250-2-6-m16.nc\n",
      " Skipping existing block(3, 0) with nsamples=37687, existing file: /Volumes/Shared/Cache/spectraclass/DESIS/DESIS-HSI-L1C-DT0468853252_003-20200628T153803-V0210_b-250-250-3-0-m16.nc\n",
      " Skipping existing block(3, 1) with nsamples=62519, existing file: /Volumes/Shared/Cache/spectraclass/DESIS/DESIS-HSI-L1C-DT0468853252_003-20200628T153803-V0210_b-250-250-3-1-m16.nc\n",
      " Skipping existing block(3, 2) with nsamples=62518, existing file: /Volumes/Shared/Cache/spectraclass/DESIS/DESIS-HSI-L1C-DT0468853252_003-20200628T153803-V0210_b-250-250-3-2-m16.nc\n",
      " Skipping existing block(3, 3) with nsamples=62519, existing file: /Volumes/Shared/Cache/spectraclass/DESIS/DESIS-HSI-L1C-DT0468853252_003-20200628T153803-V0210_b-250-250-3-3-m16.nc\n",
      " Skipping existing block(3, 4) with nsamples=62518, existing file: /Volumes/Shared/Cache/spectraclass/DESIS/DESIS-HSI-L1C-DT0468853252_003-20200628T153803-V0210_b-250-250-3-4-m16.nc\n",
      " Skipping existing block(3, 5) with nsamples=57010, existing file: /Volumes/Shared/Cache/spectraclass/DESIS/DESIS-HSI-L1C-DT0468853252_003-20200628T153803-V0210_b-250-250-3-5-m16.nc\n",
      " Skipping existing block(3, 6) with nsamples=17292, existing file: /Volumes/Shared/Cache/spectraclass/DESIS/DESIS-HSI-L1C-DT0468853252_003-20200628T153803-V0210_b-250-250-3-6-m16.nc\n",
      " Skipping existing block(4, 0) with nsamples=825, existing file: /Volumes/Shared/Cache/spectraclass/DESIS/DESIS-HSI-L1C-DT0468853252_003-20200628T153803-V0210_b-250-250-4-0-m16.nc\n",
      " Skipping existing block(4, 1) with nsamples=43027, existing file: /Volumes/Shared/Cache/spectraclass/DESIS/DESIS-HSI-L1C-DT0468853252_003-20200628T153803-V0210_b-250-250-4-1-m16.nc\n",
      " Skipping existing block(4, 2) with nsamples=62534, existing file: /Volumes/Shared/Cache/spectraclass/DESIS/DESIS-HSI-L1C-DT0468853252_003-20200628T153803-V0210_b-250-250-4-2-m16.nc\n",
      " Skipping existing block(4, 3) with nsamples=62534, existing file: /Volumes/Shared/Cache/spectraclass/DESIS/DESIS-HSI-L1C-DT0468853252_003-20200628T153803-V0210_b-250-250-4-3-m16.nc\n",
      " Skipping existing block(4, 4) with nsamples=46438, existing file: /Volumes/Shared/Cache/spectraclass/DESIS/DESIS-HSI-L1C-DT0468853252_003-20200628T153803-V0210_b-250-250-4-4-m16.nc\n",
      " Skipping existing block(4, 5) with nsamples=6105, existing file: /Volumes/Shared/Cache/spectraclass/DESIS/DESIS-HSI-L1C-DT0468853252_003-20200628T153803-V0210_b-250-250-4-5-m16.nc\n",
      " Skipping existing block(4, 6) with nsamples=0, existing file: /Volumes/Shared/Cache/spectraclass/DESIS/DESIS-HSI-L1C-DT0468853252_003-20200628T153803-V0210_b-250-250-4-6-m16.nc\n",
      " Skipping existing block(5, 0) with nsamples=0, existing file: /Volumes/Shared/Cache/spectraclass/DESIS/DESIS-HSI-L1C-DT0468853252_003-20200628T153803-V0210_b-250-250-5-0-m16.nc\n",
      " Skipping existing block(5, 1) with nsamples=2131, existing file: /Volumes/Shared/Cache/spectraclass/DESIS/DESIS-HSI-L1C-DT0468853252_003-20200628T153803-V0210_b-250-250-5-1-m16.nc\n",
      " Skipping existing block(5, 2) with nsamples=46914, existing file: /Volumes/Shared/Cache/spectraclass/DESIS/DESIS-HSI-L1C-DT0468853252_003-20200628T153803-V0210_b-250-250-5-2-m16.nc\n",
      " Skipping existing block(5, 3) with nsamples=31391, existing file: /Volumes/Shared/Cache/spectraclass/DESIS/DESIS-HSI-L1C-DT0468853252_003-20200628T153803-V0210_b-250-250-5-3-m16.nc\n",
      " Skipping existing block(5, 4) with nsamples=671, existing file: /Volumes/Shared/Cache/spectraclass/DESIS/DESIS-HSI-L1C-DT0468853252_003-20200628T153803-V0210_b-250-250-5-4-m16.nc\n",
      " Skipping existing block(5, 5) with nsamples=0, existing file: /Volumes/Shared/Cache/spectraclass/DESIS/DESIS-HSI-L1C-DT0468853252_003-20200628T153803-V0210_b-250-250-5-5-m16.nc\n",
      " Skipping existing block(5, 6) with nsamples=0, existing file: /Volumes/Shared/Cache/spectraclass/DESIS/DESIS-HSI-L1C-DT0468853252_003-20200628T153803-V0210_b-250-250-5-6-m16.nc\n",
      " Skipping existing block(6, 0) with nsamples=0, existing file: /Volumes/Shared/Cache/spectraclass/DESIS/DESIS-HSI-L1C-DT0468853252_003-20200628T153803-V0210_b-250-250-6-0-m16.nc\n",
      " Skipping existing block(6, 1) with nsamples=0, existing file: /Volumes/Shared/Cache/spectraclass/DESIS/DESIS-HSI-L1C-DT0468853252_003-20200628T153803-V0210_b-250-250-6-1-m16.nc\n",
      " Skipping existing block(6, 2) with nsamples=443, existing file: /Volumes/Shared/Cache/spectraclass/DESIS/DESIS-HSI-L1C-DT0468853252_003-20200628T153803-V0210_b-250-250-6-2-m16.nc\n",
      " Skipping existing block(6, 3) with nsamples=0, existing file: /Volumes/Shared/Cache/spectraclass/DESIS/DESIS-HSI-L1C-DT0468853252_003-20200628T153803-V0210_b-250-250-6-3-m16.nc\n",
      " Skipping existing block(6, 4) with nsamples=0, existing file: /Volumes/Shared/Cache/spectraclass/DESIS/DESIS-HSI-L1C-DT0468853252_003-20200628T153803-V0210_b-250-250-6-4-m16.nc\n",
      " Skipping existing block(6, 5) with nsamples=0, existing file: /Volumes/Shared/Cache/spectraclass/DESIS/DESIS-HSI-L1C-DT0468853252_003-20200628T153803-V0210_b-250-250-6-5-m16.nc\n",
      " Skipping existing block(6, 6) with nsamples=0, existing file: /Volumes/Shared/Cache/spectraclass/DESIS/DESIS-HSI-L1C-DT0468853252_003-20200628T153803-V0210_b-250-250-6-6-m16.nc\n",
      "Writing metadata file: /Volumes/Shared/Cache/spectraclass/DESIS/DESIS-HSI-L1C-DT0468853252_003-20200628T153803-V0210.mdata.txt\n",
      "Completed Reading raster file /Volumes/Shared/Data/DESIS/DESIS-HSI-L1C-DT0468853252_003-20200628T153803-V0210-SPECTRAL_IMAGE.tif, dims = ('band', 'y', 'x'), shape = (235, 1713, 1520), time=0.01 sec\n"
     ]
    }
   ],
   "source": [
    "block_nsamples: Dict[Tuple,int] = dm.prepare_inputs( reprocess=False )\n",
    "dm.save_config( block_nsamples )\n",
    "\n",
    "\n",
    "\n"
   ]
  }
 ],
 "metadata": {
  "kernelspec": {
   "display_name": "Python 3",
   "language": "python",
   "name": "python3"
  },
  "language_info": {
   "codemirror_mode": {
    "name": "ipython",
    "version": 3
   },
   "file_extension": ".py",
   "mimetype": "text/x-python",
   "name": "python",
   "nbconvert_exporter": "python",
   "pygments_lexer": "ipython3",
   "version": "3.9.10"
  }
 },
 "nbformat": 4,
 "nbformat_minor": 4
}
