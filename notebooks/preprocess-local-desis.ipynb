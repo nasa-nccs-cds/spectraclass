{
 "cells": [
  {
   "cell_type": "code",
   "execution_count": 1,
   "metadata": {
    "collapsed": false,
    "jupyter": {
     "outputs_hidden": false
    },
    "pycharm": {
     "name": "#%%\n"
    }
   },
   "outputs": [
    {
     "ename": "SyntaxError",
     "evalue": "invalid syntax (3718781396.py, line 5)",
     "output_type": "error",
     "traceback": [
      "\u001B[0;36m  File \u001B[0;32m\"/var/folders/dc/56m8zr_s05l16twqpdwj_k7r0000gp/T/ipykernel_86819/3718781396.py\"\u001B[0;36m, line \u001B[0;32m5\u001B[0m\n\u001B[0;31m    immport os\u001B[0m\n\u001B[0m            ^\u001B[0m\n\u001B[0;31mSyntaxError\u001B[0m\u001B[0;31m:\u001B[0m invalid syntax\n"
     ]
    }
   ],
   "source": [
    "%matplotlib widget\n",
    "from spectraclass.data.base import DataManager\n",
    "from spectraclass.data.spatial.tile.manager import TileManager\n",
    "from spectraclass.data.base import ModeDataManager\n",
    "import os\n",
    "from typing import List, Union, Tuple, Optional, Dict, Callable"
   ]
  },
  {
   "cell_type": "markdown",
   "metadata": {},
   "source": [
    "Here we configure paths on the Jupyter server.  If these paths are not specified here then the default values,\n",
    "    defined in server-side config files, for the project (\"demo2\") and data mode (\"desis\"), will be used.  You can\n",
    "    choose whatever project names you want, they are used to save configurations and results for ongoing investigations."
   ]
  },
  {
   "cell_type": "code",
   "execution_count": null,
   "metadata": {
    "collapsed": false,
    "jupyter": {
     "outputs_hidden": false
    },
    "pycharm": {
     "name": "#%%\n"
    }
   },
   "outputs": [],
   "source": [
    "image_indices = [2,3,4] \n",
    "dm: DataManager = DataManager.initialize( \"demo2\", 'desis' )\n",
    "host = \"laptop\"\n",
    "\n",
    "if (host == \"laptop\"):\n",
    "    dm.modal.data_dir = os.path.expanduser(\"~/Development/Data/DESIS\")\n",
    "    dm.modal.cache_dir = os.path.expanduser(\"~/Development/Cache\")\n",
    "else:\n",
    "    dm.modal.cache_dir = \"/Volumes/Shared/Cache\"\n",
    "    dm.modal.data_dir = \"/Volumes/Shared/Data/DESIS\"\n",
    "    \n",
    "dm.modal.image_names = [ f\"DESIS-HSI-L1C-DT0468853252_00{index}-20200628T153803-V0210\" for index in image_indices ]\n",
    "TileManager.block_size = 250\n",
    "ModeDataManager.model_dims = 16"
   ]
  },
  {
   "cell_type": "markdown",
   "metadata": {},
   "source": [
    "This block is used to preprocess the dataset.  It only needs to be executed once per configuration."
   ]
  },
  {
   "cell_type": "code",
   "execution_count": null,
   "metadata": {
    "collapsed": false,
    "jupyter": {
     "outputs_hidden": false
    },
    "pycharm": {
     "name": "#%%\n"
    }
   },
   "outputs": [],
   "source": [
    "block_nsamples: Dict[Tuple,int] = dm.prepare_inputs( reprocess=True )\n",
    "dm.save_config( block_nsamples )"
   ]
  }
 ],
 "metadata": {
  "kernelspec": {
   "display_name": "Python 3 (ipykernel)",
   "language": "python",
   "name": "python3"
  },
  "language_info": {
   "codemirror_mode": {
    "name": "ipython",
    "version": 3
   },
   "file_extension": ".py",
   "mimetype": "text/x-python",
   "name": "python",
   "nbconvert_exporter": "python",
   "pygments_lexer": "ipython3",
   "version": "3.9.7"
  }
 },
 "nbformat": 4,
 "nbformat_minor": 4
}