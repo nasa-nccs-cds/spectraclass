{
 "cells": [
  {
   "cell_type": "code",
   "execution_count": 1,
   "metadata": {
    "collapsed": false,
    "jupyter": {
     "outputs_hidden": false
    },
    "pycharm": {
     "name": "#%%\n"
    }
   },
   "outputs": [
    {
     "name": "stdout",
     "output_type": "stream",
     "text": [
      "Using config file: '/Users/tpmaxwel/.spectraclass/config/desis/demo2.py'\n",
      "Opening log file:  '/Users/tpmaxwel/.spectraclass/logging/desis/demo2.log'\n",
      "Loading metadata from file: /Users/tpmaxwel/Development/Data/DESIS/DESIS-HSI-L1C-DT0468853252_002-20200628T153803-V0210.mdata.txt\n",
      "Initializing GUI using controller <class 'spectraclass.gui.spatial.application.Spectraclass'>\n"
     ]
    },
    {
     "data": {
      "application/vnd.jupyter.widget-view+json": {
       "model_id": "643529444c0f447b98325d1598d53331",
       "version_major": 2,
       "version_minor": 0
      },
      "text/plain": [
       "HBox(children=(VBox(children=(VBox(children=(HBox(children=(Button(description='Unlabeled', layout=Layout(bord…"
      ]
     },
     "metadata": {},
     "output_type": "display_data"
    }
   ],
   "source": [
    "%matplotlib widget\n",
    "from spectraclass.data.base import DataManager\n",
    "from spectraclass.data.spatial.tile.manager import TileManager\n",
    "from spectraclass.data.base import ModeDataManager\n",
    "from typing import List, Union, Tuple, Optional, Dict, Callable"
   ]
  },
  {
   "cell_type": "markdown",
   "source": [
    "Here we configure paths on the Jupyter server.  If these paths are not specified here then the default values,\n",
    "    defined in server-side config files, for the project (\"demo2\") and data mode (\"desis\"), will be used.  You can\n",
    "    choose whatever project names you want, they are used to save configurations and results for ongoing investigations."
   ],
   "metadata": {
    "collapsed": false
   }
  },
  {
   "cell_type": "code",
   "execution_count": null,
   "outputs": [],
   "source": [
    "image_indices = [2,3,4]\n",
    "dm: DataManager = DataManager.initialize( \"demo2\", 'desis' )\n",
    "dm.modal.cache_dir = \"/Volumes/Shared/Cache\"\n",
    "dm.modal.data_dir = \"/Volumes/Shared/Data/DESIS\"\n",
    "dm.modal.image_names = [ f\"DESIS-HSI-L1C-DT0468853252_00{index}-20200628T153803-V0210\" for index in image_indices ]\n",
    "TileManager.block_size = 256\n",
    "ModeDataManager.model_dims = 24"
   ],
   "metadata": {
    "collapsed": false,
    "pycharm": {
     "name": "#%%\n"
    }
   }
  },
  {
   "cell_type": "markdown",
   "source": [
    "This block is used to preprocess the dataset.  It only needs to be executed once."
   ],
   "metadata": {
    "collapsed": false
   }
  },
  {
   "cell_type": "code",
   "execution_count": null,
   "outputs": [],
   "source": [
    "block_nsamples: Dict[Tuple,int] = dm.prepare_inputs( reprocess=False )\n",
    "dm.save_config( block_nsamples )\n",
    "\n",
    "\n",
    "\n"
   ],
   "metadata": {
    "collapsed": false,
    "pycharm": {
     "name": "#%%\n"
    }
   }
  }
 ],
 "metadata": {
  "kernelspec": {
   "display_name": "ilab-kernel",
   "language": "python",
   "name": "python3"
  },
  "language_info": {
   "codemirror_mode": {
    "name": "ipython",
    "version": 3
   },
   "file_extension": ".py",
   "mimetype": "text/x-python",
   "name": "python",
   "nbconvert_exporter": "python",
   "pygments_lexer": "ipython3",
   "version": "3.7.12"
  }
 },
 "nbformat": 4,
 "nbformat_minor": 4
}