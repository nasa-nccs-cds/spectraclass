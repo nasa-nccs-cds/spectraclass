{
 "cells": [
  {
   "cell_type": "code",
   "execution_count": 1,
   "metadata": {
    "pycharm": {
     "name": "#%%\n"
    }
   },
   "outputs": [],
   "source": [
    "%matplotlib widget\n",
    "from spectraclass.data.base import DataManager\n",
    "from spectraclass.data.base import ModeDataManager\n",
    "from spectraclass.data.spatial.tile.manager import TileManager\n",
    "from spectraclass.application.controller import app, SpectraclassController\n",
    "from spectraclass.model.labels import LabelsManager, lm\n",
    "from spectraclass.data.spatial.modes import AvirisDataManager\n",
    "import os\n",
    "from typing import List, Union, Tuple, Optional, Dict, Callable\n",
    "host = \"desktop\" # \"desktop\" # \"laptop\""
   ]
  },
  {
   "cell_type": "markdown",
   "metadata": {
    "pycharm": {
     "name": "#%% md\n"
    }
   },
   "source": [
    "Here we configure paths on the Jupyter server.  If these paths are not specified here then the default values,\n",
    "    defined in server-side config files, for the project (\"demo2\") and data mode (\"desis\"), will be used.  You can\n",
    "    choose whatever project names you want, they are used to save configurations and results for ongoing investigations."
   ]
  },
  {
   "cell_type": "code",
   "execution_count": 2,
   "metadata": {
    "collapsed": false,
    "jupyter": {
     "outputs_hidden": false
    },
    "pycharm": {
     "name": "#%%\n"
    }
   },
   "outputs": [
    {
     "name": "stdout",
     "output_type": "stream",
     "text": [
      "Opening log file:  '/Users/tpmaxwel/.spectraclass/logging/aviris/img_mgr.log'\n",
      "Using config file: '/Users/tpmaxwel/Development/Projects/spectraclass/defaults/config.py'\n",
      "Using config file: '/Users/tpmaxwel/.spectraclass/config/aviris/img_mgr.py'\n"
     ]
    },
    {
     "name": "stderr",
     "output_type": "stream",
     "text": [
      "/Applications/anaconda3/envs/spectraclass.mba/lib/python3.9/site-packages/jupyter_client/session.py:716: UserWarning: Message serialization failed with:\n",
      "Out of range float values are not JSON compliant\n",
      "Supporting this message is deprecated in jupyter-client 7, please make sure your message is JSON-compliant\n",
      "  content = self.pack(content)\n"
     ]
    }
   ],
   "source": [
    "dm: DataManager = DataManager.initialize( \"img_mgr\", 'aviris' )\n",
    "location = \"desktop\"\n",
    "if location == \"adapt\":\n",
    "    dm.modal.cache_dir = \"/adapt/nobackup/projects/ilab/cache\"\n",
    "    dm.modal.data_dir = \"/css/above/daac.ornl.gov/daacdata/above/ABoVE_Airborne_AVIRIS_NG/data/\"\n",
    "elif location == \"desktop\":\n",
    "    dm.modal.cache_dir = \"/Volumes/Shared/Cache\"\n",
    "    dm.modal.data_dir = \"/Users/tpmaxwel/Development/Data/Aviris\"\n",
    "else: raise Exception( f\"Unknown location: {location}\")\n",
    "\n",
    "dm.modal.ext =  \"_img\"\n",
    "dm.proc_type = \"cpu\"\n",
    "TileManager.block_size = 256     # 250\n",
    "ModeDataManager.model_dims = 24  # 16\n",
    "TileManager.block_index = [0,0]\n",
    "AvirisDataManager.valid_aviris_bands = [ [5,193], [214,283], [319,10000] ]\n",
    "ModeDataManager.modelkey = \"0000\""
   ]
  },
  {
   "cell_type": "markdown",
   "metadata": {
    "pycharm": {
     "name": "#%% md\n"
    }
   },
   "source": [
    "Here we define a set of class names and associated colors to be used in the classification process."
   ]
  },
  {
   "cell_type": "code",
   "execution_count": 3,
   "metadata": {
    "collapsed": false,
    "jupyter": {
     "outputs_hidden": false
    },
    "pycharm": {
     "name": "#%%\n"
    }
   },
   "outputs": [],
   "source": [
    "classes = [ ('Class-1', \"cyan\"),\n",
    "            ('Class-2', \"green\"),\n",
    "            ('Class-3', \"magenta\"),\n",
    "            ('Class-4', \"blue\")]\n"
   ]
  },
  {
   "cell_type": "markdown",
   "metadata": {
    "pycharm": {
     "name": "#%% md\n"
    }
   },
   "source": [
    "Here we start up the Spectraclass GUI."
   ]
  },
  {
   "cell_type": "code",
   "execution_count": 4,
   "metadata": {
    "collapsed": false,
    "jupyter": {
     "outputs_hidden": false
    },
    "pycharm": {
     "name": "#%%\n"
    }
   },
   "outputs": [
    {
     "name": "stdout",
     "output_type": "stream",
     "text": [
      "Initializing GUI using controller <class 'spectraclass.gui.spatial.application.Spectraclass'>\n",
      "Completed Reading raster file /Users/tpmaxwel/Development/Data/Aviris/ang20170720t004130rfl/ang20170720t004130_rfl_v2p9/ang20170720t004130_corr_v2p9_img, dims = ('band', 'y', 'x'), shape = (425, 11746, 662)\n",
      "Loading metadata from file: /Volumes/Shared/Cache/spectraclass/aviris/img_mgr/ang20170720t004130rfl/ang20170720t004130_rfl_v2p9/ang20170720t004130_corr_v2p9_img.mdata.txt\n"
     ]
    },
    {
     "name": "stderr",
     "output_type": "stream",
     "text": [
      "/Users/tpmaxwel/Development/Projects/spectraclass/notebooks/spectraclass/gui/spatial/map.py:420: RuntimeWarning: All-NaN slice encountered\n",
      "  vrange = [ np.nanmin(fdata.values), np.nanmax(fdata.values) ]\n",
      "/Users/tpmaxwel/Development/Projects/spectraclass/notebooks/spectraclass/gui/spatial/map.py:370: RuntimeWarning: All-NaN slice encountered\n",
      "  lgm().log(f\"set_color_bounds: full data range = {[np.nanmin(fdata.values),np.nanmax(fdata.values)]}\")\n",
      "2022-05-23 16:51:28.519594: I tensorflow/core/platform/cpu_feature_guard.cc:151] This TensorFlow binary is optimized with oneAPI Deep Neural Network Library (oneDNN) to use the following CPU instructions in performance-critical operations:  SSE4.1 SSE4.2 AVX AVX2 FMA\n",
      "To enable them in other operations, rebuild TensorFlow with the appropriate compiler flags.\n"
     ]
    },
    {
     "ename": "TraitError",
     "evalue": "The 'geometry' trait of a Points instance expected a BaseGeometry or a BaseBufferGeometry, not the NoneType None.",
     "output_type": "error",
     "traceback": [
      "\u001B[0;31m---------------------------------------------------------------------------\u001B[0m",
      "\u001B[0;31mTraitError\u001B[0m                                Traceback (most recent call last)",
      "Input \u001B[0;32mIn [4]\u001B[0m, in \u001B[0;36m<cell line: 4>\u001B[0;34m()\u001B[0m\n\u001B[1;32m      2\u001B[0m lm()\u001B[38;5;241m.\u001B[39msetLabels( classes )\n\u001B[1;32m      3\u001B[0m controller: SpectraclassController \u001B[38;5;241m=\u001B[39m app()\n\u001B[0;32m----> 4\u001B[0m \u001B[43mcontroller\u001B[49m\u001B[38;5;241;43m.\u001B[39;49m\u001B[43mgui\u001B[49m\u001B[43m(\u001B[49m\u001B[43m)\u001B[49m\n",
      "File \u001B[0;32m~/Development/Projects/spectraclass/notebooks/spectraclass/gui/spatial/application.py:24\u001B[0m, in \u001B[0;36mSpectraclass.gui\u001B[0;34m(self, **kwargs)\u001B[0m\n\u001B[1;32m     22\u001B[0m \u001B[38;5;28mself\u001B[39m\u001B[38;5;241m.\u001B[39mset_spectraclass_theme()\n\u001B[1;32m     23\u001B[0m css_border \u001B[38;5;241m=\u001B[39m \u001B[38;5;124m'\u001B[39m\u001B[38;5;124m1px solid blue\u001B[39m\u001B[38;5;124m'\u001B[39m\n\u001B[0;32m---> 24\u001B[0m plot_collapsibles \u001B[38;5;241m=\u001B[39m ipw\u001B[38;5;241m.\u001B[39mAccordion( children \u001B[38;5;241m=\u001B[39m [ dm()\u001B[38;5;241m.\u001B[39mgui(), pm()\u001B[38;5;241m.\u001B[39mgui(), \u001B[43mpcm\u001B[49m\u001B[43m(\u001B[49m\u001B[43m)\u001B[49m\u001B[38;5;241;43m.\u001B[39;49m\u001B[43mgui\u001B[49m\u001B[43m(\u001B[49m\u001B[43m)\u001B[49m ], layout\u001B[38;5;241m=\u001B[39mipw\u001B[38;5;241m.\u001B[39mLayout(width\u001B[38;5;241m=\u001B[39m\u001B[38;5;124m'\u001B[39m\u001B[38;5;124m100\u001B[39m\u001B[38;5;124m%\u001B[39m\u001B[38;5;124m'\u001B[39m))\n\u001B[1;32m     25\u001B[0m \u001B[38;5;28;01mfor\u001B[39;00m iT, title \u001B[38;5;129;01min\u001B[39;00m \u001B[38;5;28menumerate\u001B[39m([\u001B[38;5;124m'\u001B[39m\u001B[38;5;124mdata\u001B[39m\u001B[38;5;124m'\u001B[39m, \u001B[38;5;124m'\u001B[39m\u001B[38;5;124mcontrols\u001B[39m\u001B[38;5;124m'\u001B[39m, \u001B[38;5;124m'\u001B[39m\u001B[38;5;124membedding\u001B[39m\u001B[38;5;124m'\u001B[39m ]): plot_collapsibles\u001B[38;5;241m.\u001B[39mset_title(iT, title)\n\u001B[1;32m     26\u001B[0m plot_collapsibles\u001B[38;5;241m.\u001B[39mselected_index \u001B[38;5;241m=\u001B[39m \u001B[38;5;241m1\u001B[39m\n",
      "File \u001B[0;32m~/Development/Projects/spectraclass/notebooks/spectraclass/gui/pointcloud.py:262\u001B[0m, in \u001B[0;36mPointCloudManager.gui\u001B[0;34m(self, **kwargs)\u001B[0m\n\u001B[1;32m    260\u001B[0m     lgm()\u001B[38;5;241m.\u001B[39mlog(\u001B[38;5;124mf\u001B[39m\u001B[38;5;124m\"\u001B[39m\u001B[38;5;124mCreating the PCM[\u001B[39m\u001B[38;5;132;01m{\u001B[39;00m\u001B[38;5;28mid\u001B[39m(\u001B[38;5;28mself\u001B[39m)\u001B[38;5;132;01m}\u001B[39;00m\u001B[38;5;124m] gui\u001B[39m\u001B[38;5;124m\"\u001B[39m)\n\u001B[1;32m    261\u001B[0m     \u001B[38;5;28mself\u001B[39m\u001B[38;5;241m.\u001B[39minit_data( \u001B[38;5;241m*\u001B[39m\u001B[38;5;241m*\u001B[39mkwargs )\n\u001B[0;32m--> 262\u001B[0m     \u001B[38;5;28mself\u001B[39m\u001B[38;5;241m.\u001B[39m_gui \u001B[38;5;241m=\u001B[39m \u001B[38;5;28;43mself\u001B[39;49m\u001B[38;5;241;43m.\u001B[39;49m\u001B[43m_get_gui\u001B[49m\u001B[43m(\u001B[49m\u001B[43m)\u001B[49m\n\u001B[1;32m    263\u001B[0m \u001B[38;5;28;01mreturn\u001B[39;00m \u001B[38;5;28mself\u001B[39m\u001B[38;5;241m.\u001B[39m_gui\n",
      "File \u001B[0;32m~/Development/Projects/spectraclass/notebooks/spectraclass/gui/pointcloud.py:232\u001B[0m, in \u001B[0;36mPointCloudManager._get_gui\u001B[0;34m(self)\u001B[0m\n\u001B[1;32m    231\u001B[0m \u001B[38;5;28;01mdef\u001B[39;00m \u001B[38;5;21m_get_gui\u001B[39m( \u001B[38;5;28mself\u001B[39m ) \u001B[38;5;241m-\u001B[39m\u001B[38;5;241m>\u001B[39m ipw\u001B[38;5;241m.\u001B[39mDOMWidget:\n\u001B[0;32m--> 232\u001B[0m     \u001B[38;5;28;43mself\u001B[39;49m\u001B[38;5;241;43m.\u001B[39;49m\u001B[43mcreatePoints\u001B[49m\u001B[43m(\u001B[49m\u001B[43m)\u001B[49m\n\u001B[1;32m    233\u001B[0m     \u001B[38;5;28mself\u001B[39m\u001B[38;5;241m.\u001B[39mscene \u001B[38;5;241m=\u001B[39m p3js\u001B[38;5;241m.\u001B[39mScene( children\u001B[38;5;241m=\u001B[39m[ \u001B[38;5;28mself\u001B[39m\u001B[38;5;241m.\u001B[39mpoints, \u001B[38;5;28mself\u001B[39m\u001B[38;5;241m.\u001B[39mcamera, p3js\u001B[38;5;241m.\u001B[39mAmbientLight(intensity\u001B[38;5;241m=\u001B[39m\u001B[38;5;241m0.8\u001B[39m)  ] )\n\u001B[1;32m    234\u001B[0m     \u001B[38;5;28mself\u001B[39m\u001B[38;5;241m.\u001B[39mrenderer \u001B[38;5;241m=\u001B[39m p3js\u001B[38;5;241m.\u001B[39mRenderer( scene\u001B[38;5;241m=\u001B[39m\u001B[38;5;28mself\u001B[39m\u001B[38;5;241m.\u001B[39mscene, camera\u001B[38;5;241m=\u001B[39m\u001B[38;5;28mself\u001B[39m\u001B[38;5;241m.\u001B[39mcamera, controls\u001B[38;5;241m=\u001B[39m[\u001B[38;5;28mself\u001B[39m\u001B[38;5;241m.\u001B[39morbit_controls], width\u001B[38;5;241m=\u001B[39m\u001B[38;5;241m800\u001B[39m, height\u001B[38;5;241m=\u001B[39m\u001B[38;5;241m500\u001B[39m )\n",
      "File \u001B[0;32m~/Development/Projects/spectraclass/notebooks/spectraclass/gui/pointcloud.py:214\u001B[0m, in \u001B[0;36mPointCloudManager.createPoints\u001B[0;34m(self, **kwargs)\u001B[0m\n\u001B[1;32m    212\u001B[0m points_geometry \u001B[38;5;241m=\u001B[39m \u001B[38;5;28mself\u001B[39m\u001B[38;5;241m.\u001B[39mgetGeometry( \u001B[38;5;241m*\u001B[39m\u001B[38;5;241m*\u001B[39mkwargs )\n\u001B[1;32m    213\u001B[0m points_material \u001B[38;5;241m=\u001B[39m p3js\u001B[38;5;241m.\u001B[39mPointsMaterial( vertexColors\u001B[38;5;241m=\u001B[39m\u001B[38;5;124m'\u001B[39m\u001B[38;5;124mVertexColors\u001B[39m\u001B[38;5;124m'\u001B[39m, transparent\u001B[38;5;241m=\u001B[39m\u001B[38;5;28;01mTrue\u001B[39;00m )\n\u001B[0;32m--> 214\u001B[0m \u001B[38;5;28mself\u001B[39m\u001B[38;5;241m.\u001B[39mpoints \u001B[38;5;241m=\u001B[39m \u001B[43mp3js\u001B[49m\u001B[38;5;241;43m.\u001B[39;49m\u001B[43mPoints\u001B[49m\u001B[43m(\u001B[49m\u001B[43m \u001B[49m\u001B[43mgeometry\u001B[49m\u001B[38;5;241;43m=\u001B[39;49m\u001B[43mpoints_geometry\u001B[49m\u001B[43m,\u001B[49m\u001B[43m \u001B[49m\u001B[43mmaterial\u001B[49m\u001B[38;5;241;43m=\u001B[39;49m\u001B[43mpoints_material\u001B[49m\u001B[43m \u001B[49m\u001B[43m)\u001B[49m\n",
      "File \u001B[0;32m/Applications/anaconda3/envs/spectraclass.mba/lib/python3.9/site-packages/pythreejs/objects/Points_autogen.py:33\u001B[0m, in \u001B[0;36mPoints.__init__\u001B[0;34m(self, geometry, material, **kwargs)\u001B[0m\n\u001B[1;32m     31\u001B[0m kwargs[\u001B[38;5;124m'\u001B[39m\u001B[38;5;124mgeometry\u001B[39m\u001B[38;5;124m'\u001B[39m] \u001B[38;5;241m=\u001B[39m geometry\n\u001B[1;32m     32\u001B[0m kwargs[\u001B[38;5;124m'\u001B[39m\u001B[38;5;124mmaterial\u001B[39m\u001B[38;5;124m'\u001B[39m] \u001B[38;5;241m=\u001B[39m material\n\u001B[0;32m---> 33\u001B[0m \u001B[38;5;28;43msuper\u001B[39;49m\u001B[43m(\u001B[49m\u001B[43mPoints\u001B[49m\u001B[43m,\u001B[49m\u001B[43m \u001B[49m\u001B[38;5;28;43mself\u001B[39;49m\u001B[43m)\u001B[49m\u001B[38;5;241;43m.\u001B[39;49m\u001B[38;5;21;43m__init__\u001B[39;49m\u001B[43m(\u001B[49m\u001B[38;5;241;43m*\u001B[39;49m\u001B[38;5;241;43m*\u001B[39;49m\u001B[43mkwargs\u001B[49m\u001B[43m)\u001B[49m\n",
      "File \u001B[0;32m/Applications/anaconda3/envs/spectraclass.mba/lib/python3.9/site-packages/pythreejs/core/Object3D_autogen.py:27\u001B[0m, in \u001B[0;36mObject3D.__init__\u001B[0;34m(self, **kwargs)\u001B[0m\n\u001B[1;32m     26\u001B[0m \u001B[38;5;28;01mdef\u001B[39;00m \u001B[38;5;21m__init__\u001B[39m(\u001B[38;5;28mself\u001B[39m, \u001B[38;5;241m*\u001B[39m\u001B[38;5;241m*\u001B[39mkwargs):\n\u001B[0;32m---> 27\u001B[0m     \u001B[38;5;28;43msuper\u001B[39;49m\u001B[43m(\u001B[49m\u001B[43mObject3D\u001B[49m\u001B[43m,\u001B[49m\u001B[43m \u001B[49m\u001B[38;5;28;43mself\u001B[39;49m\u001B[43m)\u001B[49m\u001B[38;5;241;43m.\u001B[39;49m\u001B[38;5;21;43m__init__\u001B[39;49m\u001B[43m(\u001B[49m\u001B[38;5;241;43m*\u001B[39;49m\u001B[38;5;241;43m*\u001B[39;49m\u001B[43mkwargs\u001B[49m\u001B[43m)\u001B[49m\n",
      "File \u001B[0;32m/Applications/anaconda3/envs/spectraclass.mba/lib/python3.9/site-packages/pythreejs/_base/Three.py:17\u001B[0m, in \u001B[0;36mThreeWidget.__init__\u001B[0;34m(self, **kwargs)\u001B[0m\n\u001B[1;32m     16\u001B[0m \u001B[38;5;28;01mdef\u001B[39;00m \u001B[38;5;21m__init__\u001B[39m(\u001B[38;5;28mself\u001B[39m, \u001B[38;5;241m*\u001B[39m\u001B[38;5;241m*\u001B[39mkwargs):\n\u001B[0;32m---> 17\u001B[0m     \u001B[38;5;28;43msuper\u001B[39;49m\u001B[43m(\u001B[49m\u001B[43mThreeWidget\u001B[49m\u001B[43m,\u001B[49m\u001B[43m \u001B[49m\u001B[38;5;28;43mself\u001B[39;49m\u001B[43m)\u001B[49m\u001B[38;5;241;43m.\u001B[39;49m\u001B[38;5;21;43m__init__\u001B[39;49m\u001B[43m(\u001B[49m\u001B[38;5;241;43m*\u001B[39;49m\u001B[38;5;241;43m*\u001B[39;49m\u001B[43mkwargs\u001B[49m\u001B[43m)\u001B[49m\n\u001B[1;32m     18\u001B[0m     \u001B[38;5;28mself\u001B[39m\u001B[38;5;241m.\u001B[39mon_msg(\u001B[38;5;28mself\u001B[39m\u001B[38;5;241m.\u001B[39m_on_potential_ret_val)\n",
      "File \u001B[0;32m/Applications/anaconda3/envs/spectraclass.mba/lib/python3.9/site-packages/ipywidgets/widgets/widget.py:412\u001B[0m, in \u001B[0;36mWidget.__init__\u001B[0;34m(self, **kwargs)\u001B[0m\n\u001B[1;32m    410\u001B[0m \u001B[38;5;124;03m\"\"\"Public constructor\"\"\"\u001B[39;00m\n\u001B[1;32m    411\u001B[0m \u001B[38;5;28mself\u001B[39m\u001B[38;5;241m.\u001B[39m_model_id \u001B[38;5;241m=\u001B[39m kwargs\u001B[38;5;241m.\u001B[39mpop(\u001B[38;5;124m'\u001B[39m\u001B[38;5;124mmodel_id\u001B[39m\u001B[38;5;124m'\u001B[39m, \u001B[38;5;28;01mNone\u001B[39;00m)\n\u001B[0;32m--> 412\u001B[0m \u001B[38;5;28;43msuper\u001B[39;49m\u001B[43m(\u001B[49m\u001B[43mWidget\u001B[49m\u001B[43m,\u001B[49m\u001B[43m \u001B[49m\u001B[38;5;28;43mself\u001B[39;49m\u001B[43m)\u001B[49m\u001B[38;5;241;43m.\u001B[39;49m\u001B[38;5;21;43m__init__\u001B[39;49m\u001B[43m(\u001B[49m\u001B[38;5;241;43m*\u001B[39;49m\u001B[38;5;241;43m*\u001B[39;49m\u001B[43mkwargs\u001B[49m\u001B[43m)\u001B[49m\n\u001B[1;32m    414\u001B[0m Widget\u001B[38;5;241m.\u001B[39m_call_widget_constructed(\u001B[38;5;28mself\u001B[39m)\n\u001B[1;32m    415\u001B[0m \u001B[38;5;28mself\u001B[39m\u001B[38;5;241m.\u001B[39mopen()\n",
      "File \u001B[0;32m/Applications/anaconda3/envs/spectraclass.mba/lib/python3.9/site-packages/traitlets/traitlets.py:1079\u001B[0m, in \u001B[0;36mHasTraits.__init__\u001B[0;34m(self, *args, **kwargs)\u001B[0m\n\u001B[1;32m   1077\u001B[0m \u001B[38;5;28;01mfor\u001B[39;00m key, value \u001B[38;5;129;01min\u001B[39;00m kwargs\u001B[38;5;241m.\u001B[39mitems():\n\u001B[1;32m   1078\u001B[0m     \u001B[38;5;28;01mif\u001B[39;00m \u001B[38;5;28mself\u001B[39m\u001B[38;5;241m.\u001B[39mhas_trait(key):\n\u001B[0;32m-> 1079\u001B[0m         \u001B[38;5;28;43msetattr\u001B[39;49m\u001B[43m(\u001B[49m\u001B[38;5;28;43mself\u001B[39;49m\u001B[43m,\u001B[49m\u001B[43m \u001B[49m\u001B[43mkey\u001B[49m\u001B[43m,\u001B[49m\u001B[43m \u001B[49m\u001B[43mvalue\u001B[49m\u001B[43m)\u001B[49m\n\u001B[1;32m   1080\u001B[0m     \u001B[38;5;28;01melse\u001B[39;00m:\n\u001B[1;32m   1081\u001B[0m         \u001B[38;5;66;03m# passthrough args that don't set traits to super\u001B[39;00m\n\u001B[1;32m   1082\u001B[0m         super_kwargs[key] \u001B[38;5;241m=\u001B[39m value\n",
      "File \u001B[0;32m/Applications/anaconda3/envs/spectraclass.mba/lib/python3.9/site-packages/traitlets/traitlets.py:606\u001B[0m, in \u001B[0;36mTraitType.__set__\u001B[0;34m(self, obj, value)\u001B[0m\n\u001B[1;32m    604\u001B[0m     \u001B[38;5;28;01mraise\u001B[39;00m TraitError(\u001B[38;5;124m'\u001B[39m\u001B[38;5;124mThe \u001B[39m\u001B[38;5;124m\"\u001B[39m\u001B[38;5;132;01m%s\u001B[39;00m\u001B[38;5;124m\"\u001B[39m\u001B[38;5;124m trait is read-only.\u001B[39m\u001B[38;5;124m'\u001B[39m \u001B[38;5;241m%\u001B[39m \u001B[38;5;28mself\u001B[39m\u001B[38;5;241m.\u001B[39mname)\n\u001B[1;32m    605\u001B[0m \u001B[38;5;28;01melse\u001B[39;00m:\n\u001B[0;32m--> 606\u001B[0m     \u001B[38;5;28;43mself\u001B[39;49m\u001B[38;5;241;43m.\u001B[39;49m\u001B[43mset\u001B[49m\u001B[43m(\u001B[49m\u001B[43mobj\u001B[49m\u001B[43m,\u001B[49m\u001B[43m \u001B[49m\u001B[43mvalue\u001B[49m\u001B[43m)\u001B[49m\n",
      "File \u001B[0;32m/Applications/anaconda3/envs/spectraclass.mba/lib/python3.9/site-packages/traitlets/traitlets.py:580\u001B[0m, in \u001B[0;36mTraitType.set\u001B[0;34m(self, obj, value)\u001B[0m\n\u001B[1;32m    579\u001B[0m \u001B[38;5;28;01mdef\u001B[39;00m \u001B[38;5;21mset\u001B[39m(\u001B[38;5;28mself\u001B[39m, obj, value):\n\u001B[0;32m--> 580\u001B[0m     new_value \u001B[38;5;241m=\u001B[39m \u001B[38;5;28;43mself\u001B[39;49m\u001B[38;5;241;43m.\u001B[39;49m\u001B[43m_validate\u001B[49m\u001B[43m(\u001B[49m\u001B[43mobj\u001B[49m\u001B[43m,\u001B[49m\u001B[43m \u001B[49m\u001B[43mvalue\u001B[49m\u001B[43m)\u001B[49m\n\u001B[1;32m    581\u001B[0m     \u001B[38;5;28;01mtry\u001B[39;00m:\n\u001B[1;32m    582\u001B[0m         old_value \u001B[38;5;241m=\u001B[39m obj\u001B[38;5;241m.\u001B[39m_trait_values[\u001B[38;5;28mself\u001B[39m\u001B[38;5;241m.\u001B[39mname]\n",
      "File \u001B[0;32m/Applications/anaconda3/envs/spectraclass.mba/lib/python3.9/site-packages/traitlets/traitlets.py:612\u001B[0m, in \u001B[0;36mTraitType._validate\u001B[0;34m(self, obj, value)\u001B[0m\n\u001B[1;32m    610\u001B[0m     \u001B[38;5;28;01mreturn\u001B[39;00m value\n\u001B[1;32m    611\u001B[0m \u001B[38;5;28;01mif\u001B[39;00m \u001B[38;5;28mhasattr\u001B[39m(\u001B[38;5;28mself\u001B[39m, \u001B[38;5;124m'\u001B[39m\u001B[38;5;124mvalidate\u001B[39m\u001B[38;5;124m'\u001B[39m):\n\u001B[0;32m--> 612\u001B[0m     value \u001B[38;5;241m=\u001B[39m \u001B[38;5;28;43mself\u001B[39;49m\u001B[38;5;241;43m.\u001B[39;49m\u001B[43mvalidate\u001B[49m\u001B[43m(\u001B[49m\u001B[43mobj\u001B[49m\u001B[43m,\u001B[49m\u001B[43m \u001B[49m\u001B[43mvalue\u001B[49m\u001B[43m)\u001B[49m\n\u001B[1;32m    613\u001B[0m \u001B[38;5;28;01mif\u001B[39;00m obj\u001B[38;5;241m.\u001B[39m_cross_validation_lock \u001B[38;5;129;01mis\u001B[39;00m \u001B[38;5;28;01mFalse\u001B[39;00m:\n\u001B[1;32m    614\u001B[0m     value \u001B[38;5;241m=\u001B[39m \u001B[38;5;28mself\u001B[39m\u001B[38;5;241m.\u001B[39m_cross_validate(obj, value)\n",
      "File \u001B[0;32m/Applications/anaconda3/envs/spectraclass.mba/lib/python3.9/site-packages/traitlets/traitlets.py:1987\u001B[0m, in \u001B[0;36mUnion.validate\u001B[0;34m(self, obj, value)\u001B[0m\n\u001B[1;32m   1985\u001B[0m         \u001B[38;5;28;01mexcept\u001B[39;00m TraitError:\n\u001B[1;32m   1986\u001B[0m             \u001B[38;5;28;01mcontinue\u001B[39;00m\n\u001B[0;32m-> 1987\u001B[0m \u001B[38;5;28;43mself\u001B[39;49m\u001B[38;5;241;43m.\u001B[39;49m\u001B[43merror\u001B[49m\u001B[43m(\u001B[49m\u001B[43mobj\u001B[49m\u001B[43m,\u001B[49m\u001B[43m \u001B[49m\u001B[43mvalue\u001B[49m\u001B[43m)\u001B[49m\n",
      "File \u001B[0;32m/Applications/anaconda3/envs/spectraclass.mba/lib/python3.9/site-packages/traitlets/traitlets.py:692\u001B[0m, in \u001B[0;36mTraitType.error\u001B[0;34m(self, obj, value, error, info)\u001B[0m\n\u001B[1;32m    689\u001B[0m \u001B[38;5;28;01melse\u001B[39;00m:\n\u001B[1;32m    690\u001B[0m     e \u001B[38;5;241m=\u001B[39m \u001B[38;5;124m\"\u001B[39m\u001B[38;5;124mThe \u001B[39m\u001B[38;5;124m'\u001B[39m\u001B[38;5;132;01m%s\u001B[39;00m\u001B[38;5;124m'\u001B[39m\u001B[38;5;124m trait expected \u001B[39m\u001B[38;5;132;01m%s\u001B[39;00m\u001B[38;5;124m, not \u001B[39m\u001B[38;5;132;01m%s\u001B[39;00m\u001B[38;5;124m.\u001B[39m\u001B[38;5;124m\"\u001B[39m \u001B[38;5;241m%\u001B[39m (\n\u001B[1;32m    691\u001B[0m         \u001B[38;5;28mself\u001B[39m\u001B[38;5;241m.\u001B[39mname, \u001B[38;5;28mself\u001B[39m\u001B[38;5;241m.\u001B[39minfo(), describe(\u001B[38;5;124m\"\u001B[39m\u001B[38;5;124mthe\u001B[39m\u001B[38;5;124m\"\u001B[39m, value))\n\u001B[0;32m--> 692\u001B[0m \u001B[38;5;28;01mraise\u001B[39;00m TraitError(e)\n",
      "\u001B[0;31mTraitError\u001B[0m: The 'geometry' trait of a Points instance expected a BaseGeometry or a BaseBufferGeometry, not the NoneType None."
     ]
    }
   ],
   "source": [
    "dm.loadCurrentProject()\n",
    "lm().setLabels( classes )\n",
    "controller: SpectraclassController = app()\n",
    "controller.gui()"
   ]
  },
  {
   "cell_type": "code",
   "execution_count": null,
   "metadata": {
    "collapsed": false,
    "jupyter": {
     "outputs_hidden": false
    },
    "pycharm": {
     "name": "#%%\n"
    }
   },
   "outputs": [],
   "source": []
  }
 ],
 "metadata": {
  "kernelspec": {
   "display_name": "Python 3",
   "language": "python",
   "name": "python3"
  },
  "language_info": {
   "codemirror_mode": {
    "name": "ipython",
    "version": 3
   },
   "file_extension": ".py",
   "mimetype": "text/x-python",
   "name": "python",
   "nbconvert_exporter": "python",
   "pygments_lexer": "ipython3",
   "version": "3.9.10"
  }
 },
 "nbformat": 4,
 "nbformat_minor": 4
}