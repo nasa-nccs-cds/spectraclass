{
 "cells": [
  {
   "cell_type": "code",
   "execution_count": 1,
   "metadata": {},
   "outputs": [
    {
     "name": "stderr",
     "output_type": "stream",
     "text": [
      "2023-01-26 18:05:25.922893: I tensorflow/core/util/util.cc:169] oneDNN custom operations are on. You may see slightly different numerical results due to floating-point round-off errors from different computation orders. To turn them off, set the environment variable `TF_ENABLE_ONEDNN_OPTS=0`.\n"
     ]
    }
   ],
   "source": [
    "from spectraclass.data.base import DataManager\n",
    "from spectraclass.reduction.trainer import mt\n",
    "from spectraclass.data.spatial.tile.manager import TileManager, tm\n",
    "from typing import List, Union, Tuple, Optional, Dict, Callable\n",
    "from spectraclass.data.modes import BlockSelectMode\n",
    "\n",
    "tm().reprocess = True\n",
    "mt().refresh_model = True\n",
    "\n",
    "block_size = 100\n",
    "model_dims = 3\n",
    "nepoch = 10\n",
    "focus_nepoch = 5\n",
    "focus_ratio = 10\n",
    "focus_threshold = 0.1\n",
    "niter = 100\n",
    "year= 2016\n",
    "version = \"beta_pmm\"\n",
    "roi = \"364203.7_4305235.0_365203.7_4306235.0\""
   ]
  },
  {
   "cell_type": "markdown",
   "metadata": {},
   "source": [
    "Here we configure paths on the Jupyter server.  If these paths are not specified here then the default values,\n",
    "    defined in server-side config files, for the project (\"demo2\") and data mode (\"desis\"), will be used.  You can\n",
    "    choose whatever project names you want, they are used to save configurations and results for ongoing investigations."
   ]
  },
  {
   "cell_type": "code",
   "execution_count": 0,
   "metadata": {
    "collapsed": false,
    "jupyter": {
     "outputs_hidden": false
    }
   },
   "outputs": [],
   "source": [
    "dm: DataManager = DataManager.initialize( \"AGB1\", 'neon' )\n",
    "dm.proc_type = \"cpu\"\n",
    "dm.modal.images_glob = f\"AGB/test/{version}/SERC_{year}_{roi}/SERC_{year}_Reflectance_reflectance_warp.tif\"\n",
    "tm().block_size = block_size\n",
    "mt().model_dims = model_dims\n",
    "mt().modelkey = f\"agp.neon.{version}.{year}.{roi}.{block_size}\"\n",
    "mt().nepoch = nepoch\n",
    "mt().focus_nepoch = focus_nepoch\n",
    "mt().focus_ratio = focus_ratio\n",
    "mt().focus_threshold = focus_threshold\n",
    "mt().niter = niter\n",
    "mt().log_step = 50"
   ]
  },
  {
   "cell_type": "markdown",
   "source": [
    "## Select Active Tiles"
   ],
   "metadata": {
    "collapsed": false
   }
  },
  {
   "cell_type": "code",
   "execution_count": 0,
   "outputs": [],
   "source": [
    "dm.preprocess_gui( mode=BlockSelectMode.SelectTile )"
   ],
   "metadata": {
    "collapsed": false
   }
  },
  {
   "cell_type": "code",
   "execution_count": 2,
   "outputs": [
    {
     "name": "stdout",
     "output_type": "stream",
     "text": [
      "Opening log file:  '/home/tpmaxwel/.spectraclass/logging/aviris/img_mgr.log'\n",
      "Using config file: '/panfs/ccds02/home/tpmaxwel/JupyterLinks/spectraclass-dev/defaults/config.py'\n",
      "Using config file: '/home/tpmaxwel/.spectraclass/config/aviris/img_mgr.py'\n"
     ]
    },
    {
     "name": "stderr",
     "output_type": "stream",
     "text": [
      "/panfs/ccds02/app/modules/jupyter/ilab/tensorflow-kernel/lib/python3.9/site-packages/IPython/core/interactiveshell.py:3194: UserWarning: Config option `use_model_data` not recognized by `DataManager`.\n",
      "  has_raised = await self.run_ast_nodes(code_ast.body, cell_name,\n",
      "/panfs/ccds02/home/tpmaxwel/JupyterLinks/spectraclass-dev/notebooks/spectraclass/model/base.py:26: UserWarning: Config option `reduce_target_block` not recognized by `AvirisDataManager`.  Did you mean one of: `reduce_method, reduce_nblocks, reduce_nepoch`?\n",
      "  inst = cls(*args, **kwargs)\n"
     ]
    }
   ],
   "source": [
    "## Run Preprocessing Workflow"
   ],
   "metadata": {
    "collapsed": false
   }
  },
  {
   "cell_type": "markdown",
   "metadata": {},
   "source": [
    "This block is used to preprocess the dataset."
   ]
  },
  {
   "cell_type": "code",
   "execution_count": null,
   "metadata": {
    "collapsed": false,
    "jupyter": {
     "outputs_hidden": false
    }
   },
   "outputs": [
    {
     "name": "stdout",
     "output_type": "stream",
     "text": [
      " Preparing inputs, reprocess=False\n",
      "Completed Reading raster file /css/above/daac.ornl.gov/daacdata/above/ABoVE_Airborne_AVIRIS_NG/data//ang20190801t150124rfl/ang20190801t150124_rfl_v2v2/ang20190801t150124_corr_v2v2_img, dims = ('band', 'y', 'x'), shape = (425, 14400, 724)\n",
      "#Tile[0]-> Read Data: shape = (425, 14400, 724), dims=('band', 'y', 'x')\n",
      " Processing metadata for image ang20190801t150124rfl/ang20190801t150124_rfl_v2v2/ang20190801t150124_corr_v2v2_img with 480 blocks.\n",
      "Completed Reading raster file /css/above/daac.ornl.gov/daacdata/above/ABoVE_Airborne_AVIRIS_NG/data//ang20190801t155049rfl/ang20190801t155049_rfl_v2v2/ang20190801t155049_corr_v2v2_img, dims = ('band', 'y', 'x'), shape = (425, 17846, 715)\n",
      "#Tile[1]-> Read Data: shape = (425, 17846, 715), dims=('band', 'y', 'x')\n",
      " Processing metadata for image ang20190801t155049rfl/ang20190801t155049_rfl_v2v2/ang20190801t155049_corr_v2v2_img with 595 blocks.\n",
      "Completed Reading raster file /css/above/daac.ornl.gov/daacdata/above/ABoVE_Airborne_AVIRIS_NG/data//ang20190801t151711rfl/ang20190801t151711_rfl_v2v2/ang20190801t151711_corr_v2v2_img, dims = ('band', 'y', 'x'), shape = (425, 14754, 724)\n",
      "#Tile[2]-> Read Data: shape = (425, 14754, 724), dims=('band', 'y', 'x')\n",
      " Processing metadata for image ang20190801t151711rfl/ang20190801t151711_rfl_v2v2/ang20190801t151711_corr_v2v2_img with 495 blocks.\n"
     ]
    }
   ],
   "source": [
    "dm.prepare_inputs()"
   ]
  }
 ],
 "metadata": {
  "kernelspec": {
   "display_name": "ILAB Kernel (TensorFlow)",
   "language": "python",
   "name": "tensorflow-kernel"
  },
  "language_info": {
   "codemirror_mode": {
    "name": "ipython",
    "version": 3
   },
   "file_extension": ".py",
   "mimetype": "text/x-python",
   "name": "python",
   "nbconvert_exporter": "python",
   "pygments_lexer": "ipython3",
   "version": "3.9.13"
  }
 },
 "nbformat": 4,
 "nbformat_minor": 4
}
