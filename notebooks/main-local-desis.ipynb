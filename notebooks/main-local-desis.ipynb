{
 "cells": [
  {
   "cell_type": "code",
   "execution_count": 1,
   "metadata": {
    "collapsed": false,
    "jupyter": {
     "outputs_hidden": false
    },
    "pycharm": {
     "name": "#%%\n"
    }
   },
   "outputs": [],
   "source": [
    "%matplotlib widget\n",
    "from spectraclass.data.base import DataManager\n",
    "from spectraclass.data.base import ModeDataManager\n",
    "from spectraclass.data.spatial.tile.manager import TileManager\n",
    "from spectraclass.application.controller import app, SpectraclassController\n",
    "from spectraclass.model.labels import LabelsManager, lm\n",
    "from typing import List, Union, Tuple, Optional, Dict, Callable\n",
    "import os"
   ]
  },
  {
   "cell_type": "markdown",
   "metadata": {},
   "source": [
    "Here we configure paths on the Jupyter server.  If these paths are not specified here then the default values,\n",
    "    defined in server-side config files, for the project (\"demo2\") and data mode (\"desis\"), will be used.  You can\n",
    "    choose whatever project names you want, they are used to save configurations and results for ongoing investigations."
   ]
  },
  {
   "cell_type": "code",
   "execution_count": 2,
   "metadata": {
    "collapsed": false,
    "jupyter": {
     "outputs_hidden": false
    },
    "pycharm": {
     "name": "#%%\n"
    }
   },
   "outputs": [
    {
     "name": "stdout",
     "output_type": "stream",
     "text": [
      "Opening log file:  '/Users/tpmaxwel/.spectraclass/logging/desis/demo2.log'\n",
      "Using config file: '/usr/local/web/ILAB/projects/spectraclass/defaults/config.py'\n",
      "Using config file: '/Users/tpmaxwel/.spectraclass/config/desis/demo2.py'\n"
     ]
    },
    {
     "name": "stderr",
     "output_type": "stream",
     "text": [
      "/opt/anaconda3/envs/spectraclass.mba/lib/python3.9/site-packages/spectraclass-0.1-py3.9.egg/spectraclass/model/base.py:20: UserWarning: Config option `reduce_scope` not recognized by `DesisDataManager`.  Did you mean one of: `reduce_method, reduce_nepochs, reduce_sparsity`?\n",
      "  inst = cls(*args, **kwargs)\n",
      "/opt/anaconda3/envs/spectraclass.mba/lib/python3.9/site-packages/spectraclass-0.1-py3.9.egg/spectraclass/model/base.py:20: UserWarning: Config option `subsample` not recognized by `DesisDataManager`.  Did you mean `subsample_index`?\n",
      "  inst = cls(*args, **kwargs)\n",
      "/opt/anaconda3/envs/spectraclass.mba/lib/python3.9/site-packages/jupyter_client/session.py:716: UserWarning: Message serialization failed with:\n",
      "Out of range float values are not JSON compliant\n",
      "Supporting this message is deprecated in jupyter-client 7, please make sure your message is JSON-compliant\n",
      "  content = self.pack(content)\n"
     ]
    }
   ],
   "source": [
    "dm: DataManager = DataManager.initialize( \"demo2\", 'desis' )\n",
    "host = \"desktop\"  #  \"laptop\"\n",
    "\n",
    "if (host == \"laptop\"):\n",
    "    dm.modal.data_dir = os.path.expanduser(\"~/Development/Data/DESIS\")\n",
    "    dm.modal.cache_dir = os.path.expanduser(\"/Volumes/archive/Cache\")\n",
    "else:\n",
    "    dm.modal.cache_dir = \"/Volumes/Shared/Cache\"\n",
    "    dm.modal.data_dir = \"/Volumes/Shared/Data/DESIS\"\n",
    "\n",
    "TileManager.block_size = 250\n",
    "ModeDataManager.model_dims = 16"
   ]
  },
  {
   "cell_type": "markdown",
   "metadata": {},
   "source": [
    "Here we define a set of class names and associated colors to be used in the classification process."
   ]
  },
  {
   "cell_type": "code",
   "execution_count": 3,
   "metadata": {
    "collapsed": false,
    "jupyter": {
     "outputs_hidden": false
    },
    "pycharm": {
     "name": "#%%\n"
    }
   },
   "outputs": [],
   "source": [
    "classes = [ ('Class-1', \"cyan\"),\n",
    "            ('Class-2', \"green\"),\n",
    "            ('Class-3', \"magenta\"),\n",
    "            ('Class-4', \"blue\")]\n"
   ]
  },
  {
   "cell_type": "markdown",
   "metadata": {
    "pycharm": {
     "name": "#%% md\n"
    }
   },
   "source": [
    "Here we start up the Spectraclass GUI."
   ]
  },
  {
   "cell_type": "code",
   "execution_count": null,
   "metadata": {
    "collapsed": false,
    "jupyter": {
     "outputs_hidden": false
    },
    "pycharm": {
     "name": "#%%\n"
    }
   },
   "outputs": [
    {
     "name": "stdout",
     "output_type": "stream",
     "text": [
      "Initializing GUI using controller <class 'spectraclass.gui.spatial.application.Spectraclass'>\n",
      "Completed Reading raster file /Users/tpmaxwel/Development/Data/DESIS/DESIS-HSI-L1C-DT0468853252_002-20200628T153803-V0210-SPECTRAL_IMAGE.tif, dims = ('band', 'y', 'x'), shape = (235, 1712, 1519), time=0.04 sec\n",
      "Loading metadata from file: /Users/tpmaxwel/Development/Cache/spectraclass/DESIS/DESIS-HSI-L1C-DT0468853252_002-20200628T153803-V0210.mdata.txt\n"
     ]
    },
    {
     "name": "stderr",
     "output_type": "stream",
     "text": [
      "2022-04-18 14:10:21.005108: I tensorflow/core/platform/cpu_feature_guard.cc:151] This TensorFlow binary is optimized with oneAPI Deep Neural Network Library (oneDNN) to use the following CPU instructions in performance-critical operations:  SSE4.1 SSE4.2 AVX AVX2 FMA\n",
      "To enable them in other operations, rebuild TensorFlow with the appropriate compiler flags.\n"
     ]
    },
    {
     "name": "stdout",
     "output_type": "stream",
     "text": [
      "Mon Apr 18 14:10:30 2022 Building RP forest with 18 trees\n",
      "Mon Apr 18 14:10:32 2022 NN descent for 32 iterations\n"
     ]
    },
    {
     "name": "stderr",
     "output_type": "stream",
     "text": [
      "OMP: Info #273: omp_set_nested routine deprecated, please use omp_set_max_active_levels instead.\n"
     ]
    },
    {
     "name": "stdout",
     "output_type": "stream",
     "text": [
      "\t 1  /  32\n",
      "\t 2  /  32\n",
      "\tStopping threshold met -- exiting after 2 iterations\n",
      "Mon Apr 18 14:10:42 2022 Building RP forest with 18 trees\n",
      "Mon Apr 18 14:10:42 2022 NN descent for 32 iterations\n",
      "\t 1  /  32\n",
      "\t 2  /  32\n",
      "\tStopping threshold met -- exiting after 2 iterations\n"
     ]
    }
   ],
   "source": [
    "dm.loadCurrentProject()\n",
    "lm().setLabels( classes )\n",
    "controller: SpectraclassController = app()\n",
    "controller.gui()"
   ]
  },
  {
   "cell_type": "code",
   "execution_count": null,
   "metadata": {
    "pycharm": {
     "name": "#%%\n"
    }
   },
   "outputs": [],
   "source": [
    "\n"
   ]
  }
 ],
 "metadata": {
  "kernelspec": {
   "display_name": "Python 3",
   "language": "python",
   "name": "python3"
  },
  "language_info": {
   "codemirror_mode": {
    "name": "ipython",
    "version": 3
   },
   "file_extension": ".py",
   "mimetype": "text/x-python",
   "name": "python",
   "nbconvert_exporter": "python",
   "pygments_lexer": "ipython3",
   "version": "3.9.10"
  }
 },
 "nbformat": 4,
 "nbformat_minor": 4
}
