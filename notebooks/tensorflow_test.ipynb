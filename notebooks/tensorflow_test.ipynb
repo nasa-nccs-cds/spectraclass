{
 "cells": [
  {
   "cell_type": "code",
   "execution_count": null,
   "metadata": {
    "collapsed": true,
    "pycharm": {
     "name": "#%%\n"
    }
   },
   "outputs": [],
   "source": [
    "nfeatures = 64\n",
    "import tensorflow as tf\n",
    "import numpy as np\n",
    "import xarray as xa\n",
    "from spectraclass.learn.base import LearningModel\n",
    "from spectraclass.learn.models.spatial import SpatialModelWrapper\n",
    "from spectraclass.data.base import DataManager\n",
    "from spectraclass.data.spatial.modes import AvirisDataManager\n",
    "from spectraclass.data.spatial.tile.tile import Block, Tile\n",
    "from typing import List, Union, Tuple, Optional, Dict, Callable\n",
    "from spectraclass.data.spatial.tile.manager import TileManager, tm\n",
    "from spectraclass.model.labels import LabelsManager, Action, lm\n",
    "\n",
    "def get_training_set( nclasses ) -> Tuple[np.ndarray, np.ndarray, np.ndarray, np.ndarray]:\n",
    "    block: Block = tm().getBlock()\n",
    "    base_data: xa.DataArray = block.getModelData(True)\n",
    "    tdims = [base_data.dims[1], base_data.dims[2], base_data.dims[0]]\n",
    "    training_data: np.ndarray = base_data.transpose(*tdims).fillna(0.0).expand_dims('batch', 0).values\n",
    "    grid_size = training_data.shape[1]*training_data.shape[2]\n",
    "    labels: np.ndarray = np.random.randint( 0, nclasses, [grid_size] )\n",
    "    training_labels = np.expand_dims(LearningModel.index_to_one_hot(labels), 0)\n",
    "    label_mask = np.expand_dims( (labels > 0), 0 )\n",
    "    sample_weights: np.ndarray = np.where(label_mask, 1.0, 0.0)\n",
    "    test_mask = np.full(label_mask.shape, False)\n",
    "    return (training_data, training_labels, sample_weights, test_mask )"
   ]
  },
  {
   "cell_type": "code",
   "execution_count": null,
   "outputs": [],
   "source": [
    "dm: DataManager = DataManager.initialize( \"img_mgr\", 'aviris' )\n",
    "location = \"explore\"\n",
    "if location == \"explore\":\n",
    "    dm.modal.cache_dir = \"/explore/nobackup/projects/ilab/cache\"\n",
    "    dm.modal.data_dir = \"/css/above/daac.ornl.gov/daacdata/above/ABoVE_Airborne_AVIRIS_NG/data/\"\n",
    "elif location == \"desktop\":\n",
    "    dm.modal.cache_dir = \"/Volumes/Shared/Cache\"\n",
    "    dm.modal.data_dir = \"/Users/tpmaxwel/Development/Data/Aviris/adapt\"\n",
    "else: raise Exception( f\"Unknown location: {location}\")\n",
    "\n",
    "block_size = 150\n",
    "method = \"aec\" # \"vae\"\n",
    "model_dims = 32\n",
    "version = \"v2v2\"\n",
    "month = \"201908\"\n",
    "\n",
    "dm.modal.ext =  \"_img\"\n",
    "dm.use_model_data = True\n",
    "dm.proc_type = \"skl\"\n",
    "dm.modal.images_glob = f\"ang{month}*rfl/ang*_rfl_{version}/ang*_corr_{version}_img\"\n",
    "TileManager.block_size = block_size\n",
    "TileManager.block_index = [1,7]\n",
    "AvirisDataManager.version = version\n",
    "dm.modal.valid_aviris_bands = [ [5,193], [214,283], [319,10000] ]\n",
    "dm.modal.model_dims = model_dims\n",
    "dm.modal.reduce_method = method\n",
    "dm.modal.reduce_nepoch = 3\n",
    "dm.modal.reduce_focus_nepoch = 10\n",
    "dm.modal.reduce_niter = 1\n",
    "dm.modal.reduce_focus_ratio = 10.0\n",
    "dm.modal.reduce_dropout = 0.0\n",
    "dm.modal.reduce_learning_rate = 1e-4\n",
    "dm.modal.refresh_model = False\n",
    "dm.modal.modelkey = f\"b{block_size}.{method}\""
   ],
   "metadata": {
    "collapsed": false,
    "pycharm": {
     "name": "#%%\n"
    }
   }
  },
  {
   "cell_type": "code",
   "execution_count": null,
   "outputs": [],
   "source": [
    "dm.loadCurrentProject()\n",
    "classes = [ ('Class-1', \"cyan\"),\n",
    "            ('Class-2', \"green\"),\n",
    "            ('Class-3', \"magenta\"),\n",
    "            ('Class-4', \"blue\") ]\n",
    "\n",
    "lm().setLabels( classes )\n",
    "\n",
    "input_shape = SpatialModelWrapper.get_input_shape()\n",
    "nclasses = lm().nLabels\n",
    "ks =  3\n",
    "nepochs = 100\n",
    "opt = tf.keras.optimizers.Adam(1e-3)\n",
    "loss = 'categorical_crossentropy'\n",
    "\n",
    "model = tf.keras.models.Sequential()\n",
    "model.add(tf.keras.layers.Input(shape=input_shape))\n",
    "model.add(tf.keras.layers.Conv2D(nfeatures, (ks, ks), activation='relu', padding=\"same\"))\n",
    "model.add(tf.keras.layers.Reshape(SpatialModelWrapper.flatten(input_shape, nfeatures)))\n",
    "model.add(tf.keras.layers.Dense(nfeatures, activation='relu'))\n",
    "model.add(tf.keras.layers.Dense(nclasses, activation='softmax'))\n",
    "model.compile( optimizer=opt, loss=loss, metrics=['accuracy'] )"
   ],
   "metadata": {
    "collapsed": false,
    "pycharm": {
     "name": "#%%\n"
    }
   }
  },
  {
   "cell_type": "code",
   "execution_count": null,
   "outputs": [],
   "source": [
    "training_data, training_labels, sample_weights, test_mask = get_training_set( len(classes)+1 )\n",
    "model.fit( training_data, training_labels, sample_weight=sample_weights, epochs=nepochs )\n"
   ],
   "metadata": {
    "collapsed": false,
    "pycharm": {
     "name": "#%%\n"
    }
   }
  }
 ],
 "metadata": {
  "kernelspec": {
   "display_name": "Python 3",
   "language": "python",
   "name": "python3"
  },
  "language_info": {
   "codemirror_mode": {
    "name": "ipython",
    "version": 2
   },
   "file_extension": ".py",
   "mimetype": "text/x-python",
   "name": "python",
   "nbconvert_exporter": "python",
   "pygments_lexer": "ipython2",
   "version": "2.7.6"
  }
 },
 "nbformat": 4,
 "nbformat_minor": 0
}