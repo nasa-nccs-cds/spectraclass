{
 "cells": [
  {
   "cell_type": "code",
   "execution_count": 1,
   "metadata": {},
   "outputs": [],
   "source": [
    "%matplotlib widget\n",
    "import os\n",
    "from spectraclass.data.base import DataManager\n",
    "from spectraclass.data.spatial.tile.manager import TileManager\n",
    "from spectraclass.data.base import ModeDataManager\n",
    "from typing import List, Union, Tuple, Optional, Dict, Callable\n",
    "host = \"desktop\" # \"desktop\" # \"laptop\""
   ]
  },
  {
   "cell_type": "markdown",
   "metadata": {},
   "source": [
    "Here we configure paths on the Jupyter server.  If these paths are not specified here then the default values,\n",
    "    defined in server-side config files, for the project (\"demo2\") and data mode (\"desis\"), will be used.  You can\n",
    "    choose whatever project names you want, they are used to save configurations and results for ongoing investigations."
   ]
  },
  {
   "cell_type": "code",
   "execution_count": 2,
   "metadata": {
    "collapsed": false,
    "jupyter": {
     "outputs_hidden": false
    },
    "pycharm": {
     "name": "#%%\n"
    }
   },
   "outputs": [
    {
     "name": "stdout",
     "output_type": "stream",
     "text": [
      "Opening log file:  '/Users/tpmaxwel/.spectraclass/logging/aviris/demo2.log'\n",
      "Using config file: '/usr/local/web/ILAB/projects/spectraclass/defaults/config.py'\n"
     ]
    }
   ],
   "source": [
    "dm: DataManager = DataManager.initialize( \"demo2\", 'aviris' )\n",
    "if (host == \"laptop\"):\n",
    "    dm.modal.data_dir = os.path.expanduser(\"~/Development/Data/Aviris/processed\")\n",
    "    dm.modal.cache_dir = os.path.expanduser(\"~/Development/Cache\")\n",
    "else:\n",
    "    dm.modal.cache_dir = \"/Volumes/Shared/Cache\"\n",
    "    dm.modal.data_dir = \"/Volumes/Shared/Data/Aviris\"\n",
    "dm.modal.image_names = [\"20170720t004130\"]\n",
    "TileManager.block_size = 256\n",
    "ModeDataManager.model_dims = 24"
   ]
  },
  {
   "cell_type": "markdown",
   "metadata": {
    "pycharm": {
     "name": "#%% md\n"
    }
   },
   "source": [
    "This block is used to preprocess the dataset."
   ]
  },
  {
   "cell_type": "code",
   "execution_count": null,
   "metadata": {
    "collapsed": false,
    "jupyter": {
     "outputs_hidden": false
    },
    "pycharm": {
     "name": "#%%\n"
    }
   },
   "outputs": [
    {
     "name": "stdout",
     "output_type": "stream",
     "text": [
      " Preparing inputs\n",
      "Completed Reading raster file /Users/tpmaxwel/Development/Data/Aviris/processed/ang20170720t004130_corr_v2p9.tif, dims = ('band', 'y', 'x'), shape = (425, 7753, 9664), time=0.09 sec\n",
      " Processing Block(0, 0), shape = [256, 256]\n",
      "Completed Reading raster file /Users/tpmaxwel/Development/Data/Aviris/processed/ang20170720t004130_corr_v2p9.tif, dims = ('band', 'y', 'x'), shape = (425, 7753, 9664), time=0.07 sec\n",
      " Read point data, shape = (1464, 425), dims = ('samples', 'band')\n",
      " Preparing point data with shape (1464, 425), range=(-20.583685, 20.589376, 5.916398e-10), #nan=0\n"
     ]
    },
    {
     "name": "stderr",
     "output_type": "stream",
     "text": [
      "2022-03-09 12:25:28.537363: I tensorflow/core/platform/cpu_feature_guard.cc:142] This TensorFlow binary is optimized with oneAPI Deep Neural Network Library (oneDNN) to use the following CPU instructions in performance-critical operations:  SSE4.1 SSE4.2 AVX AVX2 FMA\n",
      "To enable them in other operations, rebuild TensorFlow with the appropriate compiler flags.\n",
      "2022-03-09 12:25:28.716790: I tensorflow/compiler/mlir/mlir_graph_optimization_pass.cc:116] None of the MLIR optimization passes are enabled (registered 2)\n"
     ]
    },
    {
     "name": "stdout",
     "output_type": "stream",
     "text": [
      "Epoch 1/10\n",
      "6/6 [==============================] - 1s 7ms/step - loss: 0.8526\n",
      "Epoch 2/10\n",
      "6/6 [==============================] - 0s 7ms/step - loss: 0.3673\n",
      "Epoch 3/10\n",
      "6/6 [==============================] - 0s 6ms/step - loss: 0.3035\n",
      "Epoch 4/10\n",
      "6/6 [==============================] - 0s 6ms/step - loss: 0.2613\n",
      "Epoch 5/10\n",
      "6/6 [==============================] - 0s 7ms/step - loss: 0.2318\n",
      "Epoch 6/10\n",
      "6/6 [==============================] - 0s 6ms/step - loss: 0.2104\n",
      "Epoch 7/10\n",
      "6/6 [==============================] - 0s 7ms/step - loss: 0.1822\n",
      "Epoch 8/10\n",
      "6/6 [==============================] - 0s 6ms/step - loss: 0.1767\n",
      "Epoch 9/10\n",
      "6/6 [==============================] - 0s 6ms/step - loss: 0.1542\n",
      "Epoch 10/10\n",
      "6/6 [==============================] - 0s 6ms/step - loss: 0.1360\n",
      ".\n",
      "Writing metadata file: /Users/tpmaxwel/Development/Data/Aviris/processed/ang20170720t004130_corr_v2p9.mdata.txt\n",
      " Processing Block(0, 1), shape = [256, 256]\n",
      " Read point data, shape = (34602, 425), dims = ('samples', 'band')\n",
      " Preparing point data with shape (34602, 425), range=(-20.59126, 20.59126, -1.7652169e-10), #nan=0\n",
      "Epoch 1/10\n",
      "136/136 [==============================] - 1s 6ms/step - loss: 0.0869\n",
      "Epoch 2/10\n",
      "136/136 [==============================] - 1s 6ms/step - loss: 0.0565\n",
      "Epoch 3/10\n",
      "136/136 [==============================] - 1s 6ms/step - loss: 0.0474\n",
      "Epoch 4/10\n",
      "136/136 [==============================] - 1s 7ms/step - loss: 0.0400\n",
      "Epoch 5/10\n",
      "136/136 [==============================] - 1s 6ms/step - loss: 0.0360\n",
      "Epoch 6/10\n",
      "136/136 [==============================] - 1s 6ms/step - loss: 0.0330\n",
      "Epoch 7/10\n",
      "136/136 [==============================] - 1s 6ms/step - loss: 0.0309\n",
      "Epoch 8/10\n",
      "136/136 [==============================] - 1s 10ms/step - loss: 0.0288\n",
      "Epoch 9/10\n",
      "136/136 [==============================] - 1s 7ms/step - loss: 0.0269\n",
      "Epoch 10/10\n",
      "136/136 [==============================] - 1s 6ms/step - loss: 0.0256\n",
      ".\n",
      "Writing metadata file: /Users/tpmaxwel/Development/Data/Aviris/processed/ang20170720t004130_corr_v2p9.mdata.txt\n",
      " Processing Block(0, 2), shape = [256, 256]\n",
      " Read point data, shape = (25398, 425), dims = ('samples', 'band')\n",
      " Preparing point data with shape (25398, 425), range=(-20.59125, 20.59126, 3.2115602e-11), #nan=0\n",
      "Epoch 1/10\n",
      "100/100 [==============================] - 1s 6ms/step - loss: 0.0366\n",
      "Epoch 2/10\n",
      "100/100 [==============================] - 1s 6ms/step - loss: 0.0336\n",
      "Epoch 3/10\n",
      "100/100 [==============================] - 1s 6ms/step - loss: 0.0313\n",
      "Epoch 4/10\n",
      "100/100 [==============================] - 1s 6ms/step - loss: 0.0299\n",
      "Epoch 5/10\n",
      "100/100 [==============================] - 1s 6ms/step - loss: 0.0286\n",
      "Epoch 6/10\n",
      "100/100 [==============================] - 1s 6ms/step - loss: 0.0279\n",
      "Epoch 7/10\n",
      "100/100 [==============================] - 1s 6ms/step - loss: 0.0265\n",
      "Epoch 8/10\n",
      "100/100 [==============================] - 1s 6ms/step - loss: 0.0252\n",
      "Epoch 9/10\n",
      "100/100 [==============================] - 1s 7ms/step - loss: 0.0242\n",
      "Epoch 10/10\n",
      "100/100 [==============================] - 1s 7ms/step - loss: 0.0227\n",
      ".\n",
      "Writing metadata file: /Users/tpmaxwel/Development/Data/Aviris/processed/ang20170720t004130_corr_v2p9.mdata.txt\n",
      " Processing Block(0, 3), shape = [256, 256]\n",
      " Read point data, shape = (0, 425), dims = ('samples', 'band')\n",
      "Writing metadata file: /Users/tpmaxwel/Development/Data/Aviris/processed/ang20170720t004130_corr_v2p9.mdata.txt\n",
      " Processing Block(0, 4), shape = [256, 256]\n",
      " Read point data, shape = (0, 425), dims = ('samples', 'band')\n",
      "Writing metadata file: /Users/tpmaxwel/Development/Data/Aviris/processed/ang20170720t004130_corr_v2p9.mdata.txt\n",
      " Processing Block(0, 5), shape = [256, 256]\n",
      " Read point data, shape = (0, 425), dims = ('samples', 'band')\n",
      "Writing metadata file: /Users/tpmaxwel/Development/Data/Aviris/processed/ang20170720t004130_corr_v2p9.mdata.txt\n",
      " Processing Block(0, 6), shape = [256, 256]\n",
      " Read point data, shape = (0, 425), dims = ('samples', 'band')\n",
      "Writing metadata file: /Users/tpmaxwel/Development/Data/Aviris/processed/ang20170720t004130_corr_v2p9.mdata.txt\n",
      " Processing Block(0, 7), shape = [256, 256]\n",
      " Read point data, shape = (0, 425), dims = ('samples', 'band')\n",
      "Writing metadata file: /Users/tpmaxwel/Development/Data/Aviris/processed/ang20170720t004130_corr_v2p9.mdata.txt\n",
      " Processing Block(0, 8), shape = [256, 256]\n",
      " Read point data, shape = (0, 425), dims = ('samples', 'band')\n",
      "Writing metadata file: /Users/tpmaxwel/Development/Data/Aviris/processed/ang20170720t004130_corr_v2p9.mdata.txt\n",
      " Processing Block(0, 9), shape = [256, 256]\n",
      " Read point data, shape = (0, 425), dims = ('samples', 'band')\n",
      "Writing metadata file: /Users/tpmaxwel/Development/Data/Aviris/processed/ang20170720t004130_corr_v2p9.mdata.txt\n",
      " Processing Block(0, 10), shape = [256, 256]\n",
      " Read point data, shape = (0, 425), dims = ('samples', 'band')\n",
      "Writing metadata file: /Users/tpmaxwel/Development/Data/Aviris/processed/ang20170720t004130_corr_v2p9.mdata.txt\n",
      " Processing Block(0, 11), shape = [256, 256]\n",
      " Read point data, shape = (0, 425), dims = ('samples', 'band')\n",
      "Writing metadata file: /Users/tpmaxwel/Development/Data/Aviris/processed/ang20170720t004130_corr_v2p9.mdata.txt\n",
      " Processing Block(0, 12), shape = [256, 256]\n",
      " Read point data, shape = (0, 425), dims = ('samples', 'band')\n",
      "Writing metadata file: /Users/tpmaxwel/Development/Data/Aviris/processed/ang20170720t004130_corr_v2p9.mdata.txt\n",
      " Processing Block(0, 13), shape = [256, 256]\n",
      " Read point data, shape = (0, 425), dims = ('samples', 'band')\n",
      "Writing metadata file: /Users/tpmaxwel/Development/Data/Aviris/processed/ang20170720t004130_corr_v2p9.mdata.txt\n",
      " Processing Block(0, 14), shape = [256, 256]\n",
      " Read point data, shape = (0, 425), dims = ('samples', 'band')\n",
      "Writing metadata file: /Users/tpmaxwel/Development/Data/Aviris/processed/ang20170720t004130_corr_v2p9.mdata.txt\n",
      " Processing Block(0, 15), shape = [256, 256]\n",
      " Read point data, shape = (0, 425), dims = ('samples', 'band')\n",
      "Writing metadata file: /Users/tpmaxwel/Development/Data/Aviris/processed/ang20170720t004130_corr_v2p9.mdata.txt\n",
      " Processing Block(0, 16), shape = [256, 256]\n",
      " Read point data, shape = (0, 425), dims = ('samples', 'band')\n",
      "Writing metadata file: /Users/tpmaxwel/Development/Data/Aviris/processed/ang20170720t004130_corr_v2p9.mdata.txt\n",
      " Processing Block(0, 17), shape = [256, 256]\n",
      " Read point data, shape = (0, 425), dims = ('samples', 'band')\n",
      "Writing metadata file: /Users/tpmaxwel/Development/Data/Aviris/processed/ang20170720t004130_corr_v2p9.mdata.txt\n",
      " Processing Block(0, 18), shape = [256, 256]\n",
      " Read point data, shape = (0, 425), dims = ('samples', 'band')\n",
      "Writing metadata file: /Users/tpmaxwel/Development/Data/Aviris/processed/ang20170720t004130_corr_v2p9.mdata.txt\n",
      " Processing Block(0, 19), shape = [256, 256]\n",
      " Read point data, shape = (0, 425), dims = ('samples', 'band')\n",
      "Writing metadata file: /Users/tpmaxwel/Development/Data/Aviris/processed/ang20170720t004130_corr_v2p9.mdata.txt\n",
      " Processing Block(0, 20), shape = [256, 256]\n",
      " Read point data, shape = (0, 425), dims = ('samples', 'band')\n",
      "Writing metadata file: /Users/tpmaxwel/Development/Data/Aviris/processed/ang20170720t004130_corr_v2p9.mdata.txt\n",
      " Processing Block(0, 21), shape = [256, 256]\n",
      " Read point data, shape = (0, 425), dims = ('samples', 'band')\n",
      "Writing metadata file: /Users/tpmaxwel/Development/Data/Aviris/processed/ang20170720t004130_corr_v2p9.mdata.txt\n",
      " Processing Block(0, 22), shape = [256, 256]\n",
      " Read point data, shape = (0, 425), dims = ('samples', 'band')\n",
      "Writing metadata file: /Users/tpmaxwel/Development/Data/Aviris/processed/ang20170720t004130_corr_v2p9.mdata.txt\n",
      " Processing Block(0, 23), shape = [256, 256]\n",
      " Read point data, shape = (0, 425), dims = ('samples', 'band')\n",
      "Writing metadata file: /Users/tpmaxwel/Development/Data/Aviris/processed/ang20170720t004130_corr_v2p9.mdata.txt\n",
      " Processing Block(0, 24), shape = [256, 256]\n",
      " Read point data, shape = (0, 425), dims = ('samples', 'band')\n",
      "Writing metadata file: /Users/tpmaxwel/Development/Data/Aviris/processed/ang20170720t004130_corr_v2p9.mdata.txt\n",
      " Processing Block(0, 25), shape = [256, 256]\n",
      " Read point data, shape = (0, 425), dims = ('samples', 'band')\n",
      "Writing metadata file: /Users/tpmaxwel/Development/Data/Aviris/processed/ang20170720t004130_corr_v2p9.mdata.txt\n",
      " Processing Block(0, 26), shape = [256, 256]\n",
      " Read point data, shape = (0, 425), dims = ('samples', 'band')\n",
      "Writing metadata file: /Users/tpmaxwel/Development/Data/Aviris/processed/ang20170720t004130_corr_v2p9.mdata.txt\n",
      " Processing Block(0, 27), shape = [256, 256]\n",
      " Read point data, shape = (0, 425), dims = ('samples', 'band')\n",
      "Writing metadata file: /Users/tpmaxwel/Development/Data/Aviris/processed/ang20170720t004130_corr_v2p9.mdata.txt\n",
      " Processing Block(0, 28), shape = [256, 256]\n",
      " Read point data, shape = (0, 425), dims = ('samples', 'band')\n",
      "Writing metadata file: /Users/tpmaxwel/Development/Data/Aviris/processed/ang20170720t004130_corr_v2p9.mdata.txt\n",
      " Processing Block(0, 29), shape = [256, 256]\n",
      " Read point data, shape = (0, 425), dims = ('samples', 'band')\n",
      "Writing metadata file: /Users/tpmaxwel/Development/Data/Aviris/processed/ang20170720t004130_corr_v2p9.mdata.txt\n",
      " Processing Block(0, 30), shape = [256, 256]\n",
      " Read point data, shape = (0, 425), dims = ('samples', 'band')\n",
      "Writing metadata file: /Users/tpmaxwel/Development/Data/Aviris/processed/ang20170720t004130_corr_v2p9.mdata.txt\n",
      " Processing Block(1, 0), shape = [256, 256]\n",
      " Read point data, shape = (43110, 425), dims = ('samples', 'band')\n",
      " Preparing point data with shape (43110, 425), range=(-20.591255, 20.591253, 4.590941e-11), #nan=0\n",
      "Epoch 1/10\n",
      "169/169 [==============================] - 1s 6ms/step - loss: 0.0204\n",
      "Epoch 2/10\n",
      "169/169 [==============================] - 1s 6ms/step - loss: 0.0189\n",
      "Epoch 3/10\n",
      "169/169 [==============================] - 1s 6ms/step - loss: 0.0180\n",
      "Epoch 4/10\n",
      "169/169 [==============================] - 1s 6ms/step - loss: 0.0174\n",
      "Epoch 5/10\n",
      "169/169 [==============================] - 1s 6ms/step - loss: 0.0166\n",
      "Epoch 6/10\n",
      "169/169 [==============================] - 1s 6ms/step - loss: 0.0161\n",
      "Epoch 7/10\n",
      "169/169 [==============================] - 1s 6ms/step - loss: 0.0158\n",
      "Epoch 8/10\n",
      "169/169 [==============================] - 1s 6ms/step - loss: 0.0151\n",
      "Epoch 9/10\n",
      "169/169 [==============================] - 1s 6ms/step - loss: 0.0148\n",
      "Epoch 10/10\n",
      "169/169 [==============================] - 1s 6ms/step - loss: 0.0145\n",
      ".\n",
      "Writing metadata file: /Users/tpmaxwel/Development/Data/Aviris/processed/ang20170720t004130_corr_v2p9.mdata.txt\n",
      " Processing Block(1, 1), shape = [256, 256]\n",
      " Read point data, shape = (65543, 425), dims = ('samples', 'band')\n",
      " Preparing point data with shape (65543, 425), range=(-20.591259, 20.59126, 2.4786968e-11), #nan=0\n",
      "Epoch 1/10\n",
      "257/257 [==============================] - 2s 6ms/step - loss: 0.0123\n",
      "Epoch 2/10\n",
      "257/257 [==============================] - 2s 6ms/step - loss: 0.0114\n",
      "Epoch 3/10\n",
      "257/257 [==============================] - 2s 6ms/step - loss: 0.0110\n",
      "Epoch 4/10\n",
      "257/257 [==============================] - 2s 6ms/step - loss: 0.0106\n",
      "Epoch 5/10\n",
      "257/257 [==============================] - 2s 6ms/step - loss: 0.0102\n",
      "Epoch 6/10\n",
      "257/257 [==============================] - 2s 6ms/step - loss: 0.0100\n",
      "Epoch 7/10\n",
      "257/257 [==============================] - 2s 6ms/step - loss: 0.0096\n",
      "Epoch 8/10\n",
      "257/257 [==============================] - 2s 6ms/step - loss: 0.0093\n",
      "Epoch 9/10\n",
      "257/257 [==============================] - 2s 7ms/step - loss: 0.0091\n",
      "Epoch 10/10\n",
      "257/257 [==============================] - 2s 7ms/step - loss: 0.0089\n",
      ".\n",
      "Writing metadata file: /Users/tpmaxwel/Development/Data/Aviris/processed/ang20170720t004130_corr_v2p9.mdata.txt\n",
      " Processing Block(1, 2), shape = [256, 256]\n"
     ]
    }
   ],
   "source": [
    "block_nsamples: Dict[Tuple,int] = dm.prepare_inputs( reprocess=False )\n",
    "dm.save_config( block_nsamples )\n"
   ]
  }
 ],
 "metadata": {
  "kernelspec": {
   "display_name": "Python 3",
   "language": "python",
   "name": "python3"
  },
  "language_info": {
   "codemirror_mode": {
    "name": "ipython",
    "version": 3
   },
   "file_extension": ".py",
   "mimetype": "text/x-python",
   "name": "python",
   "nbconvert_exporter": "python",
   "pygments_lexer": "ipython3",
   "version": "3.9.10"
  }
 },
 "nbformat": 4,
 "nbformat_minor": 4
}