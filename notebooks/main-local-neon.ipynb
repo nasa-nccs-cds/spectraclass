{
 "cells": [
  {
   "cell_type": "code",
   "execution_count": null,
   "metadata": {
    "pycharm": {
     "is_executing": true
    }
   },
   "outputs": [],
   "source": [
    "import xarray as xa\n",
    "import holoviews as hv\n",
    "import panel as pn\n",
    "from spectraclass.gui.spatial.viewer import RasterCollectionsViewer\n",
    "from spectraclass.gui.spatial.widgets.hv.spectral_layer import SpectralLayer\n",
    "from spectraclass.gui.spatial.map import MapManager, mm\n",
    "from spectraclass.data.base import DataManager\n",
    "from spectraclass.data.spatial.tile.manager import TileManager\n",
    "from spectraclass.model.labels import LabelsManager, lm\n",
    "from typing import List, Union, Tuple, Optional, Dict, Callable\n",
    "pn.extension()\n",
    "hv.extension('bokeh')"
   ]
  },
  {
   "cell_type": "markdown",
   "metadata": {},
   "source": [
    "Here we configure paths on the Jupyter server.  If these paths are not specified here then the default values,\n",
    "    defined in server-side config files, for the project (\"demo2\") and data mode (\"desis\"), will be used.  You can\n",
    "    choose whatever project names you want, they are used to save configurations and results for ongoing investigations."
   ]
  },
  {
   "cell_type": "code",
   "execution_count": null,
   "metadata": {
    "collapsed": false,
    "jupyter": {
     "outputs_hidden": false
    }
   },
   "outputs": [],
   "source": [
    "dm: DataManager = DataManager.initialize( \"AGB\", 'neon' )\n",
    "\n",
    "dm.modal.cache_dir = \"/Volumes/archive/spectraclass/logs\"\n",
    "dm.modal.data_dir  = \"/Volumes/archive/data/\"\n",
    "\n",
    "block_size = 150\n",
    "method = \"aec\" # \"vae\"\n",
    "model_dims = 32\n",
    "year= 2015\n",
    "version = \"beta_pmm\"\n",
    "roi = \"541567.6_4136443.0_542567.6_4137443.0\"\n",
    "nclasses = 5\n",
    "\n",
    "dm.proc_type = \"cpu\"\n",
    "dm.modal.images_glob = f\"AGB/test/{version}/MLBS_{year}_Reflectance_reflectance_warp.tif\"\n",
    "TileManager.block_size = block_size\n",
    "TileManager.reprocess = False\n",
    "dm.modal.model_dims = model_dims\n",
    "dm.modal.reduce_method = method\n",
    "dm.modal.reduce_nepoch = 2\n",
    "dm.modal.reduce_focus_nepoch = 0\n",
    "dm.modal.reduce_niter = 12\n",
    "dm.modal.reduce_focus_ratio = 10.0\n",
    "dm.modal.reduce_dropout = 0.0\n",
    "dm.modal.reduce_learning_rate = 1e-4\n",
    "dm.modal.refresh_model = False\n",
    "dm.modal.reduce_nblocks = 1000\n",
    "dm.modal.reduce_nimages = 100\n",
    "dm.modal.modelkey = f\"b{block_size}.{version}.{year}.{roi}\""
   ]
  },
  {
   "cell_type": "markdown",
   "metadata": {},
   "source": [
    "Here we load the project data and define a set of class names and associated colors to be used in the classification process."
   ]
  },
  {
   "cell_type": "code",
   "execution_count": null,
   "metadata": {
    "collapsed": false,
    "jupyter": {
     "outputs_hidden": false
    }
   },
   "outputs": [],
   "source": [
    "dm.loadCurrentProject()\n",
    "classes = [ ('air', \"cyan\"),\n",
    "            ('water', \"blue\"),\n",
    "            ('fire', \"magenta\"),\n",
    "            ('earth', \"green\") ]\n",
    "\n",
    "lm().setLabels( classes )"
   ]
  },
  {
   "cell_type": "code",
   "execution_count": null,
   "metadata": {
    "collapsed": false,
    "jupyter": {
     "outputs_hidden": false
    },
    "tags": []
   },
   "outputs": [],
   "source": [
    "dset_names: List[str] = list(dm.modal.datasets.keys())\n",
    "dset: Dict[str,xa.DataArray] = dm.modal.datasets[ dset_names[0] ]\n",
    "fdata: xa.DataArray = mm().data.rename( dict(band='feature') )\n",
    "sdata: xa.DataArray = dset['raw']\n",
    "viewer = RasterCollectionsViewer( dict( features=fdata, bands=sdata ) )\n",
    "viewer.panel()"
   ]
  },
  {
   "cell_type": "code",
   "execution_count": null,
   "metadata": {
    "tags": []
   },
   "outputs": [],
   "source": [
    "#layer = SpectralLayer( sdata )\n",
    "#layer.plot()"
   ]
  }
 ],
 "metadata": {
  "kernelspec": {
   "display_name": "Python [conda env:spectraclass.hv] *",
   "language": "python",
   "name": "conda-env-spectraclass.hv-py"
  },
  "language_info": {
   "codemirror_mode": {
    "name": "ipython",
    "version": 3
   },
   "file_extension": ".py",
   "mimetype": "text/x-python",
   "name": "python",
   "nbconvert_exporter": "python",
   "pygments_lexer": "ipython3",
   "version": "3.10.10"
  }
 },
 "nbformat": 4,
 "nbformat_minor": 4
}
