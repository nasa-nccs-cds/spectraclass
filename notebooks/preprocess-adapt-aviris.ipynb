{
 "cells": [
  {
   "cell_type": "code",
   "execution_count": 1,
   "metadata": {
    "pycharm": {
     "name": "#%%\n"
    }
   },
   "outputs": [],
   "source": [
    "%matplotlib widget\n",
    "from spectraclass.data.base import DataManager\n",
    "from spectraclass.data.spatial.tile.manager import TileManager\n",
    "from spectraclass.data.spatial.modes import AvirisDataManager\n",
    "from typing import List, Union, Tuple, Optional, Dict, Callable"
   ]
  },
  {
   "cell_type": "markdown",
   "metadata": {
    "pycharm": {
     "name": "#%% md\n"
    }
   },
   "source": [
    "Here we configure paths on the Jupyter server.  If these paths are not specified here then the default values,\n",
    "    defined in server-side config files, for the project (\"demo2\") and data mode (\"desis\"), will be used.  You can\n",
    "    choose whatever project names you want, they are used to save configurations and results for ongoing investigations."
   ]
  },
  {
   "cell_type": "code",
   "execution_count": 2,
   "metadata": {
    "collapsed": false,
    "jupyter": {
     "outputs_hidden": false
    },
    "pycharm": {
     "name": "#%%\n"
    }
   },
   "outputs": [
    {
     "name": "stdout",
     "output_type": "stream",
     "text": [
      "Opening log file:  '/home/tpmaxwel/.spectraclass/logging/aviris/demo2.log'\n",
      "Using config file: '/gpfsm/ccds01/nobackup/projects/ilab/projects/spectraclass/defaults/config.py'\n",
      "Using config file: '/home/tpmaxwel/.spectraclass/config/aviris/demo2.py'\n"
     ]
    },
    {
     "name": "stderr",
     "output_type": "stream",
     "text": [
      "/gpfsm/ccds01/home/appmgr/app/jupyterhub/ilab/kernel/lib/python3.7/site-packages/jupyter_client/session.py:716: UserWarning: Message serialization failed with:\n",
      "Out of range float values are not JSON compliant\n",
      "Supporting this message is deprecated in jupyter-client 7, please make sure your message is JSON-compliant\n",
      "  content = self.pack(content)\n"
     ]
    }
   ],
   "source": [
    "dm: DataManager = DataManager.initialize( \"img_mgr\", 'aviris' )\n",
    "\n",
    "dm.modal.cache_dir = \"/explore/nobackup/projects/ilab/cache\"\n",
    "dm.modal.data_dir = \"/css/above/daac.ornl.gov/daacdata/above/ABoVE_Airborne_AVIRIS_NG/data/\"\n",
    "dm.modal.images_glob =  \"ang20170731t222832rfl/ang*_rfl_v2p9/ang*_corr_v2p9_img\"\n",
    "\n",
    "block_size = 170\n",
    "method = \"aec\" # \"vae\"\n",
    "model_dims = 24\n",
    "version = \"v2v2\"\n",
    "month = \"20190801\"\n",
    "\n",
    "dm.modal.ext =  \"_img\"\n",
    "dm.proc_type = \"cpu\"\n",
    "dm.modal.images_glob = f\"ang{month}*rfl/ang*_rfl_{version}/ang*_corr_{version}_img\"\n",
    "TileManager.block_size = block_size\n",
    "TileManager.reprocess = False\n",
    "AvirisDataManager.version = version\n",
    "dm.modal.valid_aviris_bands = [[0,196],[208,287],[309,10000]]\n",
    "dm.modal.model_dims = model_dims\n",
    "dm.modal.reduce_method = method\n",
    "dm.modal.reduce_nepoch = 3\n",
    "dm.modal.reduce_focus_nepoch = 10\n",
    "dm.modal.reduce_niter = 1\n",
    "dm.modal.reduce_focus_ratio = 10.0\n",
    "dm.modal.reduce_dropout = 0.0\n",
    "dm.modal.reduce_learning_rate = 1e-4\n",
    "dm.modal.refresh_model = False\n",
    "dm.modal.modelkey = f\"b{block_size}.{method}\""
   ]
  },
  {
   "cell_type": "markdown",
   "metadata": {
    "pycharm": {
     "name": "#%% md\n"
    }
   },
   "source": [
    "This block is used to preprocess the dataset."
   ]
  },
  {
   "cell_type": "code",
   "execution_count": null,
   "metadata": {
    "collapsed": false,
    "jupyter": {
     "outputs_hidden": false
    },
    "pycharm": {
     "name": "#%%\n"
    }
   },
   "outputs": [
    {
     "name": "stdout",
     "output_type": "stream",
     "text": [
      " Preparing inputs\n",
      "Completed Reading raster file /adapt/nobackup/projects/ilab/data/Aviris/ang20170720t004130_corr_v2p9.tif, dims = ('band', 'y', 'x'), shape = (425, 7753, 9664), time=0.14 sec\n",
      " Processing Block(0, 0), shape = [500, 500]\n",
      "Completed Reading raster file /adapt/nobackup/projects/ilab/data/Aviris/ang20170720t004130_corr_v2p9.tif, dims = ('band', 'y', 'x'), shape = (425, 7753, 9664), time=0.06 sec\n",
      " Read point data, shape = (134321, 363), dims = ('samples', 'band')\n",
      " Preparing point data with shape (134321, 363), range=(-18.78357, 17.389828, -1.1516416e-10), #nan=0\n"
     ]
    },
    {
     "name": "stderr",
     "output_type": "stream",
     "text": [
      "2022-02-10 15:06:35.294316: I tensorflow/stream_executor/platform/default/dso_loader.cc:49] Successfully opened dynamic library libcudart.so.11.0\n",
      "2022-02-10 15:06:51.266122: I tensorflow/compiler/jit/xla_cpu_device.cc:41] Not creating XLA devices, tf_xla_enable_xla_devices not set\n",
      "2022-02-10 15:06:51.266353: I tensorflow/stream_executor/platform/default/dso_loader.cc:49] Successfully opened dynamic library libcuda.so.1\n",
      "2022-02-10 15:06:51.338245: I tensorflow/core/common_runtime/gpu/gpu_device.cc:1720] Found device 0 with properties: \n",
      "pciBusID: 0000:61:00.0 name: Tesla V100-SXM2-32GB computeCapability: 7.0\n",
      "coreClock: 1.53GHz coreCount: 80 deviceMemorySize: 31.75GiB deviceMemoryBandwidth: 836.37GiB/s\n",
      "2022-02-10 15:06:51.338299: I tensorflow/stream_executor/platform/default/dso_loader.cc:49] Successfully opened dynamic library libcudart.so.11.0\n",
      "2022-02-10 15:06:51.338349: I tensorflow/stream_executor/platform/default/dso_loader.cc:49] Successfully opened dynamic library libcublas.so.11\n",
      "2022-02-10 15:06:51.338377: I tensorflow/stream_executor/platform/default/dso_loader.cc:49] Successfully opened dynamic library libcublasLt.so.11\n",
      "2022-02-10 15:06:51.338410: I tensorflow/stream_executor/platform/default/dso_loader.cc:49] Successfully opened dynamic library libcufft.so.10\n",
      "2022-02-10 15:06:51.338434: I tensorflow/stream_executor/platform/default/dso_loader.cc:49] Successfully opened dynamic library libcurand.so.10\n",
      "2022-02-10 15:06:51.338456: I tensorflow/stream_executor/platform/default/dso_loader.cc:49] Successfully opened dynamic library libcusolver.so.10\n",
      "2022-02-10 15:06:51.338479: I tensorflow/stream_executor/platform/default/dso_loader.cc:49] Successfully opened dynamic library libcusparse.so.11\n",
      "2022-02-10 15:06:51.338506: I tensorflow/stream_executor/platform/default/dso_loader.cc:49] Successfully opened dynamic library libcudnn.so.8\n",
      "2022-02-10 15:06:51.340836: I tensorflow/core/common_runtime/gpu/gpu_device.cc:1862] Adding visible gpu devices: 0\n",
      "2022-02-10 15:06:51.341477: I tensorflow/core/platform/cpu_feature_guard.cc:142] This TensorFlow binary is optimized with oneAPI Deep Neural Network Library (oneDNN) to use the following CPU instructions in performance-critical operations:  AVX512F\n",
      "To enable them in other operations, rebuild TensorFlow with the appropriate compiler flags.\n",
      "2022-02-10 15:06:51.347445: I tensorflow/compiler/jit/xla_gpu_device.cc:99] Not creating XLA devices, tf_xla_enable_xla_devices not set\n",
      "2022-02-10 15:06:51.348931: I tensorflow/core/common_runtime/gpu/gpu_device.cc:1720] Found device 0 with properties: \n",
      "pciBusID: 0000:61:00.0 name: Tesla V100-SXM2-32GB computeCapability: 7.0\n",
      "coreClock: 1.53GHz coreCount: 80 deviceMemorySize: 31.75GiB deviceMemoryBandwidth: 836.37GiB/s\n",
      "2022-02-10 15:06:51.348974: I tensorflow/stream_executor/platform/default/dso_loader.cc:49] Successfully opened dynamic library libcudart.so.11.0\n",
      "2022-02-10 15:06:51.348988: I tensorflow/stream_executor/platform/default/dso_loader.cc:49] Successfully opened dynamic library libcublas.so.11\n",
      "2022-02-10 15:06:51.349012: I tensorflow/stream_executor/platform/default/dso_loader.cc:49] Successfully opened dynamic library libcublasLt.so.11\n",
      "2022-02-10 15:06:51.349029: I tensorflow/stream_executor/platform/default/dso_loader.cc:49] Successfully opened dynamic library libcufft.so.10\n",
      "2022-02-10 15:06:51.349042: I tensorflow/stream_executor/platform/default/dso_loader.cc:49] Successfully opened dynamic library libcurand.so.10\n",
      "2022-02-10 15:06:51.349054: I tensorflow/stream_executor/platform/default/dso_loader.cc:49] Successfully opened dynamic library libcusolver.so.10\n",
      "2022-02-10 15:06:51.349066: I tensorflow/stream_executor/platform/default/dso_loader.cc:49] Successfully opened dynamic library libcusparse.so.11\n",
      "2022-02-10 15:06:51.349079: I tensorflow/stream_executor/platform/default/dso_loader.cc:49] Successfully opened dynamic library libcudnn.so.8\n",
      "2022-02-10 15:06:51.351187: I tensorflow/core/common_runtime/gpu/gpu_device.cc:1862] Adding visible gpu devices: 0\n",
      "2022-02-10 15:06:51.351257: I tensorflow/stream_executor/platform/default/dso_loader.cc:49] Successfully opened dynamic library libcudart.so.11.0\n",
      "2022-02-10 15:06:55.560239: I tensorflow/core/common_runtime/gpu/gpu_device.cc:1261] Device interconnect StreamExecutor with strength 1 edge matrix:\n",
      "2022-02-10 15:06:55.560304: I tensorflow/core/common_runtime/gpu/gpu_device.cc:1267]      0 \n",
      "2022-02-10 15:06:55.560320: I tensorflow/core/common_runtime/gpu/gpu_device.cc:1280] 0:   N \n",
      "2022-02-10 15:06:55.566529: I tensorflow/core/common_runtime/gpu/gpu_device.cc:1406] Created TensorFlow device (/job:localhost/replica:0/task:0/device:GPU:0 with 30059 MB memory) -> physical GPU (device: 0, name: Tesla V100-SXM2-32GB, pci bus id: 0000:61:00.0, compute capability: 7.0)\n",
      "2022-02-10 15:06:56.358934: I tensorflow/compiler/mlir/mlir_graph_optimization_pass.cc:116] None of the MLIR optimization passes are enabled (registered 2)\n",
      "2022-02-10 15:06:56.359992: I tensorflow/core/platform/profile_utils/cpu_utils.cc:112] CPU Frequency: 2500000000 Hz\n"
     ]
    },
    {
     "name": "stdout",
     "output_type": "stream",
     "text": [
      "Epoch 1/10\n"
     ]
    },
    {
     "name": "stderr",
     "output_type": "stream",
     "text": [
      "2022-02-10 15:06:57.281906: I tensorflow/stream_executor/platform/default/dso_loader.cc:49] Successfully opened dynamic library libcublas.so.11\n",
      "2022-02-10 15:06:59.696398: I tensorflow/stream_executor/platform/default/dso_loader.cc:49] Successfully opened dynamic library libcublasLt.so.11\n"
     ]
    },
    {
     "name": "stdout",
     "output_type": "stream",
     "text": [
      "525/525 [==============================] - 7s 7ms/step - loss: 0.0782\n",
      "Epoch 2/10\n",
      "525/525 [==============================] - 4s 7ms/step - loss: 0.0153\n",
      "Epoch 3/10\n",
      "525/525 [==============================] - 4s 7ms/step - loss: 0.0102\n",
      "Epoch 4/10\n",
      "525/525 [==============================] - 4s 7ms/step - loss: 0.0081\n",
      "Epoch 5/10\n",
      "525/525 [==============================] - 4s 7ms/step - loss: 0.0069\n",
      "Epoch 6/10\n",
      "525/525 [==============================] - 4s 7ms/step - loss: 0.0060\n",
      "Epoch 7/10\n",
      "525/525 [==============================] - 4s 7ms/step - loss: 0.0054\n",
      "Epoch 8/10\n",
      "525/525 [==============================] - 4s 7ms/step - loss: 0.0049\n",
      "Epoch 9/10\n",
      "525/525 [==============================] - 4s 7ms/step - loss: 0.0046\n",
      "Epoch 10/10\n",
      "525/525 [==============================] - 4s 7ms/step - loss: 0.0043\n",
      ".\n",
      "Writing metadata file: /adapt/nobackup/projects/ilab/data/Aviris/ang20170720t004130_corr_v2p9.mdata.txt\n",
      " Processing Block(0, 1), shape = [500, 500]\n",
      " Read point data, shape = (103779, 363), dims = ('samples', 'band')\n",
      " Preparing point data with shape (103779, 363), range=(-14.037564, 8.557018, -1.0409673e-10), #nan=0\n",
      "Epoch 1/10\n",
      "406/406 [==============================] - 3s 7ms/step - loss: 0.0046\n",
      "Epoch 2/10\n",
      "406/406 [==============================] - 3s 7ms/step - loss: 0.0043\n",
      "Epoch 3/10\n",
      "406/406 [==============================] - 3s 8ms/step - loss: 0.0041\n",
      "Epoch 4/10\n",
      "406/406 [==============================] - 3s 7ms/step - loss: 0.0040\n",
      "Epoch 5/10\n",
      "406/406 [==============================] - 3s 7ms/step - loss: 0.0039\n",
      "Epoch 6/10\n",
      "406/406 [==============================] - 3s 7ms/step - loss: 0.0038\n",
      "Epoch 7/10\n",
      "406/406 [==============================] - 3s 7ms/step - loss: 0.0037\n",
      "Epoch 8/10\n",
      "406/406 [==============================] - 3s 7ms/step - loss: 0.0036\n",
      "Epoch 9/10\n",
      "406/406 [==============================] - 3s 7ms/step - loss: 0.0035\n",
      "Epoch 10/10\n",
      "406/406 [==============================] - 3s 7ms/step - loss: 0.0035\n",
      ".\n",
      "Writing metadata file: /adapt/nobackup/projects/ilab/data/Aviris/ang20170720t004130_corr_v2p9.mdata.txt\n",
      " Processing Block(0, 2), shape = [500, 500]\n",
      " Read point data, shape = (0, 363), dims = ('samples', 'band')\n",
      "Writing metadata file: /adapt/nobackup/projects/ilab/data/Aviris/ang20170720t004130_corr_v2p9.mdata.txt\n",
      " Processing Block(0, 3), shape = [500, 500]\n",
      " Read point data, shape = (0, 363), dims = ('samples', 'band')\n",
      "Writing metadata file: /adapt/nobackup/projects/ilab/data/Aviris/ang20170720t004130_corr_v2p9.mdata.txt\n",
      " Processing Block(0, 4), shape = [500, 500]\n",
      " Read point data, shape = (0, 363), dims = ('samples', 'band')\n",
      "Writing metadata file: /adapt/nobackup/projects/ilab/data/Aviris/ang20170720t004130_corr_v2p9.mdata.txt\n",
      " Processing Block(0, 5), shape = [500, 500]\n",
      " Read point data, shape = (0, 363), dims = ('samples', 'band')\n",
      "Writing metadata file: /adapt/nobackup/projects/ilab/data/Aviris/ang20170720t004130_corr_v2p9.mdata.txt\n",
      " Processing Block(0, 6), shape = [500, 500]\n",
      " Read point data, shape = (0, 363), dims = ('samples', 'band')\n",
      "Writing metadata file: /adapt/nobackup/projects/ilab/data/Aviris/ang20170720t004130_corr_v2p9.mdata.txt\n",
      " Processing Block(0, 7), shape = [500, 500]\n",
      " Read point data, shape = (0, 363), dims = ('samples', 'band')\n",
      "Writing metadata file: /adapt/nobackup/projects/ilab/data/Aviris/ang20170720t004130_corr_v2p9.mdata.txt\n",
      " Processing Block(0, 8), shape = [500, 500]\n",
      " Read point data, shape = (0, 363), dims = ('samples', 'band')\n",
      "Writing metadata file: /adapt/nobackup/projects/ilab/data/Aviris/ang20170720t004130_corr_v2p9.mdata.txt\n",
      " Processing Block(0, 9), shape = [500, 500]\n",
      " Read point data, shape = (0, 363), dims = ('samples', 'band')\n",
      "Writing metadata file: /adapt/nobackup/projects/ilab/data/Aviris/ang20170720t004130_corr_v2p9.mdata.txt\n",
      " Processing Block(0, 10), shape = [500, 500]\n",
      " Read point data, shape = (0, 363), dims = ('samples', 'band')\n",
      "Writing metadata file: /adapt/nobackup/projects/ilab/data/Aviris/ang20170720t004130_corr_v2p9.mdata.txt\n",
      " Processing Block(0, 11), shape = [500, 500]\n",
      " Read point data, shape = (0, 363), dims = ('samples', 'band')\n",
      "Writing metadata file: /adapt/nobackup/projects/ilab/data/Aviris/ang20170720t004130_corr_v2p9.mdata.txt\n",
      " Processing Block(0, 12), shape = [500, 500]\n",
      " Read point data, shape = (0, 363), dims = ('samples', 'band')\n",
      "Writing metadata file: /adapt/nobackup/projects/ilab/data/Aviris/ang20170720t004130_corr_v2p9.mdata.txt\n",
      " Processing Block(0, 13), shape = [500, 500]\n",
      " Read point data, shape = (0, 363), dims = ('samples', 'band')\n",
      "Writing metadata file: /adapt/nobackup/projects/ilab/data/Aviris/ang20170720t004130_corr_v2p9.mdata.txt\n",
      " Processing Block(0, 14), shape = [500, 500]\n",
      " Read point data, shape = (0, 363), dims = ('samples', 'band')\n",
      "Writing metadata file: /adapt/nobackup/projects/ilab/data/Aviris/ang20170720t004130_corr_v2p9.mdata.txt\n",
      " Processing Block(0, 15), shape = [500, 500]\n",
      " Read point data, shape = (0, 363), dims = ('samples', 'band')\n",
      "Writing metadata file: /adapt/nobackup/projects/ilab/data/Aviris/ang20170720t004130_corr_v2p9.mdata.txt\n",
      " Processing Block(1, 0), shape = [500, 500]\n",
      " Read point data, shape = (101348, 363), dims = ('samples', 'band')\n",
      " Preparing point data with shape (101348, 363), range=(-9.000725, 8.150203, -1.3147934e-10), #nan=0\n",
      "Epoch 1/10\n",
      "396/396 [==============================] - 3s 8ms/step - loss: 0.0040\n",
      "Epoch 2/10\n",
      "396/396 [==============================] - 3s 7ms/step - loss: 0.0037\n",
      "Epoch 3/10\n",
      "396/396 [==============================] - 3s 7ms/step - loss: 0.0035\n",
      "Epoch 4/10\n",
      "396/396 [==============================] - 3s 7ms/step - loss: 0.0035\n",
      "Epoch 5/10\n",
      "396/396 [==============================] - 3s 7ms/step - loss: 0.0034\n",
      "Epoch 6/10\n",
      "396/396 [==============================] - 3s 8ms/step - loss: 0.0033\n",
      "Epoch 7/10\n",
      "396/396 [==============================] - 3s 7ms/step - loss: 0.0033\n",
      "Epoch 8/10\n",
      "396/396 [==============================] - 3s 8ms/step - loss: 0.0032\n",
      "Epoch 9/10\n",
      "396/396 [==============================] - 3s 7ms/step - loss: 0.0032\n",
      "Epoch 10/10\n",
      "396/396 [==============================] - 3s 7ms/step - loss: 0.0031\n",
      ".\n",
      "Writing metadata file: /adapt/nobackup/projects/ilab/data/Aviris/ang20170720t004130_corr_v2p9.mdata.txt\n",
      " Processing Block(1, 1), shape = [500, 500]\n",
      " Read point data, shape = (244284, 363), dims = ('samples', 'band')\n",
      " Preparing point data with shape (244284, 363), range=(-8.411407, 10.191813, 2.8839814e-10), #nan=0\n",
      "Epoch 1/10\n",
      "955/955 [==============================] - 7s 7ms/step - loss: 0.0038\n",
      "Epoch 2/10\n",
      "955/955 [==============================] - 7s 7ms/step - loss: 0.0034\n",
      "Epoch 3/10\n",
      "955/955 [==============================] - 7s 7ms/step - loss: 0.0033\n",
      "Epoch 4/10\n",
      "955/955 [==============================] - 7s 7ms/step - loss: 0.0031\n",
      "Epoch 5/10\n",
      "955/955 [==============================] - 7s 7ms/step - loss: 0.0031\n",
      "Epoch 6/10\n",
      "955/955 [==============================] - 7s 8ms/step - loss: 0.0030\n",
      "Epoch 7/10\n",
      "955/955 [==============================] - 7s 7ms/step - loss: 0.0029\n",
      "Epoch 8/10\n",
      "955/955 [==============================] - 7s 7ms/step - loss: 0.0029\n",
      "Epoch 9/10\n",
      "955/955 [==============================] - 7s 8ms/step - loss: 0.0029\n",
      "Epoch 10/10\n",
      "955/955 [==============================] - 7s 7ms/step - loss: 0.0028\n",
      ".\n",
      "Writing metadata file: /adapt/nobackup/projects/ilab/data/Aviris/ang20170720t004130_corr_v2p9.mdata.txt\n",
      " Processing Block(1, 2), shape = [500, 500]\n"
     ]
    }
   ],
   "source": [
    "dm.prepare_inputs()\n",
    "\n"
   ]
  }
 ],
 "metadata": {
  "kernelspec": {
   "display_name": "Python 3 (ipykernel)",
   "language": "python",
   "name": "python3"
  },
  "language_info": {
   "codemirror_mode": {
    "name": "ipython",
    "version": 3
   },
   "file_extension": ".py",
   "mimetype": "text/x-python",
   "name": "python",
   "nbconvert_exporter": "python",
   "pygments_lexer": "ipython3",
   "version": "3.9.7"
  }
 },
 "nbformat": 4,
 "nbformat_minor": 4
}