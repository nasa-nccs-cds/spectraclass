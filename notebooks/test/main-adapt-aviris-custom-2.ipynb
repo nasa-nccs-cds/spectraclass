{
 "cells": [
  {
   "cell_type": "code",
   "execution_count": 1,
   "metadata": {
    "pycharm": {
     "name": "#%%\n"
    }
   },
   "outputs": [
    {
     "name": "stderr",
     "output_type": "stream",
     "text": [
      "2022-12-20 17:15:34.366352: I tensorflow/core/util/util.cc:169] oneDNN custom operations are on. You may see slightly different numerical results due to floating-point round-off errors from different computation orders. To turn them off, set the environment variable `TF_ENABLE_ONEDNN_OPTS=0`.\n"
     ]
    }
   ],
   "source": [
    "%matplotlib widget\n",
    "from spectraclass.data.base import DataManager\n",
    "from spectraclass.data.base import ModeDataManager\n",
    "from spectraclass.data.spatial.tile.manager import TileManager\n",
    "from spectraclass.data.spatial.modes import AvirisDataManager\n",
    "from spectraclass.application.controller import app, SpectraclassController\n",
    "from spectraclass.model.labels import LabelsManager, lm\n",
    "from spectraclass.learn.manager import ClassificationManager, cm\n",
    "from spectraclass.learn.base import LearningModel\n",
    "import os\n",
    "from typing import List, Union, Tuple, Optional, Dict, Callable"
   ]
  },
  {
   "cell_type": "markdown",
   "metadata": {
    "pycharm": {
     "name": "#%% md\n"
    }
   },
   "source": [
    "Here we configure paths on the Jupyter server.  If these paths are not specified here then the default values,\n",
    "    defined in server-side config files, for the project (\"demo2\") and data mode (\"desis\"), will be used.  You can\n",
    "    choose whatever project names you want, they are used to save configurations and results for ongoing investigations."
   ]
  },
  {
   "cell_type": "code",
   "execution_count": 2,
   "metadata": {
    "collapsed": false,
    "jupyter": {
     "outputs_hidden": false
    },
    "pycharm": {
     "name": "#%%\n"
    }
   },
   "outputs": [
    {
     "name": "stdout",
     "output_type": "stream",
     "text": [
      "Opening log file:  '/home/tpmaxwel/.spectraclass/logging/aviris/img_mgr.log'\n",
      "Installing config file from /panfs/ccds02/home/tpmaxwel/JupyterLinks/spectraclass-dev/defaults/aviris/img_mgr.py to /home/tpmaxwel/.spectraclass/config/aviris/img_mgr.py\n",
      "Using config file: '/panfs/ccds02/home/tpmaxwel/JupyterLinks/spectraclass-dev/defaults/config.py'\n",
      "Using config file: '/home/tpmaxwel/.spectraclass/config/aviris/img_mgr.py'\n"
     ]
    }
   ],
   "source": [
    "dm: DataManager = DataManager.initialize( \"img_mgr\", 'aviris' )\n",
    "location = \"adapt\"\n",
    "if location == \"adapt\":\n",
    "    dm.modal.cache_dir = \"/explore/nobackup/projects/ilab/cache\"\n",
    "    dm.modal.data_dir = \"/css/above/daac.ornl.gov/daacdata/above/ABoVE_Airborne_AVIRIS_NG/data/\"\n",
    "    dm.modal.images_glob =  \"ang20170731t222832rfl/ang*_rfl_v2p9/ang*_corr_v2p9_img\"\n",
    "elif location == \"desktop\":\n",
    "    dm.modal.cache_dir = \"/Volumes/Shared/Cache\"\n",
    "    dm.modal.data_dir = \"/Users/tpmaxwel/Development/Data/Aviris\"\n",
    "else: raise Exception( f\"Unknown location: {location}\")\n",
    "\n",
    "block_size = 150\n",
    "method = \"aec\" # \"vae\"\n",
    "model_dims = 32\n",
    "version = \"v2v2\"\n",
    "month = \"201908\"\n",
    "\n",
    "dm.modal.ext =  \"_img\"\n",
    "dm.use_model_data = True\n",
    "dm.proc_type = \"skl\"\n",
    "dm.modal.images_glob = f\"ang{month}*rfl/ang*_rfl_{version}/ang*_corr_{version}_img\"\n",
    "TileManager.block_size = block_size\n",
    "TileManager.block_index = [1,7]\n",
    "AvirisDataManager.version = version\n",
    "dm.modal.valid_aviris_bands = [ [5,193], [214,283], [319,10000] ]\n",
    "dm.modal.model_dims = model_dims\n",
    "dm.modal.reduce_method = method\n",
    "dm.modal.reduce_nepoch = 3\n",
    "dm.modal.reduce_focus_nepoch = 10\n",
    "dm.modal.reduce_niter = 1\n",
    "dm.modal.reduce_focus_ratio = 10.0\n",
    "dm.modal.reduce_dropout = 0.0\n",
    "dm.modal.reduce_learning_rate = 1e-4\n",
    "dm.modal.refresh_model = False\n",
    "dm.modal.modelkey = f\"b{block_size}.{method}\""
   ]
  },
  {
   "cell_type": "markdown",
   "metadata": {
    "pycharm": {
     "name": "#%% md\n"
    }
   },
   "source": [
    "Here we load the project data and define a set of class names (with associated colors) to be used in the classification process."
   ]
  },
  {
   "cell_type": "code",
   "execution_count": 3,
   "metadata": {
    "collapsed": false,
    "jupyter": {
     "outputs_hidden": false
    },
    "pycharm": {
     "name": "#%%\n"
    }
   },
   "outputs": [
    {
     "name": "stdout",
     "output_type": "stream",
     "text": [
      "Completed Reading raster file /css/above/daac.ornl.gov/daacdata/above/ABoVE_Airborne_AVIRIS_NG/data//ang20190802t211646rfl/ang20190802t211646_rfl_v2v2/ang20190802t211646_corr_v2v2_img, dims = ('band', 'y', 'x'), shape = (425, 17869, 709)\n",
      "#Tile[0]-> Read Data: shape = (425, 17869, 709), dims=('band', 'y', 'x')\n",
      " Preparing inputs\n",
      "Loading metadata from file: /explore/nobackup/projects/ilab/cache/spectraclass/aviris/img_mgr/b150.aec.mdata.txt\n",
      "Completed Reading raster file /css/above/daac.ornl.gov/daacdata/above/ABoVE_Airborne_AVIRIS_NG/data//ang20190802t211646rfl/ang20190802t211646_rfl_v2v2/ang20190802t211646_corr_v2v2_img, dims = ('band', 'y', 'x'), shape = (425, 17869, 709)\n",
      "#Tile[0]-> Read Data: shape = (425, 17869, 709), dims=('band', 'y', 'x')\n",
      "Completed Reading raster file /css/above/daac.ornl.gov/daacdata/above/ABoVE_Airborne_AVIRIS_NG/data//ang20190801t150124rfl/ang20190801t150124_rfl_v2v2/ang20190801t150124_corr_v2v2_img, dims = ('band', 'y', 'x'), shape = (425, 14400, 724)\n",
      "#Tile[1]-> Read Data: shape = (425, 14400, 724), dims=('band', 'y', 'x')\n",
      "Completed Reading raster file /css/above/daac.ornl.gov/daacdata/above/ABoVE_Airborne_AVIRIS_NG/data//ang20190801t162339rfl/ang20190801t162339_rfl_v2v2/ang20190801t162339_corr_v2v2_img, dims = ('band', 'y', 'x'), shape = (425, 10546, 702)\n",
      "#Tile[2]-> Read Data: shape = (425, 10546, 702), dims=('band', 'y', 'x')\n",
      "Completed Reading raster file /css/above/daac.ornl.gov/daacdata/above/ABoVE_Airborne_AVIRIS_NG/data//ang20190801t160747rfl/ang20190801t160747_rfl_v2v2/ang20190801t160747_corr_v2v2_img, dims = ('band', 'y', 'x'), shape = (425, 17894, 715)\n",
      "#Tile[3]-> Read Data: shape = (425, 17894, 715), dims=('band', 'y', 'x')\n",
      "Completed Reading raster file /css/above/daac.ornl.gov/daacdata/above/ABoVE_Airborne_AVIRIS_NG/data//ang20190802t213328rfl/ang20190802t213328_rfl_v2v2/ang20190802t213328_corr_v2v2_img, dims = ('band', 'y', 'x'), shape = (425, 17861, 717)\n",
      "#Tile[4]-> Read Data: shape = (425, 17861, 717), dims=('band', 'y', 'x')\n",
      "Completed Reading raster file /css/above/daac.ornl.gov/daacdata/above/ABoVE_Airborne_AVIRIS_NG/data//ang20190804t203609rfl/ang20190804t203609_rfl_v2v2/ang20190804t203609_corr_v2v2_img, dims = ('band', 'y', 'x'), shape = (425, 2868, 633)\n",
      "#Tile[5]-> Read Data: shape = (425, 2868, 633), dims=('band', 'y', 'x')\n",
      "Completed Reading raster file /css/above/daac.ornl.gov/daacdata/above/ABoVE_Airborne_AVIRIS_NG/data//ang20190802t220708rfl/ang20190802t220708_rfl_v2v2/ang20190802t220708_corr_v2v2_img, dims = ('band', 'y', 'x'), shape = (425, 17991, 725)\n",
      "#Tile[6]-> Read Data: shape = (425, 17991, 725), dims=('band', 'y', 'x')\n",
      "Completed Reading raster file /css/above/daac.ornl.gov/daacdata/above/ABoVE_Airborne_AVIRIS_NG/data//ang20190801t143347rfl/ang20190801t143347_rfl_v2v2/ang20190801t143347_corr_v2v2_img, dims = ('band', 'y', 'x'), shape = (425, 12137, 766)\n",
      "#Tile[7]-> Read Data: shape = (425, 12137, 766), dims=('band', 'y', 'x')\n",
      "Completed Reading raster file /css/above/daac.ornl.gov/daacdata/above/ABoVE_Airborne_AVIRIS_NG/data//ang20190802t224159rfl/ang20190802t224159_rfl_v2v2/ang20190802t224159_corr_v2v2_img, dims = ('band', 'y', 'x'), shape = (425, 17905, 716)\n",
      "#Tile[8]-> Read Data: shape = (425, 17905, 716), dims=('band', 'y', 'x')\n",
      "Completed Reading raster file /css/above/daac.ornl.gov/daacdata/above/ABoVE_Airborne_AVIRIS_NG/data//ang20190801t144718rfl/ang20190801t144718_rfl_v2v2/ang20190801t144718_corr_v2v2_img, dims = ('band', 'y', 'x'), shape = (425, 14284, 729)\n",
      "#Tile[9]-> Read Data: shape = (425, 14284, 729), dims=('band', 'y', 'x')\n",
      "Completed Reading raster file /css/above/daac.ornl.gov/daacdata/above/ABoVE_Airborne_AVIRIS_NG/data//ang20190802t225917rfl/ang20190802t225917_rfl_v2v2/ang20190802t225917_corr_v2v2_img, dims = ('band', 'y', 'x'), shape = (425, 18030, 721)\n",
      "#Tile[10]-> Read Data: shape = (425, 18030, 721), dims=('band', 'y', 'x')\n",
      "Completed Reading raster file /css/above/daac.ornl.gov/daacdata/above/ABoVE_Airborne_AVIRIS_NG/data//ang20190801t155049rfl/ang20190801t155049_rfl_v2v2/ang20190801t155049_corr_v2v2_img, dims = ('band', 'y', 'x'), shape = (425, 17846, 715)\n",
      "#Tile[11]-> Read Data: shape = (425, 17846, 715), dims=('band', 'y', 'x')\n",
      "Completed Reading raster file /css/above/daac.ornl.gov/daacdata/above/ABoVE_Airborne_AVIRIS_NG/data//ang20190804t200153rfl/ang20190804t200153_rfl_v2v2/ang20190804t200153_corr_v2v2_img, dims = ('band', 'y', 'x'), shape = (425, 9668, 640)\n",
      "#Tile[12]-> Read Data: shape = (425, 9668, 640), dims=('band', 'y', 'x')\n",
      "Completed Reading raster file /css/above/daac.ornl.gov/daacdata/above/ABoVE_Airborne_AVIRIS_NG/data//ang20190802t231627rfl/ang20190802t231627_rfl_v2v2/ang20190802t231627_corr_v2v2_img, dims = ('band', 'y', 'x'), shape = (425, 17825, 717)\n",
      "#Tile[13]-> Read Data: shape = (425, 17825, 717), dims=('band', 'y', 'x')\n",
      "Completed Reading raster file /css/above/daac.ornl.gov/daacdata/above/ABoVE_Airborne_AVIRIS_NG/data//ang20190802t222542rfl/ang20190802t222542_rfl_v2v2/ang20190802t222542_corr_v2v2_img, dims = ('band', 'y', 'x'), shape = (425, 17878, 725)\n",
      "#Tile[14]-> Read Data: shape = (425, 17878, 725), dims=('band', 'y', 'x')\n",
      "Completed Reading raster file /css/above/daac.ornl.gov/daacdata/above/ABoVE_Airborne_AVIRIS_NG/data//ang20190801t151711rfl/ang20190801t151711_rfl_v2v2/ang20190801t151711_corr_v2v2_img, dims = ('band', 'y', 'x'), shape = (425, 14754, 724)\n",
      "#Tile[15]-> Read Data: shape = (425, 14754, 724), dims=('band', 'y', 'x')\n",
      "Completed Reading raster file /css/above/daac.ornl.gov/daacdata/above/ABoVE_Airborne_AVIRIS_NG/data//ang20190802t215053rfl/ang20190802t215053_rfl_v2v2/ang20190802t215053_corr_v2v2_img, dims = ('band', 'y', 'x'), shape = (425, 17841, 722)\n",
      "#Tile[16]-> Read Data: shape = (425, 17841, 722), dims=('band', 'y', 'x')\n",
      "Completed Reading raster file /css/above/daac.ornl.gov/daacdata/above/ABoVE_Airborne_AVIRIS_NG/data//ang20190801t153402rfl/ang20190801t153402_rfl_v2v2/ang20190801t153402_corr_v2v2_img, dims = ('band', 'y', 'x'), shape = (425, 17861, 735)\n",
      "#Tile[17]-> Read Data: shape = (425, 17861, 735), dims=('band', 'y', 'x')\n",
      "Completed Reading raster file /css/above/daac.ornl.gov/daacdata/above/ABoVE_Airborne_AVIRIS_NG/data//ang20190802t205934rfl/ang20190802t205934_rfl_v2v2/ang20190802t205934_corr_v2v2_img, dims = ('band', 'y', 'x'), shape = (425, 17898, 719)\n",
      "#Tile[18]-> Read Data: shape = (425, 17898, 719), dims=('band', 'y', 'x')\n",
      "Model: \"model\"\n",
      "_________________________________________________________________\n",
      " Layer (type)                Output Shape              Param #   \n",
      "=================================================================\n",
      " input_1 (InputLayer)        [(None, 363)]             0         \n",
      "                                                                 \n",
      " dense (Dense)               (None, 182)               66248     \n",
      "                                                                 \n",
      " dense_1 (Dense)             (None, 91)                16653     \n",
      "                                                                 \n",
      " dense_2 (Dense)             (None, 46)                4232      \n",
      "                                                                 \n",
      " dense_4 (Dense)             (None, 64)                3008      \n",
      "                                                                 \n",
      " dense_5 (Dense)             (None, 128)               8320      \n",
      "                                                                 \n",
      " dense_6 (Dense)             (None, 256)               33024     \n",
      "                                                                 \n",
      " dense_7 (Dense)             (None, 363)               93291     \n",
      "                                                                 \n",
      "=================================================================\n",
      "Total params: 224,776\n",
      "Trainable params: 224,776\n",
      "Non-trainable params: 0\n",
      "_________________________________________________________________\n",
      "Model: \"model_1\"\n",
      "_________________________________________________________________\n",
      " Layer (type)                Output Shape              Param #   \n",
      "=================================================================\n",
      " input_1 (InputLayer)        [(None, 363)]             0         \n",
      "                                                                 \n",
      " dense (Dense)               (None, 182)               66248     \n",
      "                                                                 \n",
      " dense_1 (Dense)             (None, 91)                16653     \n",
      "                                                                 \n",
      " dense_2 (Dense)             (None, 46)                4232      \n",
      "                                                                 \n",
      " dense_3 (Dense)             (None, 32)                1504      \n",
      "                                                                 \n",
      "=================================================================\n",
      "Total params: 88,637\n",
      "Trainable params: 88,637\n",
      "Non-trainable params: 0\n",
      "_________________________________________________________________\n"
     ]
    },
    {
     "name": "stderr",
     "output_type": "stream",
     "text": [
      "2022-12-20 17:16:10.079567: I tensorflow/core/platform/cpu_feature_guard.cc:193] This TensorFlow binary is optimized with oneAPI Deep Neural Network Library (oneDNN) to use the following CPU instructions in performance-critical operations:  SSE4.1 SSE4.2 AVX AVX2 AVX512F AVX512_VNNI FMA\n",
      "To enable them in other operations, rebuild TensorFlow with the appropriate compiler flags.\n"
     ]
    }
   ],
   "source": [
    "dm.loadCurrentProject()\n",
    "classes = [ ('Class-1', \"cyan\"),\n",
    "            ('Class-2', \"green\"),\n",
    "            ('Class-3', \"magenta\"),\n",
    "            ('Class-4', \"blue\")]\n",
    "\n",
    "lm().setLabels( classes )\n",
    "dm.modal.initialize_dimension_reduction()"
   ]
  },
  {
   "cell_type": "markdown",
   "metadata": {
    "pycharm": {
     "name": "#%% md\n"
    }
   },
   "source": [
    "Here we define a custom CNN to use withing the spectraclass framework."
   ]
  },
  {
   "cell_type": "code",
   "execution_count": 4,
   "metadata": {
    "collapsed": false,
    "jupyter": {
     "outputs_hidden": false
    },
    "pycharm": {
     "name": "#%%\n"
    }
   },
   "outputs": [
    {
     "name": "stdout",
     "output_type": "stream",
     "text": [
      "789/789 [==============================] - 1s 589us/step\n",
      "789/789 [==============================] - 1s 746us/step\n"
     ]
    }
   ],
   "source": [
    "from tensorflow.keras.models import Model\n",
    "from tensorflow.keras import Input\n",
    "from tensorflow.keras import datasets, layers, models\n",
    "from spectraclass.learn.models.network import Network, ModelType\n",
    "\n",
    "class CNN(Network):\n",
    "    TYPE = ModelType.SPATIAL\n",
    "\n",
    "    def _build_model(self, **kwargs) -> Tuple[Model,Dict]:\n",
    "        from spectraclass.learn.models.spatial import SpatialModelWrapper\n",
    "        nfeatures = kwargs.pop('nfeatures', 64 )\n",
    "        from spectraclass.model.labels import lm\n",
    "        input_shape = SpatialModelWrapper.get_input_shape()\n",
    "        nclasses = lm().nLabels\n",
    "        ks = kwargs.pop('kernel_size',3)\n",
    "        model = models.Sequential()\n",
    "        model.add( Input( shape=input_shape ) )\n",
    "        model.add( layers.Conv2D( nfeatures, (ks,ks), activation='relu', padding=\"same\" ) )\n",
    "        model.add( layers.Reshape( SpatialModelWrapper.flatten(input_shape,nfeatures) ) )\n",
    "        model.add( layers.Dense( nfeatures, activation='relu' ) )\n",
    "        model.add( layers.Dense( nclasses, activation='softmax' ) )\n",
    "        return model, kwargs\n",
    "\n",
    "cm().addNetwork( CNN( 'cnn-1', nfeatures=64, nepochs=200, test_size=0.1 ) )"
   ]
  },
  {
   "cell_type": "markdown",
   "metadata": {
    "pycharm": {
     "name": "#%% md\n"
    }
   },
   "source": [
    "Here we start up the Spectraclass GUI."
   ]
  },
  {
   "cell_type": "code",
   "execution_count": 5,
   "metadata": {
    "pycharm": {
     "name": "#%%\n"
    }
   },
   "outputs": [
    {
     "name": "stdout",
     "output_type": "stream",
     "text": [
      "Initializing GUI using controller <class 'spectraclass.gui.spatial.application.Spectraclass'>\n",
      "UMAP.init: model_data('samples', 'band') shape = (25222, 32)\n",
      "Get Activation flow for dsid 20190802t205934-1-7\n",
      "ActivationFlow.instance: shape=(25222, 32), nn=5, args={'metric': 'cosine', 'p': 2}\n",
      " --->  $$$D: setNodeData D=> <class 'numpy.ndarray'>:float32\n",
      "Computed NN skGraph with 5 neighbors and 25222 verts in 12.261298656463623 sec (0.20435497760772706 min)\n",
      " --->  $$$D: setNodeData D=> <class 'numpy.ndarray'>:float32\n",
      "Computed NN skGraph with 5 neighbors and 25222 verts in 12.134671926498413 sec (0.2022445321083069 min)\n",
      "Get Activation flow for dsid 20190802t205934-1-7\n",
      "Get Activation flow for dsid 20190802t205934-1-7\n",
      "Computing umap embedding with nepochs = 1, alpha = 1.0, nLabels = 0, n_neighbors = 5, init = random (random)\n",
      "Completed UMAP random initialization, init shape = (25222, 3)\n",
      "Completed simplicial_set_embedding, times = 0.00030170281728108725 5.817413330078125e-06 min\n",
      "umap embedding complete, result shape = (25222, 3), time = 0.01859140396118164 \n",
      "GUI Init complete\n"
     ]
    },
    {
     "data": {
      "application/vnd.jupyter.widget-view+json": {
       "model_id": "aa49191f09cb47c4b483e172e844bf16",
       "version_major": 2,
       "version_minor": 0
      },
      "text/plain": [
       "HBox(children=(VBox(children=(VBox(children=(HBox(children=(Button(description='Unlabeled', layout=Layout(bord…"
      ]
     },
     "execution_count": 5,
     "metadata": {},
     "output_type": "execute_result"
    }
   ],
   "source": [
    "controller: SpectraclassController = app()\n",
    "controller.gui()"
   ]
  },
  {
   "cell_type": "code",
   "execution_count": null,
   "metadata": {
    "pycharm": {
     "name": "#%%\n"
    }
   },
   "outputs": [],
   "source": []
  },
  {
   "cell_type": "markdown",
   "metadata": {},
   "source": []
  },
  {
   "cell_type": "markdown",
   "metadata": {
    "jupyter": {
     "outputs_hidden": false
    },
    "pycharm": {
     "name": "#%%\n"
    }
   },
   "source": []
  }
 ],
 "metadata": {
  "kernelspec": {
   "display_name": "ILAB Kernel (TensorFlow)",
   "language": "python",
   "name": "tensorflow-kernel"
  },
  "language_info": {
   "codemirror_mode": {
    "name": "ipython",
    "version": 3
   },
   "file_extension": ".py",
   "mimetype": "text/x-python",
   "name": "python",
   "nbconvert_exporter": "python",
   "pygments_lexer": "ipython3",
   "version": "3.9.13"
  }
 },
 "nbformat": 4,
 "nbformat_minor": 4
}
