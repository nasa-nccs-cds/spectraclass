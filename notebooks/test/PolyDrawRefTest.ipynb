{
 "cells": [
  {
   "cell_type": "code",
   "execution_count": null,
   "metadata": {},
   "outputs": [],
   "source": [
    "import holoviews as hv, panel as pn\n",
    "from holoviews import opts, streams\n",
    "from panel.widgets import Button, Select\n",
    "hv.extension('bokeh')"
   ]
  },
  {
   "cell_type": "code",
   "execution_count": null,
   "metadata": {},
   "outputs": [],
   "source": [
    "poly = hv.Polygons([])\n",
    "poly_stream = streams.PolyDraw(source=poly, drag=True, num_objects=4, show_vertices=True, styles={  'fill_color': ['red']  })\n",
    "select_button: Button = Button( name='Select', button_type='primary')\n",
    "selections = []\n",
    "\n",
    "def get_selections( clicks: int ):\n",
    "  selection = poly_stream.element\n",
    "  print( f\" selection = {selection}\")\n",
    "  selections.append( selection )\n",
    "  return  hv.Overlay(selections)\n",
    "\n",
    "selected = hv.DynamicMap( get_selections, streams=dict( clicks=select_button.param.clicks ) )\n",
    "\n",
    "canvas = poly.opts( opts.Polygons(fill_alpha=0.3, active_tools=['poly_draw']))\n",
    "pn.Column(canvas*selected,select_button)"
   ]
  },
  {
   "cell_type": "code",
   "execution_count": null,
   "metadata": {},
   "outputs": [],
   "source": [
    "#"
   ]
  }
 ],
 "metadata": {
  "language_info": {
   "name": "python",
   "pygments_lexer": "ipython3"
  }
 },
 "nbformat": 4,
 "nbformat_minor": 4
}
