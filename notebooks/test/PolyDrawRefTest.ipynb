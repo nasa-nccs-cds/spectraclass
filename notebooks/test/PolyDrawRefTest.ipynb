{
 "cells": [
  {
   "cell_type": "code",
   "execution_count": null,
   "metadata": {},
   "outputs": [],
   "source": [
    "import holoviews as hv, panel as pn\n",
    "from holoviews import opts, streams\n",
    "from panel.widgets import Button, Select\n",
    "hv.extension('bokeh')\n",
    "class_colors = [ 'blue', 'yellow', 'green', 'cyan', 'brown', 'magenta' ]"
   ]
  },
  {
   "cell_type": "code",
   "execution_count": null,
   "metadata": {},
   "outputs": [],
   "source": [
    "poly = hv.Polygons([])\n",
    "poly_stream = streams.PolyDraw(source=poly, drag=False, num_objects=1, show_vertices=True, styles={  'fill_color': ['red']  })\n",
    "select_button: Button = Button( name='Select', button_type='primary')\n",
    "undo_button: Button = Button( name='Undo', button_type='primary')\n",
    "indicator = streams.SingleTap(transient=True)\n",
    "selections = []\n",
    "\n",
    "def indicate( x,y ):\n",
    "  print( f\"indicate: {x} {y}\")\n",
    "  return hv.Points( [(x,y)] ).opts( color=\"black\" )\n",
    "\n",
    "indication = hv.DynamicMap( indicate, streams=[indicator])\n",
    "\n",
    "def get_selections( clicks: int ):\n",
    "  cindex = clicks % len(class_colors)\n",
    "  ccolor = class_colors[cindex]\n",
    "  selection = poly_stream.element.opts( color=ccolor, line_width=1, alpha=0.3, line_color=\"black\" )\n",
    "  selections.append( selection )\n",
    "  overlay =  hv.Overlay( selections )\n",
    "  print( f\" selection = {selection}, keys = {overlay.keys()}\")\n",
    "\n",
    "selected = hv.DynamicMap( get_selections, streams=dict( clicks=select_button.param.clicks ) )\n",
    "\n",
    "canvas = poly.opts( opts.Polygons(fill_alpha=0.3, active_tools=['poly_draw']))\n",
    "pn.Column(canvas*selected*indication,select_button)"
   ]
  },
  {
   "cell_type": "code",
   "execution_count": null,
   "metadata": {},
   "outputs": [],
   "source": [
    "#"
   ]
  }
 ],
 "metadata": {
  "language_info": {
   "name": "python",
   "pygments_lexer": "ipython3"
  }
 },
 "nbformat": 4,
 "nbformat_minor": 4
}
