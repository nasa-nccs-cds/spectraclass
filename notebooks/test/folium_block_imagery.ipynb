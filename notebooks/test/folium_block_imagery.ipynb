{
 "cells": [
  {
   "cell_type": "code",
   "execution_count": null,
   "metadata": {
    "pycharm": {
     "is_executing": true
    }
   },
   "outputs": [],
   "source": [
    "from spectraclass.data.spatial.satellite import spm\n",
    "import xarray as xa\n",
    "import holoviews as hv\n",
    "from spectraclass.model.labels import lm\n",
    "from spectraclass.data.base import DataManager\n",
    "from spectraclass.data.spatial.tile.manager import TileManager, tm\n",
    "from spectraclass.reduction.trainer import mt\n",
    "from spectraclass.data.modes import BlockSelectMode\n",
    "from typing import List, Union, Tuple, Optional, Dict, Callable\n",
    "hv.extension('bokeh')\n",
    "selection_mode: BlockSelectMode = BlockSelectMode.CreateMask"
   ]
  },
  {
   "cell_type": "code",
   "execution_count": 2,
   "metadata": {
    "collapsed": false,
    "jupyter": {
     "outputs_hidden": false
    },
    "pycharm": {
     "is_executing": true
    }
   },
   "outputs": [
    {
     "name": "stdout",
     "output_type": "stream",
     "text": [
      "Opening log file:  '/Users/tpmaxwel/.spectraclass/logging/neon/agb1.00000.log'\n",
      " ---> Config file not found: /usr/local/web/ILAB/projects/spectraclass/notebooks/defaults/config.py\n",
      "Using config file: '/Users/tpmaxwel/.spectraclass/config/neon/agb1.py'\n"
     ]
    }
   ],
   "source": [
    "dm: DataManager = DataManager.initialize( \"AGB1\", 'neon', selection_mode )\n",
    "tm().reprocess = False\n",
    "mt().refresh_model = False\n",
    "\n",
    "\n",
    "block_size = 100\n",
    "model_dims = 3\n",
    "year= 2016\n",
    "version = \"beta_pmm\"\n",
    "roi = \"364203.7_4305235.0_365203.7_4306235.0\"\n",
    "\n",
    "dm.proc_type = \"cpu\"\n",
    "dm.modal.images_glob = f\"AGB/test/{version}/SERC_{year}_{roi}/SERC_{year}_Reflectance_reflectance_warp.tif\"\n",
    "tm().block_size = block_size\n",
    "mt().model_dims = model_dims\n",
    "mt().modelkey = f\"agp.neon.{version}.{year}.{roi}.{block_size}\""
   ]
  },
  {
   "cell_type": "code",
   "execution_count": null,
   "metadata": {
    "collapsed": false,
    "jupyter": {
     "outputs_hidden": false
    },
    "pycharm": {
     "is_executing": true
    }
   },
   "outputs": [
    {
     "name": "stdout",
     "output_type": "stream",
     "text": [
      " ---------------------------- Project Init ---------------------------- \n",
      " *block_size = <traitlets.traitlets.Int object at 0x18ec23850>\n",
      " *model_dims = 6\n",
      " *anomaly = none\n",
      " Preparing inputs, reprocess=False\n",
      "Completed Reading raster file /Users/tpmaxwel/GDrive/Tom/Data/neon//AGB/test/beta_pmm/SERC_2016_364203.7_4305235.0_365203.7_4306235.0/SERC_2016_Reflectance_reflectance_warp.tif, dims = ('band', 'y', 'x'), shape = (426, 1000, 1000)\n",
      "#Tile[0]-> Read Data: shape = (426, 1000, 1000), dims=('band', 'y', 'x')\n",
      " Processing metadata for image SERC_2016_Reflectance_reflectance_warp with 100 blocks.\n"
     ]
    }
   ],
   "source": [
    "dm.loadCurrentProject()\n",
    "classes = [ ('air', \"cyan\"),\n",
    "            ('water', \"blue\"),\n",
    "            ('fire', \"magenta\"),\n",
    "            ('earth', \"green\") ]\n",
    "\n",
    "lm().setLabels( classes )"
   ]
  },
  {
   "cell_type": "code",
   "execution_count": null,
   "metadata": {
    "collapsed": false,
    "jupyter": {
     "outputs_hidden": false
    },
    "pycharm": {
     "is_executing": true
    }
   },
   "outputs": [],
   "source": [
    "spm().get_block_basemap(block_selection=15)"
   ]
  },
  {
   "cell_type": "code",
   "execution_count": null,
   "metadata": {
    "collapsed": false,
    "jupyter": {
     "outputs_hidden": false
    }
   },
   "outputs": [],
   "source": []
  }
 ],
 "metadata": {
  "kernelspec": {
   "display_name": "Python 3 (ipykernel)",
   "language": "python",
   "name": "python3"
  },
  "language_info": {
   "codemirror_mode": {
    "name": "ipython",
    "version": 3
   },
   "file_extension": ".py",
   "mimetype": "text/x-python",
   "name": "python",
   "nbconvert_exporter": "python",
   "pygments_lexer": "ipython3",
   "version": "3.10.11"
  }
 },
 "nbformat": 4,
 "nbformat_minor": 4
}
