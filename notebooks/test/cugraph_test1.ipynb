{
 "cells": [
  {
   "cell_type": "code",
   "execution_count": null,
   "metadata": {
    "collapsed": true,
    "pycharm": {
     "name": "#%%\n"
    }
   },
   "outputs": [],
   "source": [
    "%matplotlib widget\n",
    "from spectraclass.data.base import DataManager\n",
    "from spectraclass.data.spatial.tile.manager import TileManager\n",
    "from spectraclass.application.controller import app, SpectraclassController\n",
    "from spectraclass.model.labels import LabelsManager, lm\n",
    "from spectraclass.data.base import ModeDataManager\n",
    "from typing import List, Union, Tuple, Optional, Dict, Callable\n",
    "import cudf, os\n",
    "from cuml.neighbors import NearestNeighbors\n",
    "import xarray as xa"
   ]
  },
  {
   "cell_type": "markdown",
   "source": [
    "Here we configure paths on the Jupyter server.  If these paths are not specified here then the default values,\n",
    "    defined in server-side config files, for the project (\"demo2\") and data mode (\"desis\"), will be used.  You can\n",
    "    choose whatever project names you want, they are used to save configurations and results for ongoing investigations."
   ],
   "metadata": {
    "collapsed": false,
    "pycharm": {
     "name": "#%% md\n"
    }
   }
  },
  {
   "cell_type": "code",
   "execution_count": null,
   "outputs": [],
   "source": [
    "dm: DataManager = DataManager.initialize( \"demo2\", 'aviris' )\n",
    "dm.modal.cache_dir = \"/adapt/nobackup/projects/ilab/cache\"\n",
    "dm.modal.data_dir = \"/adapt/nobackup/projects/ilab/data/Aviris\"\n",
    "dm.modal.image_names = [ \"ang20170720t004130_corr_v2p9\" ]\n",
    "TileManager.block_index = [1,1]\n",
    "dm.proc_type = \"gpu\"\n",
    "TileManager.block_size = 256\n",
    "ModeDataManager.model_dims =   24"
   ],
   "metadata": {
    "collapsed": false,
    "pycharm": {
     "name": "#%%\n"
    }
   }
  },
  {
   "cell_type": "markdown",
   "source": [
    "Here we define a set of class names and associated colors to be used in the classification process."
   ],
   "metadata": {
    "collapsed": false,
    "pycharm": {
     "name": "#%% md\n"
    }
   }
  },
  {
   "cell_type": "code",
   "execution_count": null,
   "outputs": [],
   "source": [
    "classes = [ ('Class-1', \"cyan\"),\n",
    "            ('Class-2', \"green\"),\n",
    "            ('Class-3', \"magenta\"),\n",
    "            ('Class-4', \"blue\")]"
   ],
   "metadata": {
    "collapsed": false,
    "pycharm": {
     "name": "#%%\n"
    }
   }
  },
  {
   "cell_type": "markdown",
   "source": [
    "Here we start up the Spectraclass GUI."
   ],
   "metadata": {
    "collapsed": false,
    "pycharm": {
     "name": "#%% md\n"
    }
   }
  },
  {
   "cell_type": "code",
   "execution_count": null,
   "outputs": [],
   "source": [
    "dm.loadCurrentProject()\n",
    "lm().setLabels( classes )\n",
    "controller: SpectraclassController = app()\n"
   ],
   "metadata": {
    "collapsed": false,
    "pycharm": {
     "name": "#%%\n"
    }
   }
  },
  {
   "cell_type": "markdown",
   "source": [
    "Test cugraph"
   ],
   "metadata": {
    "collapsed": false,
    "pycharm": {
     "name": "#%% md\n"
    }
   }
  },
  {
   "cell_type": "code",
   "execution_count": null,
   "outputs": [],
   "source": [
    "nVerts = 10000\n",
    "\n",
    "project_dataset: xa.Dataset = DataManager.instance().loadCurrentProject(\"spectraclass\")\n",
    "full_input = project_dataset[\"reduction\"]\n",
    "X = full_input.values[0:nVerts,:]\n",
    "print(f\"Dataset shape = {full_input.shape}, input shape = {X.shape}, \")\n",
    "X_cudf = cudf.DataFrame(X)\n",
    "print(f\"X_cudf head = {X_cudf.head(10)}\")\n",
    "os.system(\"nvidia-smi\")\n",
    "\n",
    "# fit model\n",
    "model = NearestNeighbors(n_neighbors=3)\n",
    "model.fit(X)\n",
    "os.system(\"nvidia-smi\")\n",
    "\n",
    "# get 3 nearest neighbors\n",
    "distances, indices = model.kneighbors(X_cudf)\n",
    "os.system(\"nvidia-smi\")\n",
    "print( indices.__class__ )\n",
    "\n",
    "# print results\n",
    "print(indices.head(10))\n",
    "print(distances.head(10))\n",
    "\n"
   ],
   "metadata": {
    "collapsed": false,
    "pycharm": {
     "name": "#%%\n"
    }
   }
  }
 ],
 "metadata": {
  "kernelspec": {
   "display_name": "Python 3",
   "language": "python",
   "name": "python3"
  },
  "language_info": {
   "codemirror_mode": {
    "name": "ipython",
    "version": 2
   },
   "file_extension": ".py",
   "mimetype": "text/x-python",
   "name": "python",
   "nbconvert_exporter": "python",
   "pygments_lexer": "ipython2",
   "version": "2.7.6"
  }
 },
 "nbformat": 4,
 "nbformat_minor": 0
}