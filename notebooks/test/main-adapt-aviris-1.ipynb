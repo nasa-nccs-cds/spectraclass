{
 "cells": [
  {
   "cell_type": "code",
   "execution_count": 1,
   "metadata": {
    "pycharm": {
     "name": "#%%\n"
    }
   },
   "outputs": [
    {
     "name": "stderr",
     "output_type": "stream",
     "text": [
      "2022-10-10 16:00:41.423921: I tensorflow/stream_executor/platform/default/dso_loader.cc:49] Successfully opened dynamic library libcudart.so.11.0\n",
      "/gpfsm/ccds01/home/appmgr/app/jupyterhub/ilab/kernel/lib/python3.7/site-packages/requests/__init__.py:104: RequestsDependencyWarning: urllib3 (1.26.12) or chardet (5.0.0)/charset_normalizer (2.0.10) doesn't match a supported version!\n",
      "  RequestsDependencyWarning)\n"
     ]
    }
   ],
   "source": [
    "%matplotlib widget\n",
    "from spectraclass.data.base import DataManager\n",
    "from spectraclass.data.spatial.tile.manager import TileManager\n",
    "from spectraclass.application.controller import app, SpectraclassController\n",
    "from spectraclass.model.labels import LabelsManager, lm\n",
    "from spectraclass.learn.manager import ClassificationManager, cm\n",
    "from spectraclass.data.base import ModeDataManager\n",
    "from spectraclass.data.spatial.modes import AvirisDataManager\n",
    "from typing import List, Union, Tuple, Optional, Dict, Callable"
   ]
  },
  {
   "cell_type": "markdown",
   "metadata": {
    "pycharm": {
     "name": "#%% md\n"
    }
   },
   "source": [
    "Here we configure paths on the Jupyter server.  If these paths are not specified here then the default values,\n",
    "    defined in server-side config files, for the project (\"demo2\") and data mode (\"desis\"), will be used.  You can\n",
    "    choose whatever project names you want, they are used to save configurations and results for ongoing investigations."
   ]
  },
  {
   "cell_type": "code",
   "execution_count": 2,
   "metadata": {
    "collapsed": false,
    "jupyter": {
     "outputs_hidden": false
    },
    "pycharm": {
     "name": "#%%\n"
    }
   },
   "outputs": [
    {
     "name": "stdout",
     "output_type": "stream",
     "text": [
      "Opening log file:  '/home/tpmaxwel/.spectraclass/logging/aviris/img_mgr.log'\n",
      "Using config file: '/panfs/ccds02/home/tpmaxwel/JupyterLinks/spectraclass-dev/defaults/config.py'\n",
      "Using config file: '/home/tpmaxwel/.spectraclass/config/aviris/img_mgr.py'\n"
     ]
    },
    {
     "name": "stderr",
     "output_type": "stream",
     "text": [
      "/gpfsm/ccds01/home/appmgr/app/jupyterhub/ilab/kernel/lib/python3.7/site-packages/IPython/core/interactiveshell.py:3186: UserWarning: Config option `refresh_data` not recognized by `DataManager`.\n",
      "  interactivity=interactivity, compiler=compiler, result=result)\n",
      "/panfs/ccds02/home/tpmaxwel/JupyterLinks/spectraclass-dev/notebooks/spectraclass/model/base.py:20: UserWarning: Config option `reduce_nepoch` not recognized by `AvirisDataManager`.  Did you mean one of: `reduce_method, reduce_nepochs`?\n",
      "  inst = cls(*args, **kwargs)\n",
      "/panfs/ccds02/home/tpmaxwel/JupyterLinks/spectraclass-dev/notebooks/spectraclass/model/base.py:20: UserWarning: Config option `reduce_niter` not recognized by `AvirisDataManager`.  Did you mean one of: `reduce_method, reduce_nepochs, reduce_sparsity`?\n",
      "  inst = cls(*args, **kwargs)\n",
      "/panfs/ccds02/home/tpmaxwel/JupyterLinks/spectraclass-dev/notebooks/spectraclass/model/base.py:20: UserWarning: Config option `refresh_model` not recognized by `AvirisDataManager`.\n",
      "  inst = cls(*args, **kwargs)\n",
      "/panfs/ccds02/home/tpmaxwel/JupyterLinks/spectraclass-dev/notebooks/spectraclass/model/base.py:20: UserWarning: Config option `reduce_anom_focus` not recognized by `AvirisDataManager`.  Did you mean one of: `reduce_method, reduce_nepochs`?\n",
      "  inst = cls(*args, **kwargs)\n",
      "/panfs/ccds02/home/tpmaxwel/JupyterLinks/spectraclass-dev/notebooks/spectraclass/model/base.py:20: UserWarning: Config option `reduce_dropout` not recognized by `AvirisDataManager`.  Did you mean one of: `reduce_nepochs, reduce_sparsity`?\n",
      "  inst = cls(*args, **kwargs)\n",
      "/panfs/ccds02/home/tpmaxwel/JupyterLinks/spectraclass-dev/notebooks/spectraclass/model/base.py:20: UserWarning: Config option `reduce_focus_nepoch` not recognized by `AvirisDataManager`.  Did you mean `reduce_nepochs`?\n",
      "  inst = cls(*args, **kwargs)\n",
      "/panfs/ccds02/home/tpmaxwel/JupyterLinks/spectraclass-dev/notebooks/spectraclass/model/base.py:20: UserWarning: Config option `reduce_focus_ratio` not recognized by `AvirisDataManager`.  Did you mean one of: `reduce_nepochs, reduce_sparsity`?\n",
      "  inst = cls(*args, **kwargs)\n",
      "/panfs/ccds02/home/tpmaxwel/JupyterLinks/spectraclass-dev/notebooks/spectraclass/model/base.py:20: UserWarning: Config option `reduce_learning_rate` not recognized by `AvirisDataManager`.  Did you mean `reduce_sparsity`?\n",
      "  inst = cls(*args, **kwargs)\n"
     ]
    }
   ],
   "source": [
    "dm: DataManager = DataManager.initialize( \"img_mgr\", 'aviris' )\n",
    "dm.modal.cache_dir = \"/explore/nobackup/projects/ilab/cache\"\n",
    "dm.modal.data_dir = \"/css/above/daac.ornl.gov/daacdata/above/ABoVE_Airborne_AVIRIS_NG/data/\"\n",
    "\n",
    "dm.modal.ext =  \"_img\"\n",
    "dm.proc_type = \"cpu\"\n",
    "TileManager.block_size = 125\n",
    "ModeDataManager.model_dims =  16\n",
    "TileManager.block_index = [1,4]\n",
    "AvirisDataManager.valid_aviris_bands = [ [5,193], [214,283], [319,10000] ]"
   ]
  },
  {
   "cell_type": "markdown",
   "metadata": {
    "pycharm": {
     "name": "#%% md\n"
    }
   },
   "source": [
    "Here we load the project data and define a set of class names and associated colors to be used in the classification process."
   ]
  },
  {
   "cell_type": "code",
   "execution_count": 3,
   "metadata": {
    "collapsed": false,
    "jupyter": {
     "outputs_hidden": false
    },
    "pycharm": {
     "name": "#%%\n"
    }
   },
   "outputs": [
    {
     "name": "stdout",
     "output_type": "stream",
     "text": [
      "Loading metadata from file: /explore/nobackup/projects/ilab/cache/spectraclass/aviris/img_mgr/ang20170731t222832rfl/ang20170731t222832_rfl_v2p9/ang20170731t222832_corr_v2p9_img.mdata.txt\n",
      "Completed Reading raster file /css/above/daac.ornl.gov/daacdata/above/ABoVE_Airborne_AVIRIS_NG/data//ang20170731t222832rfl/ang20170731t222832_rfl_v2p9/ang20170731t222832_corr_v2p9_img, dims = ('band', 'y', 'x'), shape = (425, 14689, 698)\n",
      " Read point data, shape = (17100, 363), dims = ('samples', 'band')\n",
      " Preparing point data with shape (17100, 363), range=(-4.839442, 9.923917, -1.4048617e-09), #nan=0\n"
     ]
    },
    {
     "ename": "AssertionError",
     "evalue": "Project initialization failed- check log file for details",
     "output_type": "error",
     "traceback": [
      "\u001b[0;31m---------------------------------------------------------------------------\u001b[0m",
      "\u001b[0;31mAssertionError\u001b[0m                            Traceback (most recent call last)",
      "\u001b[0;32m/tmp/ipykernel_1484877/1881274580.py\u001b[0m in \u001b[0;36m<module>\u001b[0;34m\u001b[0m\n\u001b[1;32m      5\u001b[0m             ('Class-5', \"yellow\")]\n\u001b[1;32m      6\u001b[0m \u001b[0;34m\u001b[0m\u001b[0m\n\u001b[0;32m----> 7\u001b[0;31m \u001b[0mdm\u001b[0m\u001b[0;34m.\u001b[0m\u001b[0mloadCurrentProject\u001b[0m\u001b[0;34m(\u001b[0m\u001b[0;34m)\u001b[0m\u001b[0;34m\u001b[0m\u001b[0;34m\u001b[0m\u001b[0m\n\u001b[0m\u001b[1;32m      8\u001b[0m \u001b[0mlm\u001b[0m\u001b[0;34m(\u001b[0m\u001b[0;34m)\u001b[0m\u001b[0;34m.\u001b[0m\u001b[0msetLabels\u001b[0m\u001b[0;34m(\u001b[0m \u001b[0mclasses\u001b[0m \u001b[0;34m)\u001b[0m\u001b[0;34m\u001b[0m\u001b[0;34m\u001b[0m\u001b[0m\n",
      "\u001b[0;32m/panfs/ccds02/home/tpmaxwel/JupyterLinks/spectraclass-dev/notebooks/spectraclass/data/base.py\u001b[0m in \u001b[0;36mloadCurrentProject\u001b[0;34m(self, caller_id, clear)\u001b[0m\n\u001b[1;32m    282\u001b[0m             \u001b[0;32mif\u001b[0m \u001b[0mself\u001b[0m\u001b[0;34m.\u001b[0m\u001b[0m_project_data\u001b[0m \u001b[0;32mis\u001b[0m \u001b[0;32mNone\u001b[0m\u001b[0;34m:\u001b[0m\u001b[0;34m\u001b[0m\u001b[0;34m\u001b[0m\u001b[0m\n\u001b[1;32m    283\u001b[0m                 \u001b[0mself\u001b[0m\u001b[0;34m.\u001b[0m\u001b[0m_project_data\u001b[0m \u001b[0;34m=\u001b[0m \u001b[0mself\u001b[0m\u001b[0;34m.\u001b[0m\u001b[0m_mode_data_manager_\u001b[0m\u001b[0;34m.\u001b[0m\u001b[0mloadCurrentProject\u001b[0m\u001b[0;34m(\u001b[0m\u001b[0;34m)\u001b[0m\u001b[0;34m\u001b[0m\u001b[0;34m\u001b[0m\u001b[0m\n\u001b[0;32m--> 284\u001b[0;31m                 \u001b[0;32massert\u001b[0m \u001b[0mself\u001b[0m\u001b[0;34m.\u001b[0m\u001b[0m_project_data\u001b[0m \u001b[0;32mis\u001b[0m \u001b[0;32mnot\u001b[0m \u001b[0;32mNone\u001b[0m\u001b[0;34m,\u001b[0m \u001b[0;34m\"Project initialization failed- check log file for details\"\u001b[0m\u001b[0;34m\u001b[0m\u001b[0;34m\u001b[0m\u001b[0m\n\u001b[0m\u001b[1;32m    285\u001b[0m                 \u001b[0mns\u001b[0m \u001b[0;34m=\u001b[0m \u001b[0mself\u001b[0m\u001b[0;34m.\u001b[0m\u001b[0m_project_data\u001b[0m\u001b[0;34m[\u001b[0m\u001b[0;34m'samples'\u001b[0m\u001b[0;34m]\u001b[0m\u001b[0;34m.\u001b[0m\u001b[0msize\u001b[0m\u001b[0;34m\u001b[0m\u001b[0;34m\u001b[0m\u001b[0m\n\u001b[1;32m    286\u001b[0m                 \u001b[0mlgm\u001b[0m\u001b[0;34m(\u001b[0m\u001b[0;34m)\u001b[0m\u001b[0;34m.\u001b[0m\u001b[0mlog\u001b[0m\u001b[0;34m(\u001b[0m\u001b[0;34mf\"LOAD TILE[{self.dsid()}]: #samples = {ns} \"\u001b[0m\u001b[0;34m)\u001b[0m\u001b[0;34m\u001b[0m\u001b[0;34m\u001b[0m\u001b[0m\n",
      "\u001b[0;31mAssertionError\u001b[0m: Project initialization failed- check log file for details"
     ]
    }
   ],
   "source": [
    "classes = [ ('Class-1', \"cyan\"),\n",
    "            ('Class-2', \"green\"),\n",
    "            ('Class-3', \"magenta\"),\n",
    "            ('Class-4', \"blue\"),\n",
    "            ('Class-5', \"yellow\")]\n",
    "\n",
    "dm.loadCurrentProject()\n",
    "lm().setLabels( classes )"
   ]
  },
  {
   "cell_type": "markdown",
   "metadata": {
    "pycharm": {
     "name": "#%% md\n"
    }
   },
   "source": [
    "Add Custom CNN"
   ]
  },
  {
   "cell_type": "code",
   "execution_count": null,
   "metadata": {
    "collapsed": false,
    "jupyter": {
     "outputs_hidden": false
    },
    "pycharm": {
     "name": "#%%\n"
    }
   },
   "outputs": [],
   "source": [
    "from tensorflow.keras.models import Model\n",
    "from tensorflow.keras import Input\n",
    "from tensorflow.keras import datasets, layers, models\n",
    "from spectraclass.learn.models.network import Network, ModelType\n",
    "\n",
    "class CNN(Network):\n",
    "    TYPE = ModelType.SPATIAL\n",
    "\n",
    "    def _build_model(self, **kwargs) -> Tuple[Model,Dict]:\n",
    "        from spectraclass.learn.models.spatial import SpatialModelWrapper\n",
    "        nfeatures = kwargs.pop('nfeatures', 32 )\n",
    "        from spectraclass.model.labels import lm\n",
    "        input_shape = SpatialModelWrapper.get_input_shape()\n",
    "        nclasses = lm().nLabels\n",
    "        ks = kwargs.pop('kernel_size',3)\n",
    "        model = models.Sequential()\n",
    "        model.add( Input( shape=input_shape ) )\n",
    "        model.add( layers.Conv2D( nfeatures, (ks,ks), activation='relu', padding=\"same\" ) )\n",
    "        model.add( layers.Reshape( SpatialModelWrapper.flatten(input_shape,nfeatures) ) )\n",
    "        model.add( layers.Dense( nfeatures, activation='relu' ) )\n",
    " #       model.add( layers.Dense( nfeatures, activation='relu') )\n",
    "        model.add( layers.Dense( nclasses, activation='softmax' ) )\n",
    "        return model, kwargs\n",
    "\n",
    "cm().addNetwork( CNN('cnn-1', nfeatures=64, nepochs=32 ) )"
   ]
  },
  {
   "cell_type": "markdown",
   "metadata": {
    "pycharm": {
     "name": "#%% md\n"
    }
   },
   "source": [
    "Here we start up the Spectraclass GUI."
   ]
  },
  {
   "cell_type": "code",
   "execution_count": null,
   "metadata": {
    "collapsed": false,
    "jupyter": {
     "outputs_hidden": false
    },
    "pycharm": {
     "name": "#%%\n"
    }
   },
   "outputs": [],
   "source": [
    "controller: SpectraclassController = app()\n",
    "controller.gui()"
   ]
  },
  {
   "cell_type": "code",
   "execution_count": null,
   "metadata": {
    "collapsed": false,
    "jupyter": {
     "outputs_hidden": false
    },
    "pycharm": {
     "name": "#%%\n"
    }
   },
   "outputs": [],
   "source": []
  }
 ],
 "metadata": {
  "kernelspec": {
   "display_name": "Python [conda env:ilab]",
   "language": "python",
   "name": "conda-env-ilab-py"
  },
  "language_info": {
   "codemirror_mode": {
    "name": "ipython",
    "version": 3
   },
   "file_extension": ".py",
   "mimetype": "text/x-python",
   "name": "python",
   "nbconvert_exporter": "python",
   "pygments_lexer": "ipython3",
   "version": "3.7.12"
  }
 },
 "nbformat": 4,
 "nbformat_minor": 4
}
