{
 "cells": [
  {
   "cell_type": "code",
   "execution_count": 1,
   "metadata": {
    "tags": []
   },
   "outputs": [
    {
     "data": {
      "application/vnd.jupyter.widget-view+json": {
       "model_id": "840315e322024028bcdbc681c701cd8c",
       "version_major": 2,
       "version_minor": 0
      },
      "image/png": "[encoded data removed]",
      "text/html": [
       "\n",
       "            <div style=\"display: inline-block;\">\n",
       "                <div class=\"jupyter-widgets widget-label\" style=\"text-align: center;\">\n",
       "                    Figure\n",
       "                </div>\n",
       "                <img src='data:image/png;base64,iVBORw0KGgoAAAANSUhEUgAAAMgAAADICAYAAACtWK6eAAAAOXRFWHRTb2Z0d2FyZQBNYXRwbG90bGliIHZlcnNpb24zLjUuMSwgaHR0cHM6Ly9tYXRwbG90bGliLm9yZy/YYfK9AAAACXBIWXMAAA9hAAAPYQGoP6dpAAAJVElEQVR4nO3du44URxSA4RqLAAGTrISwRtqABMkmIF7J4in8Oo78On4KZInYgUEiIVg0wkLaZAERbTtYNTTDzOlLnVPnVPX/SSSwTPfM1N9V3XPZTdd1XQJw1J2UUrq5uUn7/T5tt9u02Wy89wlw1XVdur6+Trvd7jaQ/X6fzs/PvfcLCOXy8vI2kO12m1JK6Y+//k537z1w3SnA25fPH9Ofv/+WttvtbSD9suruvQfp7v2t684BUWw2m/ST904AkREIICAQQEAggIBAAAGBAAICAQQEAggIBBAQCCAgEEBAIICAQAABgQACAgEEBAIICAQQEAggIBBAQCCAgEAAAYEAAgIBBAQCCAgEEBAIICAQQEAggIBAAAGBAAICAQR3vHdgLV68uVK5nedPzlRuB9MQiBGtIMZul2BsEYgyqzCmbI9Y9BGIgtJRnNLvB6HoIZAMUcI4RCh6uIq1UNQ4hl68uapiPyMjkJlqHHS17W8kBDJDzQOtxrAjIJCJWhlcrdyPUghkgtYGFbPJdAQyouWB1PJ900IggjUMoDXcxxwEcsKaBg5LrtMIBF8RyY8I5Ig1DxRmk+/xVhMn//z7n/jvz54+KrQnx714c8VbVRKB/MDq6DkWxNjPewTDe7oIxNTcKKbclmcoKa0vFgIxohnHsdv1WoKtLRYCGdBYXlmFcWo7nucqa4iFQBSViuNwm94n9Cm1+1FgAlHiEcdw2xEiGWolmJCBXOzkB/PlPtZ1es84hvsQLZKhWq+IhQpkLIxjP+cdS4Q4alLbeUuIV9IvdmeT4zj2fzUsOUGPFke0/RlTw6v2roHkhGFxOy2oLZKUYr+1xy0QiwFdMpIaB2JkUWcTl0AsB3KJSKLHEX3/JNEiKXqSzjIIU0S64lVsBikZByG2IcJsUiQQjwFrtc1ali+17OcY70hCXOYFJJ6RmAfiudyJvtR6/+p1ev/qtfduVMErEtOT9OgDdK7cZcupGIZ///Ovv2Rto2Uen3I0m0GixBFlP6bOFJozSivnIZ5MAokyKCNYsoxi2XVa6aXWKk7SvYLNGehEclrJSNQDqXX2GFvbeixXiOS0UpGEeru7pYvdWdG3xq9lcE85cET+nMoY1UBqnT20rSGOOTPq8Gc1YylxVWs1M0gp2nG8f/U61KXf3KVmhC+bmEMtEMvZ4/HD+0f//u2HT7Nup/QyqyXa52BaoVjPIqGvYj1+eP9kHFP+vTSrpZX3ks3yAkX012pUArGYPeYMfOtIoj+JEq0lkaXcbVhe0Qo5gywZ8N4zifdR3kLJA0PUg1B2INqzR85An/J/a73SVjpAry/BW8pqFgk1g2jMAh4zSYuzB26FCcR7iYRvvL8lcimLWSQrEK3linYcxLZchHOBCPvQCzOD1Krk8mrptiINuNq4B2J1tGcWmS9SSEv3RXuZ5R6Ih1qvZFmKFEckiwPRGGQ1HOWlgeNx9WpNy6wI+9z0DFJDgBFEGIhRub2bl8HbpmMzXKR3I8/V9AyC7x2bKbRmD+mz9zlfb7Rk/zRP1AlkIc9Xz3O2PRxwmnFo/lwkfGBqhTjnmG7RDJJ7BYvzj3a0/pVGzS+xiLF+njNe84G0KsKReOk+RNj3qQgEEBAIICAQQEAggIBAAAGBAAICqVTNbwCsCYFgsaWR1hR384HM/f5exOP5RdeLAsn9AmgGrZ9nTx99/aNh7mxQ0+yR0gpmECueT/TSbR9GUTqS2uJIiUCqoxXH2N/PNbZfNcaREoGMkgZQLU/6WASakRw+Jsf+bo4l+6b5+0LcPjD19sMn3oo+05KBNnWAPXv6SO1t5bUcOKZgBslUajBYxrH059dgcSA1/CqzuVfLTk3NYwPHMpKlS5Slgz1SJBH2xXUGaelyr0Uk2ifkpf5/S/jSBkX9gM75xFxuaFqDW/OcZOn2l9D+hZ7ugdRysj5nwAwH+ZRYNGYfi6O+dyQRZAXycn+l8h29FpFYLN+WDJgSJ/GWSyKPSCIt8biKdcDyd25r03zLyNh2SsnZlsVzFyaQWk7YIxzdSoVxuM0WtjFXdiCal3u1Ism9nbEjkdcT6RHG4faj3rbVzB9mBunlDu5SM1HJweodxpDVxYCoVK5iaZ2s92q5spXStydX80Q28oBJSfc+a9xXy/NG98u8p/QzwZxQ5sweF7szcXn4/MnZrK/RP3yipw6e6DFIckKp5X6rBaI9i/SmzCZWy6q5kQxFGADSkVXzd2gM7+tYLNqPi/VVx7AzyNBhAH0wJc43ciIpbc5g6X9W+75FODBoUg3EahY5VPqScORIco+gVqGUUOI1qypmkAiiRGI1KGoLpdQLuuqBlJpFPHhEUvqV/SgHgiiYQWYaDljtgRTlbS7RIyn5OJkEUsssMnapd8yxJ0oaWFECmCLqkqv0Y2g2g9QSibaaIpgi0mzi8diGe6sJ4okQvdc+mAZSw+fWMY1nJJ7bNp9BiKQdz5+cuVxV81RkiRU5kjWeJ+UqMWg9Yjym2GXetZ60a5v6GFoflCyvckUIo1f0dRAimUbjMRrehmUsmqFECqNX/IXCiJHkvh6Su+1S24gYSsQohlxeSY8YSQne97nEgSD6gJ/L7XWQaCfuFoP3Ynf23Z8IouxHLVxfKGwxkmhBHBN536Jxf7NiH0mUJ23uMiTKfs/led5VE/dAepHOS6LsB/yFei/Wy/0VR7WCOBCMCxVIj1AQRchAeoQCb6ED6fWhEIs+llmyMCfpUx1GwhMMS9UFcmhsViEg5Kg+kDFTlmVEhFOqOAexxvkNTiGQAULBIQI5Yk2RrOm+LkEgJzBwkBKBiIgEBDKi5Uhavm9aCGSCFgdSi/fJAoFMxIBaJwKZoZVIWrkfJRDITLW/VlLzvnsgkIVqHGg17rM3AslQy4CrfdbzRCCZog++yPtWg+bfzVtKtG9nIQwdBKLMOxTC0EUgRoYD1ToWorBDIAVYxEIUZRBIYVM/IkwAMRBIMIQRC5d5AQGBAAICAQQEAggIBBAQCCAgEEBAIICAQAABgQACAgEEBAIICAQQEAggIBBAQCCAgEAAAYEAAgIBBAQCCAgEEBAIICAQQEAggIBAAAGBAAICAQQEAgjupJRS13UppZS+fP7oujNABH0HXdelTdd13bt379L5+bnzbgGxXF5e3gZyc3OT9vt92m63abPZeO8X4KrrunR9fZ12u136H5jN197WzXzUAAAAAElFTkSuQmCC' width=200.0/>\n",
       "            </div>\n",
       "        "
      ],
      "text/plain": [
       "Canvas(toolbar=Toolbar(toolitems=[('Home', 'Reset original view', 'home', 'home'), ('Back', 'Back to previous …"
      ]
     },
     "metadata": {},
     "output_type": "display_data"
    }
   ],
   "source": [
    "%matplotlib widget\n",
    "import matplotlib.pyplot as plt\n",
    "import numpy as np\n",
    "\n",
    "X, Y = np.meshgrid(np.linspace(-3, 3, 256), np.linspace(-3, 3, 256))\n",
    "Z = (1 - X/2 + X**5 + Y**3) * np.exp(-X**2 - Y**2)\n",
    "levels = np.linspace(Z.min(), Z.max(), 7)\n",
    "\n",
    "fig, ax = plt.subplots()\n",
    "ax.contourf(X, Y, Z, levels=levels)\n",
    "plt.show()"
   ]
  }
 ],
 "metadata": {
  "kernelspec": {
   "display_name": "Python 3",
   "language": "python",
   "name": "python3"
  },
  "language_info": {
   "codemirror_mode": {
    "name": "ipython",
    "version": 3
   },
   "file_extension": ".py",
   "mimetype": "text/x-python",
   "name": "python",
   "nbconvert_exporter": "python",
   "pygments_lexer": "ipython3",
   "version": "3.7.12"
  }
 },
 "nbformat": 4,
 "nbformat_minor": 4
}