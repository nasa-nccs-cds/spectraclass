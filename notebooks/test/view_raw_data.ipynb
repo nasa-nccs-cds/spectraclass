{
 "cells": [
  {
   "cell_type": "code",
   "execution_count": 1,
   "metadata": {
    "collapsed": false,
    "jupyter": {
     "outputs_hidden": false
    },
    "pycharm": {
     "name": "#%%\n"
    }
   },
   "outputs": [],
   "source": [
    "%matplotlib widget\n",
    "from spectraclass.data.base import DataManager\n",
    "from spectraclass.gui.spatial.map import MapManager, mm\n",
    "import matplotlib.pyplot as plt\n",
    "from spectraclass.data.spatial.tile.manager import TileManager\n",
    "from spectraclass.data.spatial.modes import AvirisDataManager\n",
    "import os\n",
    "from typing import List, Union, Tuple, Optional, Dict, Callable"
   ]
  },
  {
   "cell_type": "markdown",
   "metadata": {
    "pycharm": {
     "name": "#%% md\n"
    }
   },
   "source": [
    "Here we configure paths on the Jupyter server.  If these paths are not specified here then the default values,\n",
    "    defined in server-side config files, for the project (\"demo2\") and data mode (\"desis\"), will be used.  You can\n",
    "    choose whatever project names you want, they are used to save configurations and results for ongoing investigations."
   ]
  },
  {
   "cell_type": "code",
   "execution_count": 2,
   "metadata": {
    "collapsed": false,
    "jupyter": {
     "outputs_hidden": false
    },
    "pycharm": {
     "name": "#%%\n"
    }
   },
   "outputs": [
    {
     "name": "stdout",
     "output_type": "stream",
     "text": [
      "Opening log file:  '/Users/tpmaxwel/.spectraclass/logging/aviris/img_mgr.log'\n",
      "Using config file: '/Users/tpmaxwel/Development/Projects/spectraclass/defaults/config.py'\n",
      "Using config file: '/Users/tpmaxwel/.spectraclass/config/aviris/img_mgr.py'\n"
     ]
    }
   ],
   "source": [
    "dm: DataManager = DataManager.initialize( \"img_mgr\", 'aviris' )\n",
    "location = \"desktop\"\n",
    "if location == \"adapt\":\n",
    "    dm.modal.cache_dir = \"/adapt/nobackup/projects/ilab/cache\"\n",
    "    dm.modal.data_dir = \"/css/above/daac.ornl.gov/daacdata/above/ABoVE_Airborne_AVIRIS_NG/data/\"\n",
    "elif location == \"desktop\":\n",
    "    dm.modal.cache_dir = \"/Volumes/Shared/Cache\"\n",
    "    dm.modal.data_dir = \"/Users/tpmaxwel/Development/Data/Aviris\"\n",
    "else: raise Exception( f\"Unknown location: {location}\")\n",
    "    \n",
    "block_size = 200\n",
    "method = \"aec\" # \"vae\"\n",
    "model_dims = 32\n",
    "version = \"v2p9\"  # \"v2v2\" \"v2p9\"\n",
    "preprocess = False\n",
    "\n",
    "dm.use_model_data = True\n",
    "dm.proc_type = \"cpu\"\n",
    "dm.modal.images_glob = f\"ang*rfl/ang*_rfl_{version}/ang*_corr_{version}_img\"\n",
    "TileManager.block_size = block_size\n",
    "TileManager.block_index = [1,5]\n",
    "AvirisDataManager.version = version\n",
    "dm.modal.valid_aviris_bands = [ [5,193], [214,283], [319,10000] ]\n",
    "dm.modal.model_dims = model_dims\n",
    "dm.modal.reduce_method = method\n",
    "dm.modal.reduce_nepoch = 3\n",
    "dm.modal.reduce_focus_nepoch = 10\n",
    "dm.modal.reduce_niter = 1\n",
    "dm.modal.reduce_focus_ratio = 10.0\n",
    "dm.modal.reduce_dropout = 0.0\n",
    "dm.modal.reduce_learning_rate = 1e-4\n",
    "dm.modal.refresh_model = False\n",
    "dm.modal.modelkey = f\"b{block_size}.{method}\"\n"
   ]
  },
  {
   "cell_type": "markdown",
   "metadata": {
    "pycharm": {
     "name": "#%% md\n"
    }
   },
   "source": [
    "Here we load the project data and define a set of class names (with associated colors) to be used in the classification process."
   ]
  },
  {
   "cell_type": "code",
   "execution_count": 3,
   "metadata": {
    "collapsed": false,
    "jupyter": {
     "outputs_hidden": false
    },
    "pycharm": {
     "name": "#%%\n"
    }
   },
   "outputs": [
    {
     "name": "stdout",
     "output_type": "stream",
     "text": [
      "Completed Reading raster file /Users/tpmaxwel/Development/Data/Aviris/ang20190802t211646rfl/ang20190802t211646_rfl_v2p9/ang20190802t211646_corr_v2p9_img, dims = ('band', 'y', 'x'), shape = (425, 17869, 709)\n",
      "#Tile[0]-> Read Data: shape = (425, 17869, 709), dims=('band', 'y', 'x')\n"
     ]
    }
   ],
   "source": [
    "dm.loadCurrentProject()"
   ]
  },
  {
   "cell_type": "code",
   "execution_count": 6,
   "metadata": {
    "collapsed": false,
    "jupyter": {
     "outputs_hidden": false
    },
    "pycharm": {
     "name": "#%%\n"
    }
   },
   "outputs": [
    {
     "name": "stdout",
     "output_type": "stream",
     "text": [
      "Initializing GUI using controller <class 'spectraclass.gui.spatial.application.Spectraclass'>\n",
      "GUI Init complete\n"
     ]
    },
    {
     "data": {
      "application/vnd.jupyter.widget-view+json": {
       "model_id": "bf8544abfa754920b55dc16d9ddbcdac",
       "version_major": 2,
       "version_minor": 0
      },
      "text/plain": [
       "HBox(children=(VBox(children=(VBox(children=(HBox(children=(Button(description='Unlabeled', layout=Layout(bord…"
      ]
     },
     "metadata": {},
     "output_type": "display_data"
    }
   ],
   "source": [
    "mm().raw_data_viewer()"
   ]
  },
  {
   "cell_type": "code",
   "execution_count": null,
   "metadata": {
    "collapsed": false,
    "jupyter": {
     "outputs_hidden": false
    },
    "pycharm": {
     "name": "#%%\n"
    }
   },
   "outputs": [],
   "source": []
  }
 ],
 "metadata": {
  "kernelspec": {
   "display_name": "Python [conda env:spectraclass] *",
   "language": "python",
   "name": "conda-env-spectraclass-py"
  },
  "language_info": {
   "codemirror_mode": {
    "name": "ipython",
    "version": 3
   },
   "file_extension": ".py",
   "mimetype": "text/x-python",
   "name": "python",
   "nbconvert_exporter": "python",
   "pygments_lexer": "ipython3",
   "version": "3.8.13"
  }
 },
 "nbformat": 4,
 "nbformat_minor": 4
}