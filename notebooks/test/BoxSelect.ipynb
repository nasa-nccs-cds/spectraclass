{
 "cells": [
  {
   "cell_type": "code",
   "execution_count": null,
   "metadata": {
    "collapsed": true
   },
   "outputs": [],
   "source": [
    "import numpy as np\n",
    "import holoviews as hv\n",
    "from holoviews import opts\n",
    "from holoviews import streams\n",
    "hv.extension('bokeh')"
   ]
  },
  {
   "cell_type": "code",
   "execution_count": null,
   "outputs": [],
   "source": [
    "data = np.load('./holoviews-examples/assets/twophoton.npz')\n",
    "calcium_array = data['Calcium']\n",
    "ds = hv.Dataset((np.arange(50), np.arange(111), np.arange(62), calcium_array), ['Time', 'x', 'y'], 'Fluorescence')\n",
    "\n",
    "polys = hv.Polygons([])\n",
    "box_stream = streams.BoxEdit(source=polys)\n",
    "\n",
    "def roi_curves(data):\n",
    "    if not data or not any(len(d) for d in data.values()):\n",
    "        return hv.NdOverlay({0: hv.Curve([], 'Time', 'Fluorescence')})\n",
    "\n",
    "    curves = {}\n",
    "    data = zip(data['x0'], data['x1'], data['y0'], data['y1'])\n",
    "    for i, (x0, x1, y0, y1) in enumerate(data):\n",
    "        selection = ds.select(x=(x0, x1), y=(y0, y1))\n",
    "        curves[i] = hv.Curve(selection.aggregate('Time', np.mean))\n",
    "    return hv.NdOverlay(curves)\n",
    "\n",
    "hlines = hv.HoloMap({i: hv.VLine(i) for i in range(50)}, 'Time')\n",
    "dmap = hv.DynamicMap(roi_curves, streams=[box_stream])"
   ],
   "metadata": {
    "collapsed": false
   }
  },
  {
   "cell_type": "code",
   "execution_count": null,
   "outputs": [],
   "source": [
    "im = ds.to(hv.Image, ['x', 'y'], dynamic=True)\n",
    "(im * polys + dmap * hlines).opts( opts.Curve(width=400, framewise=True), opts.Polygons(fill_alpha=0.2, line_color='white'), opts.VLine(color='black'))"
   ],
   "metadata": {
    "collapsed": false
   }
  }
 ],
 "metadata": {
  "kernelspec": {
   "display_name": "Python 3",
   "language": "python",
   "name": "python3"
  },
  "language_info": {
   "codemirror_mode": {
    "name": "ipython",
    "version": 2
   },
   "file_extension": ".py",
   "mimetype": "text/x-python",
   "name": "python",
   "nbconvert_exporter": "python",
   "pygments_lexer": "ipython2",
   "version": "2.7.6"
  }
 },
 "nbformat": 4,
 "nbformat_minor": 0
}
