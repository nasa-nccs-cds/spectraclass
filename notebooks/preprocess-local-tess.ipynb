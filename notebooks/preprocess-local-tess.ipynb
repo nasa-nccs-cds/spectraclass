{
 "cells": [
  {
   "cell_type": "code",
   "execution_count": 1,
   "metadata": {},
   "outputs": [],
   "source": [
    "%matplotlib widget\n",
    "from spectraclass.data.base import DataManager\n",
    "import os\n",
    "from spectraclass.data.base import ModeDataManager\n",
    "from typing import List, Union, Tuple, Optional, Dict, Callable"
   ]
  },
  {
   "cell_type": "markdown",
   "metadata": {},
   "source": [
    "Here we configure paths on the Jupyter server.  If these paths are not specified here then the default values,\n",
    "    defined in server-side config files, for the project (\"demo2\") and data mode (\"desis\"), will be used.  You can\n",
    "    choose whatever project names you want, they are used to save configurations and results for ongoing investigations."
   ]
  },
  {
   "cell_type": "code",
   "execution_count": 2,
   "metadata": {
    "collapsed": false,
    "jupyter": {
     "outputs_hidden": false
    },
    "pycharm": {
     "name": "#%%\n"
    }
   },
   "outputs": [
    {
     "name": "stdout",
     "output_type": "stream",
     "text": [
      "Opening log file:  '/Users/tpmaxwel/.spectraclass/logging/tess/laptop.log'\n",
      "Using config file: '/usr/local/web/ILAB/projects/spectraclass/defaults/config.py'\n",
      "Using config file: '/Users/tpmaxwel/.spectraclass/config/tess/laptop.py'\n"
     ]
    }
   ],
   "source": [
    "dm: DataManager = DataManager.initialize( \"laptop\", 'tess' )"
   ]
  },
  {
   "cell_type": "markdown",
   "metadata": {
    "pycharm": {
     "name": "#%% md\n"
    }
   },
   "source": [
    "This block is used to preprocess the dataset."
   ]
  },
  {
   "cell_type": "code",
   "execution_count": null,
   "metadata": {
    "collapsed": false,
    "jupyter": {
     "outputs_hidden": false
    },
    "pycharm": {
     "name": "#%%\n"
    }
   },
   "outputs": [
    {
     "name": "stdout",
     "output_type": "stream",
     "text": [
      "Reading unstructured scaled_lcs data from file /Users/tpmaxwel/GDrive/Tom/Data/astrolab/tess/scaled_lcs.pkl, shape = (1484733, 900), dtype = float64, strides = (7200, 8)\n",
      "Reading unstructured tics data from file /Users/tpmaxwel/GDrive/Tom/Data/astrolab/tess/tics.pkl, shape = (1484733,), dtype = int64, strides = (8,)\n",
      "Reading unstructured camera data from file /Users/tpmaxwel/GDrive/Tom/Data/astrolab/tess/camera.pkl, shape = (1484733,), dtype = int64, strides = (8,)\n",
      "Reading unstructured chip data from file /Users/tpmaxwel/GDrive/Tom/Data/astrolab/tess/chip.pkl, shape = (1484733,), dtype = int64, strides = (8,)\n",
      "Reading unstructured dec data from file /Users/tpmaxwel/GDrive/Tom/Data/astrolab/tess/dec.pkl, shape = (1484733,), dtype = float64, strides = (8,)\n",
      "Reading unstructured ra data from file /Users/tpmaxwel/GDrive/Tom/Data/astrolab/tess/ra.pkl, shape = (1484733,), dtype = float64, strides = (8,)\n",
      "Reading unstructured tmag data from file /Users/tpmaxwel/GDrive/Tom/Data/astrolab/tess/tmag.pkl, shape = (1484733,), dtype = float64, strides = (8,)\n",
      "Reading unstructured times data from file /Users/tpmaxwel/GDrive/Tom/Data/astrolab/tess/times.pkl, shape = (1484733, 900), dtype = float64, strides = (7200, 8)\n",
      "Reading unstructured lcs data from file /Users/tpmaxwel/GDrive/Tom/Data/astrolab/tess/lcs.pkl, shape = (1484733, 900), dtype = float64, strides = (7200, 8)\n"
     ]
    }
   ],
   "source": [
    "block_nsamples: Dict[Tuple,int] = dm.prepare_inputs( reprocess=False )\n",
    "dm.save_config( block_nsamples )\n"
   ]
  }
 ],
 "metadata": {
  "kernelspec": {
   "display_name": "Python 3 (ipykernel)",
   "language": "python",
   "name": "python3"
  },
  "language_info": {
   "codemirror_mode": {
    "name": "ipython",
    "version": 3
   },
   "file_extension": ".py",
   "mimetype": "text/x-python",
   "name": "python",
   "nbconvert_exporter": "python",
   "pygments_lexer": "ipython3",
   "version": "3.8.12"
  }
 },
 "nbformat": 4,
 "nbformat_minor": 4
}