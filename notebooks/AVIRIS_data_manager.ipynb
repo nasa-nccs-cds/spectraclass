{
 "cells": [
  {
   "cell_type": "code",
   "execution_count": null,
   "metadata": {
    "collapsed": true,
    "pycharm": {
     "name": "#%%\n"
    }
   },
   "outputs": [],
   "source": [
    "%matplotlib widget\n",
    "from spectraclass.data.base import DataManager\n",
    "from matplotlib.image import AxesImage\n",
    "import numpy as np\n",
    "from cartopy.mpl.geoaxes import GeoAxes\n",
    "from spectraclass.xext.xgeo import XGeo\n",
    "from typing import List, Union, Tuple, Optional, Dict, Callable\n",
    "from spectraclass.data.spatial.tile.manager import TileManager, tm\n",
    "import matplotlib.pyplot as plt\n",
    "import ipywidgets as ipw\n",
    "import time, xarray as xa\n",
    "\n",
    "t0 = time.time()\n",
    "dm: DataManager = DataManager.initialize( \"mgr.1\", 'aviris' )\n",
    "dm.modal.cache_dir = \"/adapt/nobackup/projects/ilab/cache\"\n",
    "dm.modal.data_dir = \"/css/above/daac.ornl.gov/daacdata/above/ABoVE_Airborne_AVIRIS_NG/data/\"\n",
    "dm.modal.ext = \"_img\"\n",
    "dm.proc_type = \"cpu\"\n",
    "TileManager.block_size = 250\n",
    "nimages = len( dm.modal.image_names )\n",
    "band_index = 160\n",
    "print( f\"found {nimages} images \"  )\n",
    "print( f\"Completed init in {time.time()-t0} sec\")\n",
    "\n",
    "def get_band_data( ) -> np.ndarray:\n",
    "    dm.modal.set_current_image( 0 )\n",
    "    data_array: xa.DataArray = tm().tile.data\n",
    "    band_array: np.ndarray = data_array[band_index].values.squeeze()\n",
    "    nodata = data_array.attrs.get('_FillValue')\n",
    "    band_array[band_array == nodata] = np.nan\n",
    "    return band_array"
   ]
  },
  {
   "cell_type": "code",
   "execution_count": null,
   "outputs": [],
   "source": [
    "ax0 = plt.axes( )\n",
    "file_selector = dm.modal.file_selector\n",
    "band_plot: AxesImage = ax0.imshow( get_band_data(), cmap=\"jet\" )\n",
    "\n",
    "def on_image_change( event: Dict ):\n",
    "    dm.modal.set_current_image( file_selector.index )\n",
    "    band_plot.set_data( get_band_data( ) )\n",
    "\n",
    "dm.modal.set_file_selection_observer( on_image_change )\n",
    "ipw.HBox( [ band_plot.figure.canvas, file_selector ], layout=ipw.Layout(flex='1 1 auto') )"
   ],
   "metadata": {
    "collapsed": false,
    "pycharm": {
     "name": "#%%\n"
    }
   }
  }
 ],
 "metadata": {
  "kernelspec": {
   "display_name": "Python 3",
   "language": "python",
   "name": "python3"
  },
  "language_info": {
   "codemirror_mode": {
    "name": "ipython",
    "version": 2
   },
   "file_extension": ".py",
   "mimetype": "text/x-python",
   "name": "python",
   "nbconvert_exporter": "python",
   "pygments_lexer": "ipython2",
   "version": "2.7.6"
  }
 },
 "nbformat": 4,
 "nbformat_minor": 0
}