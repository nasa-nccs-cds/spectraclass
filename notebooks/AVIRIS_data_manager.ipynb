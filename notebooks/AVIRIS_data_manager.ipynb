{
 "cells": [
  {
   "cell_type": "code",
   "execution_count": null,
   "metadata": {
    "collapsed": true,
    "pycharm": {
     "name": "#%%\n"
    }
   },
   "outputs": [],
   "source": [
    "%matplotlib widget\n",
    "from spectraclass.data.base import DataManager\n",
    "from spectraclass.data.spatial.tile.manager import TileManager, tm\n",
    "import time, xarray as xa\n",
    "\n",
    "t0 = time.time()\n",
    "dm: DataManager = DataManager.initialize( \"mgr.1\", 'aviris' )\n",
    "dm.modal.cache_dir = \"/adapt/nobackup/projects/ilab/cache\"\n",
    "dm.modal.data_dir = \"/css/above/daac.ornl.gov/daacdata/above/ABoVE_Airborne_AVIRIS_NG/data/\"\n",
    "dm.modal.ext = \"_img\"\n",
    "dm.proc_type = \"cpu\"\n",
    "TileManager.block_size = 250\n",
    "nimages = len( dm.modal.image_names )\n",
    "print( f\"found {nimages} images \"  )\n",
    "\n",
    "print( f\"Image[{tm().image_index}]: {tm().image_name}\" )\n",
    "data: xa.DataArray = tm().tile.data\n",
    "print( f\"Data shape = {data.shape}, coords = {data.coords.keys()}\"  )\n",
    "print( f\"Completed init in {time.time()-t0} sec\")"
   ]
  },
  {
   "cell_type": "code",
   "execution_count": null,
   "outputs": [],
   "source": [
    "dm.modal.file_selector"
   ],
   "metadata": {
    "collapsed": false,
    "pycharm": {
     "name": "#%%\n"
    }
   }
  }
 ],
 "metadata": {
  "kernelspec": {
   "display_name": "Python 3",
   "language": "python",
   "name": "python3"
  },
  "language_info": {
   "codemirror_mode": {
    "name": "ipython",
    "version": 2
   },
   "file_extension": ".py",
   "mimetype": "text/x-python",
   "name": "python",
   "nbconvert_exporter": "python",
   "pygments_lexer": "ipython2",
   "version": "2.7.6"
  }
 },
 "nbformat": 4,
 "nbformat_minor": 0
}