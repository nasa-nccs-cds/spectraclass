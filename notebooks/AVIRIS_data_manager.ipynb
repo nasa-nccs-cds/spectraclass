{
 "cells": [
  {
   "cell_type": "code",
   "execution_count": null,
   "metadata": {
    "collapsed": true,
    "pycharm": {
     "name": "#%%\n"
    }
   },
   "outputs": [],
   "source": [
    "%matplotlib widget\n",
    "from spectraclass.gui.spatial.aviris.manager import AvirisDatasetManager\n",
    "location = \"desktop\"\n",
    "\n",
    "if location == \"adapt\":\n",
    "    parms = dict ( cache_dir = \"/adapt/nobackup/projects/ilab/cache\",\n",
    "                   data_dir = \"/css/above/daac.ornl.gov/daacdata/above/ABoVE_Airborne_AVIRIS_NG/data/\" )\n",
    "elif location == \"desktop\":\n",
    "    parms = dict ( cache_dir = \"/Volumes/Shared/Cache\",\n",
    "                   data_dir = \"/Users/tpmaxwel/Development/Data/Aviris\" )\n",
    "else: raise Exception( f\"Unknown location: {location}\")"
   ]
  },
  {
   "cell_type": "code",
   "execution_count": null,
   "outputs": [],
   "source": [
    "widget = AvirisDatasetManager( **parms )\n",
    "widget.gui()"
   ],
   "metadata": {
    "collapsed": false,
    "pycharm": {
     "name": "#%%\n"
    }
   }
  }
 ],
 "metadata": {
  "kernelspec": {
   "display_name": "Python 3",
   "language": "python",
   "name": "python3"
  },
  "language_info": {
   "codemirror_mode": {
    "name": "ipython",
    "version": 2
   },
   "file_extension": ".py",
   "mimetype": "text/x-python",
   "name": "python",
   "nbconvert_exporter": "python",
   "pygments_lexer": "ipython2",
   "version": "2.7.6"
  }
 },
 "nbformat": 4,
 "nbformat_minor": 0
}