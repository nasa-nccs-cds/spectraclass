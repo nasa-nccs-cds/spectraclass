{
 "cells": [
  {
   "cell_type": "code",
   "execution_count": 1,
   "metadata": {
    "collapsed": false,
    "jupyter": {
     "outputs_hidden": false
    },
    "pycharm": {
     "name": "#%%\n"
    }
   },
   "outputs": [
    {
     "name": "stdout",
     "output_type": "stream",
     "text": [
      "Using config file: '/Users/tpmaxwel/.spectraclass/config/desis/demo2.py'\n",
      "Opening log file:  '/Users/tpmaxwel/.spectraclass/logging/desis/demo2.log'\n"
     ]
    },
    {
     "name": "stderr",
     "output_type": "stream",
     "text": [
      "/opt/anaconda3/envs/spectraclass3/lib/python3.8/site-packages/spectraclass-0.1-py3.8.egg/spectraclass/data/spatial/manager.py:71: UserWarning: Config option `tile_index` not recognized by `TileManager`.  Did you mean `block_index`?\n",
      "  self.tiles: TileManager = tm()\n",
      "/opt/anaconda3/envs/spectraclass3/lib/python3.8/site-packages/spectraclass-0.1-py3.8.egg/spectraclass/data/spatial/manager.py:71: UserWarning: Config option `tile_size` not recognized by `TileManager`.  Did you mean `block_size`?\n",
      "  self.tiles: TileManager = tm()\n"
     ]
    },
    {
     "name": "stdout",
     "output_type": "stream",
     "text": [
      "Loading metadata from file: /Users/tpmaxwel/Development/Data/DESIS/DESIS-HSI-L1C-DT0468853252_002-20200628T153803-V0210.mdata.txt\n",
      "Writing metadata file: /Users/tpmaxwel/Development/Data/DESIS/DESIS-HSI-L1C-DT0468853252_002-20200628T153803-V0210.mdata.txt\n",
      "Preparing input file: '/Users/tpmaxwel/Development/Cache/spectraclass/DESIS/demo2/DESIS-HSI-L1C-DT0468853252_002-20200628T153803-V0210_b-250-250-0-0-Autoencoder-40.nc'\n",
      " Preparing point data with shape (62500, 230) and range = [-32768.0, 1.0]\n",
      " Preparing point data with shape (62500, 230) and range = [-32768.0, 1.0]\n",
      " Preparing point data with shape (62500, 230) and range = [-32768.0, 2.4321902356218796]\n",
      " Preparing point data with shape (62500, 230) and range = [-32768.0, 2.8460469020350354]\n",
      " Preparing point data with shape (62500, 230) and range = [-32768.0, 2.8897885491435265]\n",
      " Preparing point data with shape (62500, 230) and range = [-32768.0, 1.0]\n",
      " Preparing point data with shape (11750, 230) and range = [-32768.0, 1.0]\n",
      " Preparing point data with shape (62500, 230) and range = [-32768.0, 1.0]\n",
      " Preparing point data with shape (62500, 230) and range = [0.0961120199212449, 2.3343804072005923]\n",
      " Preparing point data with shape (62500, 230) and range = [0.0760599675940519, 2.683532113489888]\n",
      " Preparing point data with shape (62500, 230) and range = [0.07949816972669492, 2.960032521292523]\n",
      " Preparing point data with shape (62500, 230) and range = [0.0, 3.438277648285499]\n",
      " Preparing point data with shape (62500, 230) and range = [0.041285997030019186, 2.7399422147765073]\n",
      " Preparing point data with shape (11750, 230) and range = [-32768.0, 1.0]\n",
      " Preparing point data with shape (62500, 230) and range = [-32768.0, 1.5716792381208151]\n",
      " Preparing point data with shape (62500, 230) and range = [0.08757230283251778, 2.6998799294975977]\n",
      " Preparing point data with shape (62500, 230) and range = [0.05546045328906594, 2.658536585365854]\n",
      " Preparing point data with shape (62500, 230) and range = [0.0515326215282266, 3.5058982136838557]\n",
      " Preparing point data with shape (62500, 230) and range = [0.0, 3.5854058282322847]\n",
      " Preparing point data with shape (62500, 230) and range = [0.0, 8.01633031087738]\n",
      " Preparing point data with shape (11750, 230) and range = [-32768.0, 5.100209321427625]\n",
      " Preparing point data with shape (62500, 230) and range = [-32768.0, 2.3839450362884613]\n",
      " Preparing point data with shape (62500, 230) and range = [0.08334964781545613, 2.363676085814406]\n",
      " Preparing point data with shape (62500, 230) and range = [0.07083163142914568, 2.46188767683546]\n",
      " Preparing point data with shape (62500, 230) and range = [0.00042238881073675626, 2.487648571757382]\n",
      " Preparing point data with shape (62500, 230) and range = [0.0, 3.8890168740552324]\n",
      " Preparing point data with shape (62500, 230) and range = [0.0, 5.458496641064027]\n",
      " Preparing point data with shape (11750, 230) and range = [-32768.0, 1.0]\n",
      " Preparing point data with shape (62500, 230) and range = [-32768.0, 1.7581799632895212]\n",
      " Preparing point data with shape (62500, 230) and range = [0.10768201237121795, 2.638141841993133]\n",
      " Preparing point data with shape (62500, 230) and range = [0.080458292869707, 2.6331753884342572]\n",
      " Preparing point data with shape (62500, 230) and range = [0.01874022470556769, 3.0425124826310164]\n",
      " Preparing point data with shape (62500, 230) and range = [0.0, 5.5798046977203475]\n",
      " Preparing point data with shape (62500, 230) and range = [0.0004790828271719116, 3.3252425833245187]\n",
      " Preparing point data with shape (11750, 230) and range = [-32768.0, 1.0]\n",
      " Preparing point data with shape (62500, 230) and range = [-32768.0, 1.4331229237971925]\n",
      " Preparing point data with shape (62500, 230) and range = [0.09228360621989933, 2.428546089856152]\n",
      " Preparing point data with shape (62500, 230) and range = [0.07729774487360576, 2.4200117288547816]\n",
      " Preparing point data with shape (62500, 230) and range = [0.04545900466275795, 2.608638981229557]\n",
      " Preparing point data with shape (62500, 230) and range = [0.0208442295114545, 3.203516873706272]\n",
      " Preparing point data with shape (62500, 230) and range = [1.0, 1.0]\n",
      " Preparing point data with shape (11750, 230) and range = [-32768.0, 1.0]\n",
      " Preparing point data with shape (60750, 230) and range = [-32768.0, 1.0]\n",
      " Preparing point data with shape (60750, 230) and range = [-32768.0, 1.0]\n",
      " Preparing point data with shape (60750, 230) and range = [-32768.0, 2.6091748545007323]\n",
      " Preparing point data with shape (60750, 230) and range = [-32768.0, 2.606865284974093]\n",
      " Preparing point data with shape (60750, 230) and range = [-32768.0, 1.0]\n",
      " Preparing point data with shape (60750, 230) and range = [-32768.0, 1.0]\n",
      " Preparing point data with shape (11421, 230) and range = [-32768.0, 1.0]\n"
     ]
    },
    {
     "ename": "AssertionError",
     "evalue": "Project initialization failed- check log file for details",
     "output_type": "error",
     "traceback": [
      "\u001B[0;31m---------------------------------------------------------------------------\u001B[0m",
      "\u001B[0;31mAssertionError\u001B[0m                            Traceback (most recent call last)",
      "\u001B[0;32m/var/folders/dc/56m8zr_s05l16twqpdwj_k7r0000gp/T/ipykernel_5852/2658864363.py\u001B[0m in \u001B[0;36m<module>\u001B[0;34m\u001B[0m\n\u001B[1;32m      5\u001B[0m \u001B[0;34m\u001B[0m\u001B[0m\n\u001B[1;32m      6\u001B[0m \u001B[0mdm\u001B[0m\u001B[0;34m:\u001B[0m \u001B[0mDataManager\u001B[0m \u001B[0;34m=\u001B[0m \u001B[0mDataManager\u001B[0m\u001B[0;34m.\u001B[0m\u001B[0minitialize\u001B[0m\u001B[0;34m(\u001B[0m \u001B[0;34m\"demo2\"\u001B[0m\u001B[0;34m,\u001B[0m \u001B[0;34m'desis'\u001B[0m \u001B[0;34m)\u001B[0m  \u001B[0;31m#  (\"demo4\", 'swift' ) ( \"demo2\", 'desis' )\u001B[0m\u001B[0;34m\u001B[0m\u001B[0;34m\u001B[0m\u001B[0m\n\u001B[0;32m----> 7\u001B[0;31m \u001B[0mdm\u001B[0m\u001B[0;34m.\u001B[0m\u001B[0mloadCurrentProject\u001B[0m\u001B[0;34m(\u001B[0m\u001B[0;34m\"main\"\u001B[0m\u001B[0;34m)\u001B[0m\u001B[0;34m\u001B[0m\u001B[0;34m\u001B[0m\u001B[0m\n\u001B[0m\u001B[1;32m      8\u001B[0m \u001B[0;34m\u001B[0m\u001B[0m\n\u001B[1;32m      9\u001B[0m classes = [ ('Class-1', \"cyan\"),\n",
      "\u001B[0;32m/opt/anaconda3/envs/spectraclass3/lib/python3.8/site-packages/spectraclass-0.1-py3.8.egg/spectraclass/data/base.py\u001B[0m in \u001B[0;36mloadCurrentProject\u001B[0;34m(self, caller_id)\u001B[0m\n\u001B[1;32m    191\u001B[0m         \u001B[0mlgm\u001B[0m\u001B[0;34m(\u001B[0m\u001B[0;34m)\u001B[0m\u001B[0;34m.\u001B[0m\u001B[0mlog\u001B[0m\u001B[0;34m(\u001B[0m \u001B[0;34mf\" DataManager: loadCurrentProject: {caller_id}\"\u001B[0m \u001B[0;34m)\u001B[0m\u001B[0;34m\u001B[0m\u001B[0;34m\u001B[0m\u001B[0m\n\u001B[1;32m    192\u001B[0m         \u001B[0mproject_data\u001B[0m \u001B[0;34m=\u001B[0m \u001B[0mself\u001B[0m\u001B[0;34m.\u001B[0m\u001B[0m_mode_data_manager_\u001B[0m\u001B[0;34m.\u001B[0m\u001B[0mloadCurrentProject\u001B[0m\u001B[0;34m(\u001B[0m\u001B[0;34m)\u001B[0m\u001B[0;34m\u001B[0m\u001B[0;34m\u001B[0m\u001B[0m\n\u001B[0;32m--> 193\u001B[0;31m         \u001B[0;32massert\u001B[0m \u001B[0mproject_data\u001B[0m \u001B[0;32mis\u001B[0m \u001B[0;32mnot\u001B[0m \u001B[0;32mNone\u001B[0m\u001B[0;34m,\u001B[0m \u001B[0;34m\"Project initialization failed- check log file for details\"\u001B[0m\u001B[0;34m\u001B[0m\u001B[0;34m\u001B[0m\u001B[0m\n\u001B[0m\u001B[1;32m    194\u001B[0m         \u001B[0mlgm\u001B[0m\u001B[0;34m(\u001B[0m\u001B[0;34m)\u001B[0m\u001B[0;34m.\u001B[0m\u001B[0mlog\u001B[0m\u001B[0;34m(\u001B[0m\u001B[0;34mf\"Loaded project data:  {[f'{k}:{v.shape}' for (k,v) in project_data.variables.items()]}\"\u001B[0m\u001B[0;34m)\u001B[0m\u001B[0;34m\u001B[0m\u001B[0;34m\u001B[0m\u001B[0m\n\u001B[1;32m    195\u001B[0m         \u001B[0;32mreturn\u001B[0m \u001B[0mproject_data\u001B[0m\u001B[0;34m\u001B[0m\u001B[0;34m\u001B[0m\u001B[0m\n",
      "\u001B[0;31mAssertionError\u001B[0m: Project initialization failed- check log file for details"
     ]
    }
   ],
   "source": [
    "%matplotlib widget\n",
    "from spectraclass.data.base import DataManager\n",
    "from spectraclass.application.controller import app, SpectraclassController\n",
    "from spectraclass.model.labels import LabelsManager, lm\n",
    "\n",
    "dm: DataManager = DataManager.initialize( \"demo2\", 'desis' )  #  (\"demo4\", 'swift' ) ( \"demo2\", 'desis' )\n",
    "dm.loadCurrentProject(\"main\")\n",
    "\n",
    "classes = [ ('Class-1', \"cyan\"),\n",
    "            ('Class-2', \"green\"),\n",
    "            ('Class-3', \"magenta\"),\n",
    "            ('Class-4', \"blue\")]\n",
    "\n",
    "lm().setLabels( classes )\n",
    "controller: SpectraclassController = app()\n",
    "controller.gui()"
   ]
  },
  {
   "cell_type": "code",
   "execution_count": null,
   "metadata": {
    "pycharm": {
     "name": "#%%\n"
    }
   },
   "outputs": [],
   "source": [
    "\n"
   ]
  }
 ],
 "metadata": {
  "kernelspec": {
   "display_name": "Python 3 (ipykernel)",
   "language": "python",
   "name": "python3"
  },
  "language_info": {
   "codemirror_mode": {
    "name": "ipython",
    "version": 3
   },
   "file_extension": ".py",
   "mimetype": "text/x-python",
   "name": "python",
   "nbconvert_exporter": "python",
   "pygments_lexer": "ipython3",
   "version": "3.8.10"
  }
 },
 "nbformat": 4,
 "nbformat_minor": 4
}