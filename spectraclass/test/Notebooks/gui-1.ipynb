{
 "cells": [
  {
   "cell_type": "code",
   "execution_count": 1,
   "metadata": {
    "collapsed": false,
    "jupyter": {
     "outputs_hidden": false
    },
    "pycharm": {
     "name": "#%%\n"
    }
   },
   "outputs": [
    {
     "name": "stdout",
     "output_type": "stream",
     "text": [
      "DataManager registering ModeDataManager[aviris]: <class 'spectraclass.data.spatial.modes.AvirisDataManager'>\n",
      "DataManager registering ModeDataManager[desis]: <class 'spectraclass.data.spatial.modes.DesisDataManager'>\n",
      "DataManager registering ModeDataManager[keelin]: <class 'spectraclass.data.spatial.modes.KeelinDataManager'>\n",
      "DataManager registering ModeDataManager[swift]: <class 'spectraclass.data.unstructured.modes.SwiftDataManager'>\n",
      "DataManager registering ModeDataManager[tess]: <class 'spectraclass.data.unstructured.modes.TessDataManager'>\n",
      "Loading config files: ['demo2.py'] from dir /Users/tpmaxwel/.spectraclass/config/desis\n",
      "Get Activation flow for dsid DESIS-HSI-L1C-DT0468853252_002-20200628T153803-V0210.1000-1000_0-0_b-250-250-0-0-Autoencoder-16\n",
      "Sat Mar  6 13:07:23 2021 Building RP forest with 17 trees\n",
      "Sat Mar  6 13:07:24 2021 NN descent for 32 iterations\n",
      "\t 1  /  32\n",
      "\t 2  /  32\n",
      "\tStopping threshold met -- exiting after 2 iterations\n",
      "Running umap[3] with init random, input shape = (62500, 16)\n",
      "Computing umap embedding with nepochs = 1, alpha = 1.0, nLabels = 0, n_neighbors = 5, init = random (random)\n",
      "Completed UMAP random initialization, init shape = (62500, 3)\n",
      "Completed simplicial_set_embedding, times = 0.0008440971374511719 5.6020418802897136e-05 min\n",
      "umap embedding complete, result shape = (62500, 3) \n"
     ]
    },
    {
     "data": {
      "application/vnd.jupyter.widget-view+json": {
       "model_id": "de8ecccedd384880aa3c3b3943376565",
       "version_major": 2,
       "version_minor": 0
      },
      "text/plain": [
       "Canvas(toolbar=Toolbar(toolitems=[('Home', 'Reset original view', 'home', 'home'), ('Back', 'Back to previous …"
      ]
     },
     "metadata": {},
     "output_type": "display_data"
    },
    {
     "data": {
      "application/vnd.jupyter.widget-view+json": {
       "model_id": "4962bb37967d4e07bde728558a9387df",
       "version_major": 2,
       "version_minor": 0
      },
      "text/plain": [
       "Canvas(toolbar=Toolbar(toolitems=[('Home', 'Reset original view', 'home', 'home'), ('Back', 'Back to previous …"
      ]
     },
     "metadata": {},
     "output_type": "display_data"
    },
    {
     "name": "stdout",
     "output_type": "stream",
     "text": [
      "LabelsManager: set selected class = 0\n",
      "ZOOM Event: Updated bounds: (332250.0,339750.0), (4339680.0,4347180.0)\n",
      "Init Markers Plot\n",
      "ZOOM Event: Updated bounds: (332250.0,339750.0), (4339680.0,4347180.0)\n"
     ]
    },
    {
     "data": {
      "application/vnd.jupyter.widget-view+json": {
       "model_id": "83f02ed9931b46a68fc137011ebfd3d7",
       "version_major": 2,
       "version_minor": 0
      },
      "text/plain": [
       "HBox(children=(VBox(children=(VBox(children=(HBox(children=(Button(description='Unlabeled', layout=Layout(bord…"
      ]
     },
     "metadata": {},
     "output_type": "display_data"
    }
   ],
   "source": [
    "%matplotlib widget\n",
    "from spectraclass.data.base import DataManager\n",
    "from spectraclass.application.controller import app\n",
    "from spectraclass.model.labels import LabelsManager, lm\n",
    "import xarray as xa\n",
    "\n",
    "dm: DataManager = DataManager.initialize(\"demo2\",'keelin')\n",
    "dm.loadCurrentProject(\"main\")\n",
    "\n",
    "classes = [ ('Class-1', \"cyan\"),\n",
    "            ('Class-2', \"green\"),\n",
    "            ('Class-3', \"magenta\"),\n",
    "            ('Class-4', \"blue\")]\n",
    "\n",
    "lm().setLabels( classes )\n",
    "\n",
    "app().gui()"
   ]
  },
  {
   "cell_type": "code",
   "execution_count": null,
   "metadata": {},
   "outputs": [],
   "source": []
  },
  {
   "cell_type": "code",
   "execution_count": null,
   "metadata": {},
   "outputs": [],
   "source": []
  }
 ],
 "metadata": {
  "kernelspec": {
   "display_name": "Python 3",
   "language": "python",
   "name": "python3"
  },
  "language_info": {
   "codemirror_mode": {
    "name": "ipython",
    "version": 3
   },
   "file_extension": ".py",
   "mimetype": "text/x-python",
   "name": "python",
   "nbconvert_exporter": "python",
   "pygments_lexer": "ipython3",
   "version": "3.6.13"
  }
 },
 "nbformat": 4,
 "nbformat_minor": 4
}