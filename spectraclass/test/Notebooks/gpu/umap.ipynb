{
 "cells": [
  {
   "cell_type": "code",
   "execution_count": null,
   "metadata": {
    "collapsed": true
   },
   "outputs": [],
   "source": [
    "import cudf\n",
    "import cuml\n",
    "import pandas as pd\n",
    "import datashader as ds\n",
    "import datashader.utils as utils\n",
    "import datashader.transfer_functions as tf\n",
    "import matplotlib.pyplot as plt"
   ]
  },
  {
   "cell_type": "code",
   "execution_count": null,
   "outputs": [],
   "source": [
    "# Using cudf Dataframe here is not likely to help with performance\n",
    "# However, it's a good opportunity to get familiar with the API\n",
    "source_df = cudf.read_csv('fashion-mnist.csv')"
   ],
   "metadata": {
    "collapsed": false,
    "pycharm": {
     "name": "#%%\n"
    }
   }
  },
  {
   "cell_type": "code",
   "execution_count": null,
   "outputs": [],
   "source": [
    "data = source_df.loc[:, source_df.columns[:-1]]\n",
    "target = source_df[\"class\"]"
   ],
   "metadata": {
    "collapsed": false,
    "pycharm": {
     "name": "#%%\n"
    }
   }
  },
  {
   "cell_type": "code",
   "execution_count": null,
   "outputs": [],
   "source": [
    "# Compute K-NN graph\n",
    "\n",
    "import cudf\n",
    "from cuml.neighbors import NearestNeighbors\n",
    "from cuml.datasets import make_blobs\n",
    "\n",
    "X, _ = make_blobs( n_samples=25, centers=5, n_features=10, random_state=42 )\n",
    "\n",
    "# build a cudf Dataframe\n",
    "X_cudf = cudf.DataFrame(X)\n",
    "\n",
    "# fit model\n",
    "model = NearestNeighbors(n_neighbors=3)\n",
    "model.fit(X)\n",
    "\n",
    "# get 3 nearest neighbors\n",
    "distances, indices = model.kneighbors(X_cudf)\n",
    "\n",
    "# Need sparse array format.\n"
   ],
   "metadata": {
    "collapsed": false,
    "pycharm": {
     "name": "#%%\n"
    }
   }
  },
  {
   "cell_type": "code",
   "execution_count": null,
   "outputs": [],
   "source": [
    "%%time\n",
    "reducer = cuml.UMAP(\n",
    "    n_neighbors=15,\n",
    "    n_components=2,\n",
    "    n_epochs=500,\n",
    "    min_dist=0.1\n",
    ")\n",
    "embedding = reducer.fit_transform(data)"
   ],
   "metadata": {
    "collapsed": false,
    "pycharm": {
     "name": "#%%\n"
    }
   }
  },
  {
   "cell_type": "code",
   "execution_count": null,
   "outputs": [],
   "source": [
    "\n",
    "\n",
    "df = embedding.to_pandas()\n",
    "df.columns = [\"x\", \"y\"]\n",
    "df['class'] = pd.Series([str(x) for x in target.to_array()], dtype=\"category\")\n",
    "\n",
    "cvs = ds.Canvas(plot_width=400, plot_height=400)\n",
    "agg = cvs.points(df, 'x', 'y', ds.count_cat('class'))\n",
    "img = tf.shade(agg, color_key=color_key, how='eq_hist')\n",
    "\n",
    "utils.export_image(img, filename='fashion-mnist', background='black')\n",
    "\n",
    "image = plt.imread('fashion-mnist.png')\n",
    "fig, ax = plt.subplots(figsize=(12, 12))\n",
    "plt.imshow(image)\n",
    "plt.setp(ax, xticks=[], yticks=[])\n",
    "plt.title(\"Fashion MNIST data embedded\\n\"\n",
    "          \"into two dimensions by UMAP\\n\"\n",
    "          \"visualised with Datashader\",\n",
    "          fontsize=12)\n",
    "\n",
    "plt.show()"
   ],
   "metadata": {
    "collapsed": false,
    "pycharm": {
     "name": "#%%\n"
    }
   }
  },
  {
   "cell_type": "code",
   "execution_count": null,
   "outputs": [],
   "source": [
    "\n",
    "\n",
    "\n"
   ],
   "metadata": {
    "collapsed": false,
    "pycharm": {
     "name": "#%%\n"
    }
   }
  }
 ],
 "metadata": {
  "kernelspec": {
   "display_name": "Python 3",
   "language": "python",
   "name": "python3"
  },
  "language_info": {
   "codemirror_mode": {
    "name": "ipython",
    "version": 2
   },
   "file_extension": ".py",
   "mimetype": "text/x-python",
   "name": "python",
   "nbconvert_exporter": "python",
   "pygments_lexer": "ipython2",
   "version": "2.7.6"
  }
 },
 "nbformat": 4,
 "nbformat_minor": 0
}