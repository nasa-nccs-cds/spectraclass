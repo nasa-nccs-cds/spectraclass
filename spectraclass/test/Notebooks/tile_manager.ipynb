{
 "cells": [
  {
   "cell_type": "code",
   "execution_count": 1,
   "metadata": {
    "collapsed": true
   },
   "outputs": [],
   "source": [
    "%matplotlib widget\n",
    "import os\n",
    "import conda, numbers\n",
    "\n",
    "conda_file_dir = conda.__file__\n",
    "conda_dir = conda_file_dir.split('lib')[0]\n",
    "proj_lib = os.path.join(os.path.join(conda_dir, 'share'), 'proj')\n",
    "os.environ[\"PROJ_LIB\"] = proj_lib\n",
    "\n",
    "import xarray as xa\n",
    "from affine import Affine\n",
    "from matplotlib.backend_bases import MouseEvent\n",
    "from matplotlib.image import AxesImage\n",
    "import ipywidgets as ipw\n",
    "import numpy as np\n",
    "from matplotlib.axes import Axes\n",
    "import matplotlib.pyplot as plt\n",
    "from spectraclass.gui.spatial.widgets.tiles import TileSelector, TileManager\n",
    "import cartopy.crs as ccrs\n",
    "\n",
    "from typing import List, Union, Tuple, Optional, Dict, Iterable\n",
    "from cartopy.mpl.gridliner import LONGITUDE_FORMATTER, LATITUDE_FORMATTER\n",
    "from mpl_toolkits.axes_grid1 import make_axes_locatable\n",
    "import matplotlib.ticker as mticker"
   ]
  },
  {
   "cell_type": "code",
   "execution_count": 2,
   "outputs": [
    {
     "data": {
      "text/plain": "Canvas(toolbar=Toolbar(toolitems=[('Home', 'Reset original view', 'home', 'home'), ('Back', 'Back to previous …",
      "application/vnd.jupyter.widget-view+json": {
       "version_major": 2,
       "version_minor": 0,
       "model_id": "3788c85fcfe94ba489cc7dc8ffe8525c"
      }
     },
     "metadata": {},
     "output_type": "display_data"
    }
   ],
   "source": [
    "iband = 0\n",
    "block_size = 100\n",
    "origin = \"upper\"\n",
    "blocks_per_tile = 5\n",
    "tile_size = block_size*blocks_per_tile\n",
    "LabelDataFile = \"/Users/tpmaxwel/GDrive/Tom/Data/ChesapeakeLandUse/CalvertCounty/CALV_24009_LandUse.tif\"\n",
    "\n",
    "tmgr = TileManager( LabelDataFile, tile_size, nodata_fill=-1 )\n",
    "crs: ccrs.CRS = tmgr.crs()\n",
    "downscaled_data: xa.DataArray = tmgr.downscale( block_size, origin )\n",
    "tile_array0 = tmgr.get_tile( None, origin )\n",
    "tile_data = tile_array0.data[iband]\n",
    "vr = tmgr.vrange()\n",
    "rsize = tmgr.dsize( downscaled_data.transform, blocks_per_tile )"
   ],
   "metadata": {
    "collapsed": false,
    "pycharm": {
     "name": "#%%\n"
    }
   }
  },
  {
   "cell_type": "code",
   "execution_count": null,
   "outputs": [],
   "source": [
    "fig = plt.figure( figsize=(16,8) )\n",
    "ax0: Axes = fig.add_subplot( 121, projection=crs )\n",
    "img0: AxesImage = ax0.imshow( tile_data, transform=crs, origin=origin, cmap=\"tab20\", extent=tile_array0.attrs[\"extent\"], vmin=vr[0], vmax=vr[1] )\n",
    "\n",
    "def on_tile_selection( event: MouseEvent ):\n",
    "    dloc = [ event.xdata, event.ydata ]\n",
    "    tile_array = tmgr.get_tile( dloc, origin )\n",
    "    tile_ext = tile_array.attrs[\"extent\"]\n",
    "    img0.set_extent( tile_ext )\n",
    "    tile_data = tile_array.data[iband]\n",
    "    img0.set_data( tile_data )\n",
    "    img0.figure.canvas.draw()\n",
    "    img0.figure.canvas.flush_events()\n",
    "\n",
    "ax1 = fig.add_subplot( 122   )\n",
    "img1: AxesImage = ax1.imshow( downscaled_data.data[iband], origin='upper', cmap=\"tab20\", vmin=vr[0], vmax=vr[1] )\n",
    "img1.set_extent( downscaled_data.extent )\n",
    "ts = TileSelector( ax1, rsize, on_tile_selection )\n",
    "ts.activate()\n",
    "map_panel = ipw.HBox( [ fig.canvas ] )\n",
    "map_panel\n",
    "\n"
   ],
   "metadata": {
    "collapsed": false,
    "pycharm": {
     "name": "#%%\n"
    }
   }
  }
 ],
 "metadata": {
  "kernelspec": {
   "display_name": "Python 3",
   "language": "python",
   "name": "python3"
  },
  "language_info": {
   "codemirror_mode": {
    "name": "ipython",
    "version": 2
   },
   "file_extension": ".py",
   "mimetype": "text/x-python",
   "name": "python",
   "nbconvert_exporter": "python",
   "pygments_lexer": "ipython2",
   "version": "2.7.6"
  }
 },
 "nbformat": 4,
 "nbformat_minor": 0
}