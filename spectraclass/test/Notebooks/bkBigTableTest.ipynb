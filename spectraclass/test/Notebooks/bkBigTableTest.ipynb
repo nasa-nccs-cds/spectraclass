{
 "cells": [
  {
   "cell_type": "code",
   "execution_count": null,
   "metadata": {
    "collapsed": true,
    "jupyter": {
     "outputs_hidden": true
    }
   },
   "outputs": [],
   "source": [
    "from jupyter_bokeh.widgets import BokehModel\n",
    "import pandas as pd\n",
    "from bokeh.models import ColumnDataSource, DataTable, TableColumn\n",
    "from bokeh.io import output_notebook\n",
    "output_notebook()\n",
    "idx = list(range(10000))\n",
    "data_dict = dict( index= idx, value= [ str(id) for id in idx ] )\n",
    "df = pd.DataFrame(data_dict)\n",
    "tab_columns = [ TableColumn(field=colname, title=f'{colname}') for colname in data_dict.keys() ]\n",
    "cds = ColumnDataSource(df)\n",
    "table = DataTable( source=cds, columns=tab_columns, width=600, height=150, sortable=True, selectable=\"checkbox\" )\n",
    "BokehModel( table )"
   ]
  }
 ],
 "metadata": {
  "kernelspec": {
   "display_name": "Python 3 (ipykernel)",
   "language": "python",
   "name": "python3"
  },
  "language_info": {
   "codemirror_mode": {
    "name": "ipython",
    "version": 3
   },
   "file_extension": ".py",
   "mimetype": "text/x-python",
   "name": "python",
   "nbconvert_exporter": "python",
   "pygments_lexer": "ipython3",
   "version": "3.9.6"
  }
 },
 "nbformat": 4,
 "nbformat_minor": 4
}