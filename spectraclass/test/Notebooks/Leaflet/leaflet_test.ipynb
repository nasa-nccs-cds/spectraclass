{
 "cells": [
  {
   "cell_type": "code",
   "execution_count": 1,
   "metadata": {
    "pycharm": {
     "name": "#%%\n"
    }
   },
   "outputs": [
    {
     "name": "stdout",
     "output_type": "stream",
     "text": [
      "DataManager registering ModeDataManager[aviris]: <class 'spectraclass.data.spatial.modes.AvirisDataManager'>\n",
      "DataManager registering ModeDataManager[desis]: <class 'spectraclass.data.spatial.modes.DesisDataManager'>\n",
      "DataManager registering ModeDataManager[keelin]: <class 'spectraclass.data.spatial.modes.KeelinDataManager'>\n",
      "DataManager registering ModeDataManager[swift]: <class 'spectraclass.data.unstructured.modes.SwiftDataManager'>\n",
      "DataManager registering ModeDataManager[tess]: <class 'spectraclass.data.unstructured.modes.TessDataManager'>\n"
     ]
    }
   ],
   "source": [
    "import time, random, numpy as np, torch\n",
    "from typing import List, Union, Tuple, Optional, Dict, Callable\n",
    "import networkx as nx\n",
    "from spectraclass.data.base import DataManager\n",
    "import xarray as xa"
   ]
  },
  {
   "cell_type": "code",
   "execution_count": 2,
   "metadata": {
    "pycharm": {
     "name": "#%%\n"
    }
   },
   "outputs": [
    {
     "name": "stdout",
     "output_type": "stream",
     "text": [
      "Loading config files: ['demo3.py'] from dir /Users/tpmaxwel/.spectraclass/config/aviris\n",
      "Opening log file:  '/Users/tpmaxwel/.spectraclass/logging/aviris/demo3.136.log'\n"
     ]
    }
   ],
   "source": [
    "dm: DataManager = DataManager.initialize( \"demo3\",'aviris' )\n",
    "project_data: xa.Dataset = dm.loadCurrentProject( \"main\" )\n",
    "# dm.prepare_inputs()"
   ]
  },
  {
   "cell_type": "code",
   "execution_count": 3,
   "metadata": {
    "pycharm": {
     "name": "#%%\n"
    }
   },
   "outputs": [
    {
     "name": "stdout",
     "output_type": "stream",
     "text": [
      "files/spectraclass/datasets/aviris/demo3/ang20170720t004130_corr_v2p9.1000-1000_1-1_b-500-500-1-1-Autoencoder-32.tif\n"
     ]
    },
    {
     "data": {
      "application/vnd.jupyter.widget-view+json": {
       "model_id": "5cb2389b668a4c5a926c07d625ee6ddb",
       "version_major": 2,
       "version_minor": 0
      },
      "text/plain": [
       "Map(center=[0.0, 0.0], controls=(ZoomControl(options=['position', 'zoom_in_text', 'zoom_in_title', 'zoom_out_t…"
      ]
     },
     "metadata": {},
     "output_type": "display_data"
    }
   ],
   "source": [
    "from ipyleaflet import Map, LocalTileLayer\n",
    "\n",
    "m = Map()\n",
    "block_raster_file= dm.modal.leafletRasterPath()\n",
    "print( block_raster_file )\n",
    "m.add_layer( LocalTileLayer(path=block_raster_file) )\n",
    "m\n",
    "\n",
    "# center = [38.128, 2.588]\n",
    "# zoom = 5\n",
    "# Map(basemap=basemaps.OpenStreetMap.Mapnik, center=center, zoom=zoom)"
   ]
  },
  {
   "cell_type": "code",
   "execution_count": null,
   "metadata": {
    "pycharm": {
     "name": "#%%"
    }
   },
   "outputs": [],
   "source": []
  }
 ],
 "metadata": {
  "kernelspec": {
   "display_name": "Python 3 (ipykernel)",
   "language": "python",
   "name": "python3"
  },
  "language_info": {
   "codemirror_mode": {
    "name": "ipython",
    "version": 3
   },
   "file_extension": ".py",
   "mimetype": "text/x-python",
   "name": "python",
   "nbconvert_exporter": "python",
   "pygments_lexer": "ipython3",
   "version": "3.8.10"
  }
 },
 "nbformat": 4,
 "nbformat_minor": 1
}