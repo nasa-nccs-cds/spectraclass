{
 "cells": [
  {
   "cell_type": "code",
   "execution_count": 1,
   "metadata": {},
   "outputs": [
    {
     "name": "stdout",
     "output_type": "stream",
     "text": [
      "DataManager registering ModeDataManager[aviris]: <class 'spectraclass.data.spatial.modes.AvirisDataManager'>\n",
      "DataManager registering ModeDataManager[desis]: <class 'spectraclass.data.spatial.modes.DesisDataManager'>\n",
      "DataManager registering ModeDataManager[keelin]: <class 'spectraclass.data.spatial.modes.KeelinDataManager'>\n",
      "DataManager registering ModeDataManager[swift]: <class 'spectraclass.data.unstructured.modes.SwiftDataManager'>\n",
      "DataManager registering ModeDataManager[tess]: <class 'spectraclass.data.unstructured.modes.TessDataManager'>\n"
     ]
    }
   ],
   "source": [
    "from spectraclass.gui.spatial.widgets.raster import tss, TrainingSetSelection\n",
    "from spectraclass.model.labels import LabelsManager, lm\n",
    "from typing import List, Union, Tuple, Optional, Dict, Callable\n",
    "from spectraclass.data.base import DataManager\n",
    "import xarray as xa"
   ]
  },
  {
   "cell_type": "code",
   "execution_count": 2,
   "metadata": {
    "pycharm": {
     "name": "#%%\n"
    }
   },
   "outputs": [
    {
     "name": "stdout",
     "output_type": "stream",
     "text": [
      "Loading config files: ['demo3.py'] from dir /Users/tpmaxwel/.spectraclass/config/aviris\n",
      "Opening log file:  '/Users/tpmaxwel/.spectraclass/logging/aviris/demo3.18391.log'\n"
     ]
    }
   ],
   "source": [
    "dm: DataManager = DataManager.initialize( \"demo3\",'aviris' )\n",
    "project_data: xa.Dataset = dm.loadCurrentProject( \"main\" )\n",
    "# dm.prepare_inputs()\n",
    "\n",
    "classes = [ ('Class-1', \"cyan\"),\n",
    "            ('Class-2', \"green\"),\n",
    "            ('Class-3', \"magenta\"),\n",
    "            ('Class-4', \"blue\")]\n",
    "\n",
    "lm().setLabels( classes )"
   ]
  },
  {
   "cell_type": "code",
   "execution_count": 3,
   "metadata": {
    "pycharm": {
     "name": "#%%\n"
    }
   },
   "outputs": [
    {
     "name": "stdout",
     "output_type": "stream",
     "text": [
      "apply_mask: block_array attrs = {'long_name': 'ang20170720t004130_corr_v2p9.1000-1000_0-0_b-500-500-1-1.raw', 'transform': array([ 4.60000000e+00,  0.00000000e+00,  3.61519200e+05,  0.00000000e+00,\n",
      "       -4.60000000e+00,  6.74051024e+06,  0.00000000e+00,  0.00000000e+00,\n",
      "        1.00000000e+00]), 'fileformat': 'tif', 'tilename': 'ang20170720t004130_corr_v2p9.1000-1000_0-0', 'block_coords': array([1, 1]), 'dsid': 'ang20170720t004130_corr_v2p9.1000-1000_0-0-1-1', 'file_name': 'ang20170720t004130_corr_v2p9.1000-1000_0-0_b-500-500-1-1', 'wkt': 'PROJCS[\"WGS 84 / UTM zone 8N\",GEOGCS[\"WGS 84\",DATUM[\"WGS_1984\",SPHEROID[\"WGS 84\",6378137,298.257223563,AUTHORITY[\"EPSG\",\"7030\"]],AUTHORITY[\"EPSG\",\"6326\"]],PRIMEM[\"Greenwich\",0,AUTHORITY[\"EPSG\",\"8901\"]],UNIT[\"degree\",0.0174532925199433,AUTHORITY[\"EPSG\",\"9122\"]],AUTHORITY[\"EPSG\",\"4326\"]],PROJECTION[\"Transverse_Mercator\"],PARAMETER[\"latitude_of_origin\",0],PARAMETER[\"central_meridian\",-135],PARAMETER[\"scale_factor\",0.9996],PARAMETER[\"false_easting\",500000],PARAMETER[\"false_northing\",0],UNIT[\"metre\",1,AUTHORITY[\"EPSG\",\"9001\"]],AXIS[\"Easting\",EAST],AXIS[\"Northing\",NORTH],AUTHORITY[\"EPSG\",\"32608\"]]'}\n",
      "ZOOM Event: Updated bounds: (361519.199953,363819.19995299994), (6738210.244336883,6740510.2443368845)\n",
      "Init Markers Plot\n",
      "ZOOM Event: Updated bounds: (361519.199953,363819.199953), (6738210.244336884,6740510.244336884)\n",
      "LabelsManager: set selected class = 0\n"
     ]
    },
    {
     "data": {
      "application/vnd.jupyter.widget-view+json": {
       "model_id": "8fe44915fd4c4ffb85075158978e32a2",
       "version_major": 2,
       "version_minor": 0
      },
      "text/plain": [
       "VBox(children=(HTML(value='', description='messages:', layout=Layout(width='100%'), placeholder=''), VBox(chil…"
      ]
     },
     "metadata": {},
     "output_type": "display_data"
    },
    {
     "name": "stdout",
     "output_type": "stream",
     "text": [
      "LabelsManager: set selected class = 1\n",
      "LabelsManager: set selected class = 0\n",
      "LabelsManager: set selected class = 2\n",
      "LabelsManager: set selected class = 3\n",
      "LabelsManager: set selected class = 1\n"
     ]
    }
   ],
   "source": [
    "tss = tss()\n",
    "tss.gui()\n"
   ]
  },
  {
   "cell_type": "code",
   "execution_count": null,
   "metadata": {},
   "outputs": [],
   "source": []
  }
 ],
 "metadata": {
  "kernelspec": {
   "display_name": "Python 3 (ipykernel)",
   "language": "python",
   "name": "python3"
  },
  "language_info": {
   "codemirror_mode": {
    "name": "ipython",
    "version": 3
   },
   "file_extension": ".py",
   "mimetype": "text/x-python",
   "name": "python",
   "nbconvert_exporter": "python",
   "pygments_lexer": "ipython3",
   "version": "3.8.10"
  }
 },
 "nbformat": 4,
 "nbformat_minor": 1
}