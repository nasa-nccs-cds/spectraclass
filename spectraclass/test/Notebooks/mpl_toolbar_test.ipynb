{
 "cells": [
  {
   "cell_type": "code",
   "execution_count": 1,
   "metadata": {},
   "outputs": [
    {
     "name": "stderr",
     "output_type": "stream",
     "text": [
      "/var/folders/k6/40r5lsxs75g91q824qzfvqy40000gn/T/ipykernel_28151/2651640546.py:3: UserWarning: Treat the new Tool classes introduced in v1.5 as experimental for now; the API and rcParam may change in future versions.\n",
      "  plt.rcParams['toolbar'] = 'toolmanager'\n"
     ]
    }
   ],
   "source": [
    "%matplotlib widget\n",
    "import matplotlib.pyplot as plt\n",
    "plt.rcParams['toolbar'] = 'toolmanager'\n",
    "from matplotlib.backend_tools import ToolBase, ToolToggleBase\n",
    "\n",
    "class ListTools(ToolBase):\n",
    "    \"\"\"List all the tools controlled by the `ToolManager`.\"\"\"\n",
    "    # keyboard shortcut\n",
    "    default_keymap = 'm'\n",
    "    description = 'List Tools'\n",
    "\n",
    "    def trigger(self, *args, **kwargs):\n",
    "        print('_' * 80)\n",
    "        print(\"{0:12} {1:45} {2}\".format(\n",
    "            'Name (id)', 'Tool description', 'Keymap'))\n",
    "        print('-' * 80)\n",
    "        tools = self.toolmanager.tools\n",
    "        for name in sorted(tools):\n",
    "            if not tools[name].description:\n",
    "                continue\n",
    "            keys = ', '.join(sorted(self.toolmanager.get_tool_keymap(name)))\n",
    "            print(\"{0:12} {1:45} {2}\".format(\n",
    "                name, tools[name].description, keys))\n",
    "        print('_' * 80)\n",
    "        print(\"Active Toggle tools\")\n",
    "        print(\"{0:12} {1:45}\".format(\"Group\", \"Active\"))\n",
    "        print('-' * 80)\n",
    "        for group, active in self.toolmanager.active_toggle.items():\n",
    "            print(\"{0:12} {1:45}\".format(str(group), str(active)))\n",
    "\n",
    "\n",
    "class GroupHideTool(ToolToggleBase):\n",
    "    \"\"\"Show lines with a given gid.\"\"\"\n",
    "    default_keymap = 'S'\n",
    "    description = 'Show by gid'\n",
    "    default_toggled = True\n",
    "\n",
    "    def __init__(self, *args, gid, **kwargs):\n",
    "        self.gid = gid\n",
    "        super().__init__(*args, **kwargs)\n",
    "\n",
    "    def enable(self, *args):\n",
    "        self.set_lines_visibility(True)\n",
    "\n",
    "    def disable(self, *args):\n",
    "        self.set_lines_visibility(False)\n",
    "\n",
    "    def set_lines_visibility(self, state):\n",
    "        for ax in self.figure.get_axes():\n",
    "            for line in ax.get_lines():\n",
    "                if line.get_gid() == self.gid:\n",
    "                    line.set_visible(state)\n",
    "        self.figure.canvas.draw()"
   ]
  },
  {
   "cell_type": "code",
   "execution_count": 2,
   "metadata": {
    "pycharm": {
     "name": "#%%\n"
    }
   },
   "outputs": [
    {
     "data": {
      "application/vnd.jupyter.widget-view+json": {
       "model_id": "6de13c71559143c2839962b8c0665a85",
       "version_major": 2,
       "version_minor": 0
      },
      "text/plain": [
       "Canvas(toolbar=Toolbar(toolitems=[('Home', 'Reset original view', 'home', 'home'), ('Back', 'Back to previous …"
      ]
     },
     "metadata": {},
     "output_type": "display_data"
    },
    {
     "data": {
      "application/vnd.jupyter.widget-view+json": {
       "model_id": "443e150448714a818da2369415295cba",
       "version_major": 2,
       "version_minor": 0
      },
      "text/plain": [
       "VBox(children=(Canvas(toolbar=Toolbar(toolitems=[('Home', 'Reset original view', 'home', 'home'), ('Back', 'Ba…"
      ]
     },
     "metadata": {},
     "output_type": "display_data"
    }
   ],
   "source": [
    "import ipywidgets as ipw\n",
    "\n",
    "fig = plt.figure()\n",
    "plt.plot([1, 2, 3], gid='mygroup')\n",
    "plt.plot([2, 3, 4], gid='unknown')\n",
    "plt.plot([3, 2, 1], gid='mygroup')\n",
    "\n",
    "# Add the custom tools that we created\n",
    "fig.canvas.manager.toolmanager.add_tool('List', ListTools)\n",
    "fig.canvas.manager.toolmanager.add_tool('Show', GroupHideTool, gid='mygroup')\n",
    "# fig.canvas.manager.toolmanager.remove_tool('forward')\n",
    "# print( fig.canvas.manager.toolbar.__class__ )\n",
    "# print( fig.canvas.manager.toolmanager.__class__ )\n",
    "fig.canvas.manager.toolbar.toolitems.append( ( 'Show', 'show', 'show', 'show' ) )\n",
    "ipw.VBox([ fig.canvas ])\n",
    "\n",
    "#fig.canvas.manager.toolbar.add_tool('zoom', 'foo')\n",
    "#fig.canvas.manager.toolbar.add_tool('Show', 'navigation', 1)\n",
    "\n",
    "\n"
   ]
  },
  {
   "cell_type": "code",
   "execution_count": null,
   "metadata": {},
   "outputs": [],
   "source": []
  }
 ],
 "metadata": {
  "kernelspec": {
   "display_name": "Python 3 (ipykernel)",
   "language": "python",
   "name": "python3"
  },
  "language_info": {
   "codemirror_mode": {
    "name": "ipython",
    "version": 3
   },
   "file_extension": ".py",
   "mimetype": "text/x-python",
   "name": "python",
   "nbconvert_exporter": "python",
   "pygments_lexer": "ipython3",
   "version": "3.8.10"
  }
 },
 "nbformat": 4,
 "nbformat_minor": 1
}