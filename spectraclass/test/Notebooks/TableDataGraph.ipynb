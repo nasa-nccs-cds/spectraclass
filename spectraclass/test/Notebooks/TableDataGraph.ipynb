{
 "cells": [
  {
   "cell_type": "code",
   "execution_count": 1,
   "metadata": {},
   "outputs": [
    {
     "name": "stdout",
     "output_type": "stream",
     "text": [
      "Opened Dataset Autoencoder-16-ss5 from file ~/Development/Cache/swiftclass/Autoencoder-16-ss5.nc\n",
      "Opened Dataset Autoencoder-16-ss5 from file ~/Development/Cache/swiftclass/Autoencoder-16-ss5.nc\n"
     ]
    }
   ],
   "source": [
    "import ipywidgets as ip\n",
    "from typing import List, Union, Tuple, Optional, Dict, Callable\n",
    "import time\n",
    "from spectraclass.data.manager import DataManager\n",
    "from spectraclass.gui.graph import PlotManager\n",
    "from spectraclass.gui.table import TableManager\n",
    "t0 = time.time()\n",
    "\n",
    "dataManager = DataManager.instance()\n",
    "graphManager = PlotManager.instance()\n",
    "tableManager=  TableManager.instance()\n",
    "\n",
    "table_cols = [ \"target_names\", \"obsids\" ]\n",
    "\n",
    "\n",
    "tableManager.init(  cols=table_cols )\n",
    "table = tableManager.gui()\n",
    "graph = graphManager.gui()\n",
    "tableManager.add_selection_listerner( graphManager.on_selection )"
   ]
  },
  {
   "cell_type": "code",
   "execution_count": 2,
   "metadata": {},
   "outputs": [
    {
     "data": {
      "application/vnd.jupyter.widget-view+json": {
       "model_id": "d50e5be6d3a84d67b6cfc1118249c5be",
       "version_major": 2,
       "version_minor": 0
      },
      "text/plain": [
       "VBox(children=(VBox(children=(HBox(children=(Text(value='', continuous_update=False, description='Find:', plac…"
      ]
     },
     "metadata": {},
     "output_type": "display_data"
    }
   ],
   "source": [
    "ip.VBox( [table, graph] )\n"
   ]
  },
  {
   "cell_type": "code",
   "execution_count": 2,
   "metadata": {},
   "outputs": [],
   "source": []
  }
 ],
 "metadata": {
  "kernelspec": {
   "display_name": "Python 3",
   "language": "python",
   "name": "python3"
  },
  "language_info": {
   "codemirror_mode": {
    "name": "ipython",
    "version": 3
   },
   "file_extension": ".py",
   "mimetype": "text/x-python",
   "name": "python",
   "nbconvert_exporter": "python",
   "pygments_lexer": "ipython3",
   "version": "3.7.8"
  }
 },
 "nbformat": 4,
 "nbformat_minor": 4
}