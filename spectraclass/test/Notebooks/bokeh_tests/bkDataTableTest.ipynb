{
 "cells": [
  {
   "cell_type": "code",
   "execution_count": null,
   "metadata": {
    "collapsed": true
   },
   "outputs": [],
   "source": [
    "%matplotlib widget\n",
    "from spectraclass.data.base import DataManager\n",
    "from spectraclass.gui.unstructured.bktable import bkSpreadsheet\n",
    "from spectraclass.model.labels import LabelsManager, lm\n",
    "from bokeh.core.property.container import ColumnData\n",
    "from spectraclass.gui.unstructured.bktable import TableManager\n",
    "from bokeh.models import ColumnDataSource, DataTable, TableColumn\n",
    "import pandas as pd\n",
    "\n",
    "dm: DataManager = DataManager.initialize(\"demo4\", 'swift' )  #  (\"demo4\", 'swift' ) ( \"demo2\", 'desis' )\n",
    "dm.loadCurrentProject(\"main\")\n",
    "\n",
    "classes = [ ('Class-1', \"cyan\"),\n",
    "            ('Class-2', \"green\"),\n",
    "            ('Class-3', \"magenta\"),\n",
    "            ('Class-4', \"blue\")]\n",
    "\n",
    "lm().setLabels( classes )\n",
    "\n",
    "tm = TableManager.instance()\n",
    "tm.init()\n",
    "\n",
    "ss: bkSpreadsheet = tm._createTable( 0 )\n",
    "table: DataTable = ss._table\n",
    "source: ColumnDataSource = table.source\n",
    "pdf: pd.DataFrame = source.to_df()\n",
    "data: ColumnData = source.data"
   ]
  },
  {
   "cell_type": "code",
   "execution_count": null,
   "outputs": [],
   "source": [
    "\n"
   ],
   "metadata": {
    "collapsed": false,
    "pycharm": {
     "name": "#%%\n"
    }
   }
  }
 ],
 "metadata": {
  "kernelspec": {
   "display_name": "Python 3",
   "language": "python",
   "name": "python3"
  },
  "language_info": {
   "codemirror_mode": {
    "name": "ipython",
    "version": 2
   },
   "file_extension": ".py",
   "mimetype": "text/x-python",
   "name": "python",
   "nbconvert_exporter": "python",
   "pygments_lexer": "ipython2",
   "version": "2.7.6"
  }
 },
 "nbformat": 4,
 "nbformat_minor": 0
}