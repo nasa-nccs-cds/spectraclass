{
 "cells": [
  {
   "cell_type": "code",
   "execution_count": 1,
   "metadata": {
    "pycharm": {
     "name": "#%%\n"
    }
   },
   "outputs": [
    {
     "data": {
      "application/vnd.jupyter.widget-view+json": {
       "model_id": "576a398f202b4fafa77ec73d5832bf32",
       "version_major": 2,
       "version_minor": 0
      },
      "text/plain": [
       "BokehModel(render_bundle={'docs_json': {'63d3e598-cc97-489c-af34-e4d187ca26c4': {'defs': [], 'roots': {'refere…"
      ]
     },
     "metadata": {},
     "output_type": "display_data"
    }
   ],
   "source": [
    "import pandas as pd\n",
    "import ipywidgets as ipw\n",
    "from jupyter_bokeh.widgets import BokehModel\n",
    "from bokeh.models import ColumnDataSource, DataTable, TableColumn, Column\n",
    "from bokeh.io import output_notebook, show\n",
    "output_notebook()\n",
    "\n",
    "idx = list(range(100))\n",
    "data_dict = dict( index= idx, value= [ str(id) for id in idx ] )\n",
    "df = pd.DataFrame(data_dict)\n",
    "tab_columns = [ TableColumn(field=colname, title=f'{colname}') for colname in data_dict.keys() ]\n",
    "cds = ColumnDataSource(df)\n",
    "table = DataTable( source=cds, columns=tab_columns, width=600, height=150, sortable=True, selectable=\"checkbox\" )\n",
    "output_figure = ipw.Output()\n",
    "\n",
    "with output_figure:\n",
    "    show( table )\n",
    "\n",
    "output_figure"
   ]
  }
 ],
 "metadata": {
  "kernelspec": {
   "display_name": "Python 3",
   "language": "python",
   "name": "python3"
  },
  "language_info": {
   "codemirror_mode": {
    "name": "ipython",
    "version": 3
   },
   "file_extension": ".py",
   "mimetype": "text/x-python",
   "name": "python",
   "nbconvert_exporter": "python",
   "pygments_lexer": "ipython3",
   "version": "3.9.10"
  }
 },
 "nbformat": 4,
 "nbformat_minor": 4
}