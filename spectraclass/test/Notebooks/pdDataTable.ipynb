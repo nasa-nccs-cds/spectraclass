{
 "cells": [
  {
   "cell_type": "code",
   "execution_count": 1,
   "metadata": {},
   "outputs": [
    {
     "name": "stdout",
     "output_type": "stream",
     "text": [
      "Opened Dataset Autoencoder-16-ss5 from file ~/Development/Cache/swiftclass/Autoencoder-16-ss5.nc\n",
      " wFindOptions: \n"
     ]
    },
    {
     "data": {
      "application/vnd.jupyter.widget-view+json": {
       "model_id": "0ad0452061d34650885da762c900a400",
       "version_major": 2,
       "version_minor": 0
      },
      "text/plain": [
       "VBox(children=(HBox(children=(Text(value='', continuous_update=False, description='Find:', placeholder='Find i…"
      ]
     },
     "metadata": {},
     "output_type": "display_data"
    }
   ],
   "source": [
    "from typing import List, Union, Tuple, Optional, Dict, Callable\n",
    "import time\n",
    "from astrolab.data.manager import dataManager\n",
    "from astrolab.gui.table import tableManager\n",
    "t0 = time.time()\n",
    "\n",
    "table_cols = [ \"target_names\", \"obsids\" ]\n",
    "config = dict(\n",
    "    reduce = dict( method=\"Autoencoder\", dims=16, subsample=5 ),\n",
    "    data = dict( cache=\"~/Development/Cache\" ),\n",
    ")\n",
    "\n",
    "dataManager.initProject( 'swiftclass', 'read_data_test', config )\n",
    "dataManager.save()\n",
    "tableManager.init(  cols=table_cols )\n",
    "\n",
    "tableManager.gui()"
   ]
  },
  {
   "cell_type": "code",
   "execution_count": null,
   "metadata": {},
   "outputs": [],
   "source": []
  },
  {
   "cell_type": "code",
   "execution_count": null,
   "metadata": {},
   "outputs": [],
   "source": []
  }
 ],
 "metadata": {
  "kernelspec": {
   "display_name": "Python 3",
   "language": "python",
   "name": "python3"
  },
  "language_info": {
   "codemirror_mode": {
    "name": "ipython",
    "version": 3
   },
   "file_extension": ".py",
   "mimetype": "text/x-python",
   "name": "python",
   "nbconvert_exporter": "python",
   "pygments_lexer": "ipython3",
   "version": "3.7.8"
  }
 },
 "nbformat": 4,
 "nbformat_minor": 4
}