{
 "cells": [
  {
   "cell_type": "code",
   "execution_count": 9,
   "outputs": [],
   "source": [
    "import random, numpy as np, torch\n",
    "from typing import List, Union, Tuple, Optional, Dict, Callable\n",
    "from spectraclass.data.base import DataManager\n",
    "import torch_geometric\n",
    "from torchmetrics.functional import *\n",
    "import hvplot.xarray\n",
    "import holoviews as hv\n",
    "import panel as pn\n",
    "from torch_geometric.data import Data\n",
    "import xarray as xa"
   ],
   "metadata": {
    "collapsed": false,
    "pycharm": {
     "name": "#%%\n"
    }
   }
  },
  {
   "cell_type": "code",
   "execution_count": 2,
   "metadata": {
    "collapsed": true
   },
   "outputs": [
    {
     "name": "stdout",
     "output_type": "stream",
     "text": [
      "Loading config files: ['pavia.py'] from dir /Users/tpmaxwel/.spectraclass/config/aviris\n",
      "Opening log file:  '/Users/tpmaxwel/.spectraclass/logging/aviris/pavia.41047.log'\n",
      "\n",
      "Reading class file: /Users/tpmaxwel/GDrive/Tom/Data/Aviris/Pavia/Pavia_gt.mat\n",
      "\n",
      "Reading variable 'paviaU_gt' from Matlab dataset '/Users/tpmaxwel/GDrive/Tom/Data/Aviris/Pavia/Pavia_gt.mat': b'MATLAB 5.0 MAT-file, Platform: GLNXA64, Created on: Fri May 20 18:25:52 2011'\n"
     ]
    }
   ],
   "source": [
    "dm: DataManager = DataManager.initialize( \"pavia\", 'aviris' )\n",
    "project_data: xa.Dataset = dm.loadCurrentProject( \"main\" )\n",
    "reduced_spectral_data: xa.DataArray = project_data['reduction']\n",
    "raw_spectral_data: xa.DataArray = project_data['raw']\n",
    "class_map: xa.DataArray = dm.getClassMap()\n",
    "node_data: torch.tensor = torch.from_numpy( reduced_spectral_data.values )"
   ]
  },
  {
   "cell_type": "code",
   "execution_count": 18,
   "outputs": [
    {
     "name": "stdout",
     "output_type": "stream",
     "text": [
      "(tensor(1.3937), tensor(0.))\n"
     ]
    }
   ],
   "source": [
    "gshape = class_map.shape\n",
    "grid = torch_geometric.utils.grid( *gshape )\n",
    "grid_edges: torch.Tensor = grid[0]\n",
    "node_spectra = [ node_data[ grid_edges[i] ] for i in (0,1) ]\n",
    "weights: torch.Tensor = torch.abs( 1.0 - cosine_similarity( *node_spectra, 'none' ) )"
   ],
   "metadata": {
    "collapsed": false,
    "pycharm": {
     "name": "#%%\n"
    }
   }
  },
  {
   "cell_type": "code",
   "execution_count": null,
   "outputs": [],
   "source": [],
   "metadata": {
    "collapsed": false,
    "pycharm": {
     "name": "#%%\n"
    }
   }
  }
 ],
 "metadata": {
  "kernelspec": {
   "display_name": "Python 3",
   "language": "python",
   "name": "python3"
  },
  "language_info": {
   "codemirror_mode": {
    "name": "ipython",
    "version": 2
   },
   "file_extension": ".py",
   "mimetype": "text/x-python",
   "name": "python",
   "nbconvert_exporter": "python",
   "pygments_lexer": "ipython2",
   "version": "2.7.6"
  }
 },
 "nbformat": 4,
 "nbformat_minor": 0
}