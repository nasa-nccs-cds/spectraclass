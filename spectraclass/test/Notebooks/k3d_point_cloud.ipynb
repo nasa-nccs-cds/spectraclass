{
 "cells": [
  {
   "cell_type": "code",
   "execution_count": 1,
   "metadata": {},
   "outputs": [
    {
     "name": "stderr",
     "output_type": "stream",
     "text": [
      "Using TensorFlow backend.\n",
      "/Users/tpmaxwel/opt/anaconda3/envs/astrolab/lib/python3.7/site-packages/tensorflow/python/framework/dtypes.py:516: FutureWarning: Passing (type, 1) or '1type' as a synonym of type is deprecated; in a future version of numpy, it will be understood as (type, (1,)) / '(1,)type'.\n",
      "  _np_qint8 = np.dtype([(\"qint8\", np.int8, 1)])\n",
      "/Users/tpmaxwel/opt/anaconda3/envs/astrolab/lib/python3.7/site-packages/tensorflow/python/framework/dtypes.py:517: FutureWarning: Passing (type, 1) or '1type' as a synonym of type is deprecated; in a future version of numpy, it will be understood as (type, (1,)) / '(1,)type'.\n",
      "  _np_quint8 = np.dtype([(\"quint8\", np.uint8, 1)])\n",
      "/Users/tpmaxwel/opt/anaconda3/envs/astrolab/lib/python3.7/site-packages/tensorflow/python/framework/dtypes.py:518: FutureWarning: Passing (type, 1) or '1type' as a synonym of type is deprecated; in a future version of numpy, it will be understood as (type, (1,)) / '(1,)type'.\n",
      "  _np_qint16 = np.dtype([(\"qint16\", np.int16, 1)])\n",
      "/Users/tpmaxwel/opt/anaconda3/envs/astrolab/lib/python3.7/site-packages/tensorflow/python/framework/dtypes.py:519: FutureWarning: Passing (type, 1) or '1type' as a synonym of type is deprecated; in a future version of numpy, it will be understood as (type, (1,)) / '(1,)type'.\n",
      "  _np_quint16 = np.dtype([(\"quint16\", np.uint16, 1)])\n",
      "/Users/tpmaxwel/opt/anaconda3/envs/astrolab/lib/python3.7/site-packages/tensorflow/python/framework/dtypes.py:520: FutureWarning: Passing (type, 1) or '1type' as a synonym of type is deprecated; in a future version of numpy, it will be understood as (type, (1,)) / '(1,)type'.\n",
      "  _np_qint32 = np.dtype([(\"qint32\", np.int32, 1)])\n",
      "/Users/tpmaxwel/opt/anaconda3/envs/astrolab/lib/python3.7/site-packages/tensorflow/python/framework/dtypes.py:525: FutureWarning: Passing (type, 1) or '1type' as a synonym of type is deprecated; in a future version of numpy, it will be understood as (type, (1,)) / '(1,)type'.\n",
      "  np_resource = np.dtype([(\"resource\", np.ubyte, 1)])\n",
      "/Users/tpmaxwel/opt/anaconda3/envs/astrolab/lib/python3.7/site-packages/tensorboard/compat/tensorflow_stub/dtypes.py:541: FutureWarning: Passing (type, 1) or '1type' as a synonym of type is deprecated; in a future version of numpy, it will be understood as (type, (1,)) / '(1,)type'.\n",
      "  _np_qint8 = np.dtype([(\"qint8\", np.int8, 1)])\n",
      "/Users/tpmaxwel/opt/anaconda3/envs/astrolab/lib/python3.7/site-packages/tensorboard/compat/tensorflow_stub/dtypes.py:542: FutureWarning: Passing (type, 1) or '1type' as a synonym of type is deprecated; in a future version of numpy, it will be understood as (type, (1,)) / '(1,)type'.\n",
      "  _np_quint8 = np.dtype([(\"quint8\", np.uint8, 1)])\n",
      "/Users/tpmaxwel/opt/anaconda3/envs/astrolab/lib/python3.7/site-packages/tensorboard/compat/tensorflow_stub/dtypes.py:543: FutureWarning: Passing (type, 1) or '1type' as a synonym of type is deprecated; in a future version of numpy, it will be understood as (type, (1,)) / '(1,)type'.\n",
      "  _np_qint16 = np.dtype([(\"qint16\", np.int16, 1)])\n",
      "/Users/tpmaxwel/opt/anaconda3/envs/astrolab/lib/python3.7/site-packages/tensorboard/compat/tensorflow_stub/dtypes.py:544: FutureWarning: Passing (type, 1) or '1type' as a synonym of type is deprecated; in a future version of numpy, it will be understood as (type, (1,)) / '(1,)type'.\n",
      "  _np_quint16 = np.dtype([(\"quint16\", np.uint16, 1)])\n",
      "/Users/tpmaxwel/opt/anaconda3/envs/astrolab/lib/python3.7/site-packages/tensorboard/compat/tensorflow_stub/dtypes.py:545: FutureWarning: Passing (type, 1) or '1type' as a synonym of type is deprecated; in a future version of numpy, it will be understood as (type, (1,)) / '(1,)type'.\n",
      "  _np_qint32 = np.dtype([(\"qint32\", np.int32, 1)])\n",
      "/Users/tpmaxwel/opt/anaconda3/envs/astrolab/lib/python3.7/site-packages/tensorboard/compat/tensorflow_stub/dtypes.py:550: FutureWarning: Passing (type, 1) or '1type' as a synonym of type is deprecated; in a future version of numpy, it will be understood as (type, (1,)) / '(1,)type'.\n",
      "  np_resource = np.dtype([(\"resource\", np.ubyte, 1)])\n"
     ]
    },
    {
     "name": "stdout",
     "output_type": "stream",
     "text": [
      "Opened Dataset Autoencoder-16-ss5 from file ~/Development/Cache/swiftclass/Autoencoder-16-ss5.nc\n",
      "Get Activation flow for dsid swift\n",
      "Wed Sep 23 14:26:18 2020 Building RP forest with 16 trees\n",
      "Wed Sep 23 14:26:19 2020 NN descent for 30 iterations\n",
      "\t 1  /  30\n",
      "\t 2  /  30\n",
      "\t 3  /  30\n",
      "\tStopping threshold met -- exiting after 3 iterations\n",
      "Computed NN Graph with 8 neighbors and 44447 verts in 8.865299940109253 sec (0.14775499900182087 min)\n",
      "Completed data prep in 1.1920928955078125e-06 sec, Now fitting umap[3] with 44447 samples and 0 labels\n",
      "Running umap[3] with init random, input shape = (44447, 16), #epochs = 50\n",
      "Computing umap embedding with nepochs = 100, alpha = 0.25, nLabels = 0\n",
      " >>> Embed n_epochs=100, alpha=0.25 \n",
      "Completed simplicial_set_embedding, times = 0.0008318980534871419 0.07914746602376302 min\n",
      "Completed umap fitting in 0.10792163213094076 min, embedding shape = (44447, 3)\n"
     ]
    },
    {
     "data": {
      "application/vnd.jupyter.widget-view+json": {
       "model_id": "d5f7191228c64f22833ab28c276a031e",
       "version_major": 2,
       "version_minor": 0
      },
      "text/plain": [
       "Plot(antialias=3, axes=['x', 'y', 'z'], axes_helper=1.0, background_color=16777215, camera=[2, -3, 0.2, 0.0, 0…"
      ]
     },
     "metadata": {},
     "output_type": "display_data"
    }
   ],
   "source": [
    "import k3d\n",
    "import ipywidgets as widgets\n",
    "from k3d.objects import Points\n",
    "import numpy as np\n",
    "from astrolab.data.manager import dataManager\n",
    "from astrolab.reduction.embedding import reductionManager\n",
    "import xarray as xa\n",
    "\n",
    "config = dict(\n",
    "    reduce = dict( method=\"Autoencoder\", dims=16, subsample=5 ),\n",
    "    data = dict( cache=\"~/Development/Cache\" ),\n",
    "    umap = dict( dims=3, nepochs=100, alpha=0.25, nneighbors=8 ),\n",
    "\n",
    ")\n",
    "slider = widgets.IntSlider()\n",
    "\n",
    "dataManager.initProject( 'swiftclass', 'read_data_test', config )\n",
    "dataManager.save()\n",
    "\n",
    "project_dataset = dataManager.loadCurrentProject()\n",
    "reduced_data: xa.DataArray = project_dataset.reduction\n",
    "reduced_data.attrs['dsid'] = 'swift'\n",
    "\n",
    "embedding: np.ndarray = reductionManager.umap_embedding( reduced_data ).values\n",
    "colors = np.random.randint(0, 0xFFFFFF, embedding.shape[0] )\n",
    "\n",
    "title_widget = widgets.HTML('<em>Point Cloud Example</em>')\n",
    "\n",
    "plot = k3d.plot(name='points')\n",
    "points: Points = k3d.points(embedding.astype(np.float32), colors.astype(np.uint32), point_size=3.0, shader='flat')\n",
    "plot += points\n",
    "\n",
    "#widgets.VBox( [title_widget, plot] )\n",
    "\n",
    "plot"
   ]
  },
  {
   "cell_type": "code",
   "execution_count": null,
   "metadata": {},
   "outputs": [],
   "source": []
  }
 ],
 "metadata": {
  "kernelspec": {
   "display_name": "Python 3",
   "language": "python",
   "name": "python3"
  },
  "language_info": {
   "codemirror_mode": {
    "name": "ipython",
    "version": 3
   },
   "file_extension": ".py",
   "mimetype": "text/x-python",
   "name": "python",
   "nbconvert_exporter": "python",
   "pygments_lexer": "ipython3",
   "version": "3.7.8"
  }
 },
 "nbformat": 4,
 "nbformat_minor": 4
}