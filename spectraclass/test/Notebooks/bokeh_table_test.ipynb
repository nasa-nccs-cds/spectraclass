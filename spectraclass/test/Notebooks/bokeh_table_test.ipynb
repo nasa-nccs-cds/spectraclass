{
 "cells": [
  {
   "cell_type": "code",
   "execution_count": null,
   "metadata": {
    "collapsed": true
   },
   "outputs": [],
   "source": [
    "import xarray as xa\n",
    "import pandas as pd\n",
    "import time, traceback, shutil\n",
    "from functools import partial\n",
    "from jupyter_bokeh.widgets import BokehModel\n",
    "import numpy as np\n",
    "import scipy, sklearn\n",
    "from tensorflow.keras.models import Model\n",
    "from typing import List, Tuple, Optional, Dict, Union\n",
    "from bokeh.models import ColumnDataSource, DataTable, TableColumn, Selection\n",
    "import traitlets as tl\n",
    "import traitlets.config as tlc\n",
    "import ipywidgets as ipw"
   ]
  },
  {
   "cell_type": "code",
   "execution_count": null,
   "outputs": [],
   "source": [
    "cdata = dict( numbers=[ \"1\", \"2\", \"3\", \"4\", \"5\", \"6\" ])\n",
    "cnames = list( cdata.keys() )\n",
    "dataFrame = pd.DataFrame( cdata, columns=cnames )\n",
    "source: ColumnDataSource = ColumnDataSource( dataFrame )\n",
    "columns = [ TableColumn(field=cid, title=cid, width=250) for cid in cnames ]\n",
    "table = DataTable( source=source, columns=columns, width=300, height=200, selectable=\"checkbox\" )"
   ],
   "metadata": {
    "collapsed": false,
    "pycharm": {
     "name": "#%%\n"
    }
   }
  },
  {
   "cell_type": "code",
   "execution_count": null,
   "outputs": [],
   "source": [
    "btable = BokehModel( table )\n",
    "header = ipw.Label( \"Test Table\")\n",
    "ipw.HBox( [ header, btable ] )"
   ],
   "metadata": {
    "collapsed": false,
    "pycharm": {
     "name": "#%%\n"
    }
   }
  }
 ],
 "metadata": {
  "kernelspec": {
   "display_name": "Python 3",
   "language": "python",
   "name": "python3"
  },
  "language_info": {
   "codemirror_mode": {
    "name": "ipython",
    "version": 2
   },
   "file_extension": ".py",
   "mimetype": "text/x-python",
   "name": "python",
   "nbconvert_exporter": "python",
   "pygments_lexer": "ipython2",
   "version": "2.7.6"
  }
 },
 "nbformat": 4,
 "nbformat_minor": 0
}