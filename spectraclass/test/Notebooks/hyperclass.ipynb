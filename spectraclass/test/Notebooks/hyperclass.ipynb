{
 "cells": [
  {
   "cell_type": "code",
   "execution_count": 1,
   "metadata": {
    "collapsed": false,
    "jupyter": {
     "outputs_hidden": false
    },
    "pycharm": {
     "name": "#%%\n"
    }
   },
   "outputs": [
    {
     "name": "stdout",
     "output_type": "stream",
     "text": [
      "DataManager registering ModeDataManager[aviris]: <class 'spectraclass.data.spatial.modes.AvirisDataManager'>\n",
      "DataManager registering ModeDataManager[desis]: <class 'spectraclass.data.spatial.modes.DesisDataManager'>\n",
      "DataManager registering ModeDataManager[swift]: <class 'spectraclass.data.unstructured.modes.SwiftDataManager'>\n",
      "DataManager registering ModeDataManager[tess]: <class 'spectraclass.data.unstructured.modes.TessDataManager'>\n",
      "Loading config files: ['global.py', 'desis.py'] from dir /Users/tpmaxwel/.spectraclass/config/demo2\n"
     ]
    },
    {
     "ename": "AttributeError",
     "evalue": "'NoneType' object has no attribute 'variables'",
     "output_type": "error",
     "traceback": [
      "\u001b[0;31m---------------------------------------------------------------------------\u001b[0m",
      "\u001b[0;31mAttributeError\u001b[0m                            Traceback (most recent call last)",
      "\u001b[0;32m<ipython-input-1-e4206e2a743f>\u001b[0m in \u001b[0;36m<module>\u001b[0;34m\u001b[0m\n\u001b[1;32m      6\u001b[0m \u001b[0;34m\u001b[0m\u001b[0m\n\u001b[1;32m      7\u001b[0m \u001b[0mdm\u001b[0m\u001b[0;34m:\u001b[0m \u001b[0mDataManager\u001b[0m \u001b[0;34m=\u001b[0m \u001b[0mDataManager\u001b[0m\u001b[0;34m.\u001b[0m\u001b[0minitialize\u001b[0m\u001b[0;34m(\u001b[0m\u001b[0;34m\"demo2\"\u001b[0m\u001b[0;34m,\u001b[0m\u001b[0;34m'desis'\u001b[0m\u001b[0;34m)\u001b[0m \u001b[0;31m# (\"demo2\",'desis')\u001b[0m\u001b[0;34m\u001b[0m\u001b[0;34m\u001b[0m\u001b[0m\n\u001b[0;32m----> 8\u001b[0;31m \u001b[0mproject_data\u001b[0m\u001b[0;34m:\u001b[0m \u001b[0mxa\u001b[0m\u001b[0;34m.\u001b[0m\u001b[0mDataset\u001b[0m \u001b[0;34m=\u001b[0m \u001b[0mdm\u001b[0m\u001b[0;34m.\u001b[0m\u001b[0mloadCurrentProject\u001b[0m\u001b[0;34m(\u001b[0m\u001b[0;34m\"main\"\u001b[0m\u001b[0;34m)\u001b[0m\u001b[0;34m\u001b[0m\u001b[0;34m\u001b[0m\u001b[0m\n\u001b[0m\u001b[1;32m      9\u001b[0m \u001b[0;34m\u001b[0m\u001b[0m\n\u001b[1;32m     10\u001b[0m classes = [ ('Class-1', \"cyan\"),\n",
      "\u001b[0;32m~/opt/anaconda3/envs/spectraclass/lib/python3.7/site-packages/spectraclass-0.1-py3.7.egg/spectraclass/data/base.py\u001b[0m in \u001b[0;36mloadCurrentProject\u001b[0;34m(self, caller_id)\u001b[0m\n\u001b[1;32m    177\u001b[0m         \u001b[0mlgm\u001b[0m\u001b[0;34m(\u001b[0m\u001b[0;34m)\u001b[0m\u001b[0;34m.\u001b[0m\u001b[0mlog\u001b[0m\u001b[0;34m(\u001b[0m \u001b[0;34mf\" DataManager: loadCurrentProject: {caller_id}\"\u001b[0m \u001b[0;34m)\u001b[0m\u001b[0;34m\u001b[0m\u001b[0;34m\u001b[0m\u001b[0m\n\u001b[1;32m    178\u001b[0m         \u001b[0mproject_data\u001b[0m \u001b[0;34m=\u001b[0m \u001b[0mself\u001b[0m\u001b[0;34m.\u001b[0m\u001b[0m_mode_data_manager_\u001b[0m\u001b[0;34m.\u001b[0m\u001b[0mloadCurrentProject\u001b[0m\u001b[0;34m(\u001b[0m\u001b[0;34m)\u001b[0m\u001b[0;34m\u001b[0m\u001b[0;34m\u001b[0m\u001b[0m\n\u001b[0;32m--> 179\u001b[0;31m         \u001b[0mlgm\u001b[0m\u001b[0;34m(\u001b[0m\u001b[0;34m)\u001b[0m\u001b[0;34m.\u001b[0m\u001b[0mlog\u001b[0m\u001b[0;34m(\u001b[0m\u001b[0;34mf\"Loaded project data:  {[f'{k}:{v.shape}' for (k,v) in project_data.variables.items()]}\"\u001b[0m\u001b[0;34m)\u001b[0m\u001b[0;34m\u001b[0m\u001b[0;34m\u001b[0m\u001b[0m\n\u001b[0m\u001b[1;32m    180\u001b[0m         \u001b[0;32mreturn\u001b[0m \u001b[0mproject_data\u001b[0m\u001b[0;34m\u001b[0m\u001b[0;34m\u001b[0m\u001b[0m\n\u001b[1;32m    181\u001b[0m \u001b[0;34m\u001b[0m\u001b[0m\n",
      "\u001b[0;31mAttributeError\u001b[0m: 'NoneType' object has no attribute 'variables'"
     ]
    }
   ],
   "source": [
    "%matplotlib widget\n",
    "from spectraclass.data.base import DataManager\n",
    "from spectraclass.application.controller import app\n",
    "from spectraclass.model.labels import LabelsManager, lm\n",
    "import xarray as xa\n",
    "\n",
    "dm: DataManager = DataManager.initialize(\"demo3\",'aviris') # (\"demo2\",'desis')\n",
    "project_data: xa.Dataset = dm.loadCurrentProject(\"main\")\n",
    "\n",
    "classes = [ ('Class-1', \"cyan\"),\n",
    "            ('Class-2', \"green\"),\n",
    "            ('Class-3', \"magenta\"),\n",
    "            ('Class-4', \"blue\")]\n",
    "\n",
    "lm().setLabels( classes )\n",
    "\n",
    "app().gui()"
   ]
  },
  {
   "cell_type": "code",
   "execution_count": null,
   "metadata": {
    "collapsed": false,
    "jupyter": {
     "outputs_hidden": false
    },
    "pycharm": {
     "name": "#%%\n"
    }
   },
   "outputs": [],
   "source": [
    "\n",
    "\n",
    "\n"
   ]
  }
 ],
 "metadata": {
  "kernelspec": {
   "display_name": "Python 3",
   "language": "python",
   "name": "python3"
  },
  "language_info": {
   "codemirror_mode": {
    "name": "ipython",
    "version": 3
   },
   "file_extension": ".py",
   "mimetype": "text/x-python",
   "name": "python",
   "nbconvert_exporter": "python",
   "pygments_lexer": "ipython3",
   "version": "3.7.9"
  }
 },
 "nbformat": 4,
 "nbformat_minor": 4
}
