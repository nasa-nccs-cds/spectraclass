{
 "cells": [
  {
   "cell_type": "code",
   "execution_count": 1,
   "metadata": {},
   "outputs": [],
   "source": [
    "%matplotlib widget\n",
    "import logging, os, traceback\n",
    "from owslib.wmts import WebMapTileService\n",
    "import cartopy.crs as ccrs\n",
    "import os, conda, numbers, time, contextlib\n",
    "from typing import List, Union, Tuple, Optional, Dict, Callable\n",
    "import numpy as np\n",
    "from spectraclass.data.spatial.tile.manager import TileManager, tm\n",
    "from spectraclass.gui.spatial.image import TileServiceImage\n",
    "from spectraclass.data.base import DataManager, dm\n",
    "import xarray as xa\n",
    "from matplotlib.image import AxesImage\n",
    "from matplotlib.collections import QuadMesh\n",
    "from matplotlib.figure import Figure\n",
    "from cartopy.mpl.geoaxes import GeoAxes\n",
    "from spectraclass.xext.xgeo import XGeo\n",
    "from cartopy.io.ogc_clients import WMTSRasterSource\n",
    "import matplotlib.pyplot as plt\n",
    "from matplotlib.axes import Axes\n",
    "import rioxarray as rio"
   ]
  },
  {
   "cell_type": "code",
   "execution_count": 2,
   "metadata": {
    "collapsed": false,
    "jupyter": {
     "outputs_hidden": false
    },
    "pycharm": {
     "name": "#%%\n"
    }
   },
   "outputs": [
    {
     "data": {
      "application/vnd.jupyter.widget-view+json": {
       "model_id": "d38d79853bf84be7b5446ff75d694435",
       "version_major": 2,
       "version_minor": 0
      },
      "text/html": [
       "\n",
       "            <div style=\"display: inline-block;\">\n",
       "                <div class=\"jupyter-widgets widget-label\" style=\"text-align: center;\">\n",
       "                    Figure\n",
       "                </div>\n",
       "                <img src='data:image/png;base64,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' width=600.0/>\n",
       "            </div>\n",
       "        "
      ],
      "text/plain": [
       "Canvas(toolbar=Toolbar(toolitems=[('Home', 'Reset original view', 'home', 'home'), ('Back', 'Back to previous …"
      ]
     },
     "metadata": {},
     "output_type": "display_data"
    }
   ],
   "source": [
    "log_file = os.path.expanduser('~/.spectraclass/logging/geospatial.log')\n",
    "file_handler = logging.FileHandler(filename=log_file, mode='w')\n",
    "logger = logging.getLogger(__name__)\n",
    "logger.addHandler(file_handler)\n",
    "logger.setLevel(logging.DEBUG)\n",
    "\n",
    "fig: plt.Figure = plt.figure( 0, figsize = (6, 6) )\n",
    "ax: Axes = fig.add_subplot(111)"
   ]
  },
  {
   "cell_type": "code",
   "execution_count": 3,
   "metadata": {
    "collapsed": false,
    "jupyter": {
     "outputs_hidden": false
    },
    "pycharm": {
     "name": "#%%\n"
    }
   },
   "outputs": [
    {
     "name": "stdout",
     "output_type": "stream",
     "text": [
      "Using config file: '/Users/tpmaxwel/.spectraclass/config/desis/demo2.py'\n",
      "Opening log file:  '/Users/tpmaxwel/.spectraclass/logging/desis/demo2.log'\n",
      "Loading metadata from file: /Users/tpmaxwel/Development/Data/DESIS/DESIS-HSI-L1C-DT0468853252_002-20200628T153803-V0210.mdata.txt\n"
     ]
    }
   ],
   "source": [
    "band_index = 100\n",
    "dmi: DataManager = DataManager.initialize( \"demo2\",'desis' )\n",
    "project_data: xa.Dataset = dmi.loadCurrentProject( \"main\" )\n",
    "block = tm().getBlock()\n",
    "plt: QuadMesh = block.data[band_index].plot(ax=ax)\n"
   ]
  },
  {
   "cell_type": "code",
   "execution_count": 4,
   "metadata": {
    "collapsed": false,
    "jupyter": {
     "outputs_hidden": false
    },
    "pycharm": {
     "name": "#%%\n"
    }
   },
   "outputs": [],
   "source": [
    "@contextlib.contextmanager\n",
    "def hold_limits( gax ):\n",
    "    data_lim = gax.dataLim.frozen().get_points()\n",
    "    view_lim = gax.viewLim.frozen().get_points()\n",
    "    other = (gax.ignore_existing_data_limits, gax._autoscaleXon, gax._autoscaleYon)\n",
    "    try:\n",
    "        yield\n",
    "    finally:\n",
    "        gax.dataLim.set_points(data_lim)\n",
    "        gax.viewLim.set_points(view_lim)\n",
    "        ( gax.ignore_existing_data_limits, gax._autoscaleXon, gax._autoscaleYon ) = other\n"
   ]
  },
  {
   "cell_type": "code",
   "execution_count": 5,
   "metadata": {
    "collapsed": false,
    "jupyter": {
     "outputs_hidden": false
    },
    "pycharm": {
     "name": "#%%\n"
    }
   },
   "outputs": [],
   "source": [
    "tile_server_url = 'https://server.arcgisonline.com/ArcGIS/rest/services/World_Imagery/MapServer/WMTS'\n",
    "crs = ccrs.epsg(3857)\n",
    "tile_service = WebMapTileService( tile_server_url )\n",
    "layer = list(tile_service.contents.keys())[0]\n",
    "wmts = WMTSRasterSource( tile_service, layer )\n",
    "img = TileServiceImage( ax, wmts)\n",
    "with hold_limits(ax):\n",
    "    ax.add_image(img)\n",
    "\n",
    "\n"
   ]
  }
 ],
 "metadata": {
  "kernelspec": {
   "display_name": "Python 3 (ipykernel)",
   "language": "python",
   "name": "python3"
  },
  "language_info": {
   "codemirror_mode": {
    "name": "ipython",
    "version": 3
   },
   "file_extension": ".py",
   "mimetype": "text/x-python",
   "name": "python",
   "nbconvert_exporter": "python",
   "pygments_lexer": "ipython3",
   "version": "3.9.7"
  }
 },
 "nbformat": 4,
 "nbformat_minor": 4
}