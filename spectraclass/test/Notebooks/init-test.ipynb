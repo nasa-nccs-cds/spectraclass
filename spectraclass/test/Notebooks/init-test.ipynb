{
 "cells": [
  {
   "cell_type": "code",
   "execution_count": 1,
   "metadata": {
    "collapsed": false,
    "jupyter": {
     "outputs_hidden": false
    },
    "pycharm": {
     "name": "#%%\n"
    }
   },
   "outputs": [
    {
     "name": "stdout",
     "output_type": "stream",
     "text": [
      "DataManager registering ModeDataManager[aviris]: <class 'spectraclass.data.spatial.modes.AvirisDataManager'>\n",
      "DataManager registering ModeDataManager[desis]: <class 'spectraclass.data.spatial.modes.DesisDataManager'>\n",
      "DataManager registering ModeDataManager[keelin]: <class 'spectraclass.data.spatial.modes.KeelinDataManager'>\n",
      "DataManager registering ModeDataManager[swift]: <class 'spectraclass.data.unstructured.modes.SwiftDataManager'>\n",
      "DataManager registering ModeDataManager[tess]: <class 'spectraclass.data.unstructured.modes.TessDataManager'>\n",
      "Loading config files: ['demo2.py'] from dir /Users/tpmaxwel/.spectraclass/config/keelin\n"
     ]
    },
    {
     "name": "stderr",
     "output_type": "stream",
     "text": [
      "Treat the new Tool classes introduced in v1.5 as experimental for now, the API will likely change in version 2.1 and perhaps the rcParam as well\n"
     ]
    },
    {
     "data": {
      "text/plain": "Canvas(toolbar=Toolbar(toolitems=[('Home', 'Reset original view', 'home', 'home'), ('Back', 'Back to previous …",
      "application/vnd.jupyter.widget-view+json": {
       "version_major": 2,
       "version_minor": 0,
       "model_id": "533fe958e344447ca7b8fb201d016883"
      }
     },
     "metadata": {},
     "output_type": "display_data"
    }
   ],
   "source": [
    "%matplotlib widget\n",
    "from spectraclass.data.base import DataManager\n",
    "from spectraclass.gui.spatial.map import MapManager, mm\n",
    "from spectraclass.model.labels import LabelsManager, lm\n",
    "import xarray as xa\n",
    "\n",
    "dm: DataManager = DataManager.initialize(\"demo2\",'keelin')\n",
    "dm.loadCurrentProject(\"main\")\n",
    "\n",
    "classes = [ ('Class-1', \"cyan\"),\n",
    "            ('Class-2', \"green\"),\n",
    "            ('Class-3', \"magenta\"),\n",
    "            ('Class-4', \"blue\")]\n",
    "\n",
    "lm().setLabels( classes )\n",
    "\n",
    "map = mm().gui()"
   ]
  },
  {
   "cell_type": "code",
   "execution_count": null,
   "metadata": {},
   "outputs": [],
   "source": []
  },
  {
   "cell_type": "code",
   "execution_count": null,
   "metadata": {},
   "outputs": [],
   "source": []
  }
 ],
 "metadata": {
  "kernelspec": {
   "name": "pycharm-130e1175",
   "language": "python",
   "display_name": "PyCharm (spectraclass)"
  },
  "language_info": {
   "codemirror_mode": {
    "name": "ipython",
    "version": 3
   },
   "file_extension": ".py",
   "mimetype": "text/x-python",
   "name": "python",
   "nbconvert_exporter": "python",
   "pygments_lexer": "ipython3",
   "version": "3.6.13"
  }
 },
 "nbformat": 4,
 "nbformat_minor": 4
}