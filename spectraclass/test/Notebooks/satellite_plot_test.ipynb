{
 "cells": [
  {
   "cell_type": "code",
   "execution_count": null,
   "metadata": {
    "collapsed": true
   },
   "outputs": [],
   "source": [
    "from typing import List, Union, Tuple, Optional, Dict, Callable\n",
    "from spectraclass.model.labels import LabelsManager, lm\n",
    "import xarray as xa\n",
    "from spectraclass.data.base import DataManager, dm\n",
    "from spectraclass.gui.spatial.satellite import SatellitePlotManager, spm\n",
    "from spectraclass.data.spatial.tile.manager import TileManager, tm\n",
    "\n",
    "dmi: DataManager = DataManager.initialize( \"demo2\",'desis' )\n",
    "project_data: xa.Dataset = dmi.loadCurrentProject( \"main\" )\n",
    "block = tm().getBlock()\n",
    "classes = [ ('Class-1', \"cyan\"), ('Class-2', \"green\"), ('Class-3', \"magenta\"), ('Class-4', \"blue\")]\n",
    "lm().setLabels( classes )"
   ]
  },
  {
   "cell_type": "code",
   "execution_count": null,
   "outputs": [],
   "source": [
    "spm = spm()\n",
    "spm.setBlock( block )\n",
    "spm.gui()"
   ],
   "metadata": {
    "collapsed": false,
    "pycharm": {
     "name": "#%%\n"
    }
   }
  },
  {
   "cell_type": "code",
   "execution_count": null,
   "outputs": [],
   "source": [
    "\n",
    "\n",
    "\n"
   ],
   "metadata": {
    "collapsed": false,
    "pycharm": {
     "name": "#%%\n"
    }
   }
  }
 ],
 "metadata": {
  "kernelspec": {
   "display_name": "Python 3",
   "language": "python",
   "name": "python3"
  },
  "language_info": {
   "codemirror_mode": {
    "name": "ipython",
    "version": 2
   },
   "file_extension": ".py",
   "mimetype": "text/x-python",
   "name": "python",
   "nbconvert_exporter": "python",
   "pygments_lexer": "ipython2",
   "version": "2.7.6"
  }
 },
 "nbformat": 4,
 "nbformat_minor": 0
}