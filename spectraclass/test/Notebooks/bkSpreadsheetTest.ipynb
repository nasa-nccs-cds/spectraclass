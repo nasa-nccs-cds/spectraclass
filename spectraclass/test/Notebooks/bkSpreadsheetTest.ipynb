{
 "cells": [
  {
   "cell_type": "code",
   "execution_count": null,
   "outputs": [],
   "source": [
    "from jupyter_bokeh.widgets import BokehModel\n",
    "from bokeh.io import output_notebook\n",
    "import ipywidgets as ip\n",
    "import xarray as xa\n",
    "import pandas as pd\n",
    "from bokeh.models import ColumnDataSource, DataTable, DateFormatter, TableColumn\n",
    "from typing import List, Union, Tuple, Optional, Dict, Callable, Set"
   ],
   "metadata": {
    "collapsed": false,
    "pycharm": {
     "name": "#%%\n"
    }
   }
  },
  {
   "cell_type": "code",
   "execution_count": null,
   "outputs": [],
   "source": [
    "class bkSpreadsheet:\n",
    "\n",
    "    def __init__(self, data: Union[pd.DataFrame,xa.DataArray] ):\n",
    "        output_notebook()\n",
    "        pdf: pd.DataFrame = None\n",
    "        if isinstance( data, pd.DataFrame ):\n",
    "            pdf = data\n",
    "        elif isinstance( data, xa.DataArray ):\n",
    "            assert data.ndim == 2, f\"Wrong DataArray.ndim for bkSpreadsheet ({data.ndim}): must have ndim = 2\"\n",
    "            pdf = data.to_pandas()\n",
    "        else:\n",
    "            raise TypeError( f\"Unsupported data class supplied to bkSpreadsheet: {data.__class__}\" )\n",
    "        self._source: ColumnDataSource = ColumnDataSource( pdf )\n",
    "        cids = [ str(cid) for cid in pdf.columns.values ]\n",
    "        print( f\"Creating table with cols = {cids}\")\n",
    "        self._columns = [ TableColumn(field=cid, title=cid) for cid in cids ]\n",
    "        self._table = DataTable( source=self._source, columns=self._columns, width=400, height=280, selectable=\"checkbox\" )\n",
    "\n",
    "    def selection_callback( self, callback: Callable[[str,str,str],None] ):  # callback( attr, old, new )\n",
    "        self._source.selected.on_change(\"indices\", callback)\n",
    "\n",
    "    def set_selection(self, indices: List[int] ):\n",
    "        self._source.selected.indices = indices\n",
    "\n",
    "    def get_selection( self ) -> List[int]:\n",
    "        return self._source.selected.indices\n",
    "\n",
    "    def gui(self) -> ip.DOMWidget:\n",
    "        return BokehModel(self._table)"
   ],
   "metadata": {
    "collapsed": false,
    "pycharm": {
     "name": "#%%\n"
    }
   }
  },
  {
   "cell_type": "code",
   "execution_count": null,
   "outputs": [],
   "source": [
    "from datetime import date\n",
    "from random import randint\n",
    "\n",
    "data = dict(\n",
    "        dates=[date(2014, 3, i+1) for i in range(10)],\n",
    "        downloads=[randint(0, 100) for i in range(10)],\n",
    "    )\n",
    "\n",
    "dframe = pd.DataFrame( data )\n",
    "dframe"
   ],
   "metadata": {
    "collapsed": false,
    "pycharm": {
     "name": "#%%\n"
    }
   }
  },
  {
   "cell_type": "code",
   "execution_count": null,
   "outputs": [],
   "source": [
    "ss = bkSpreadsheet(dframe)\n",
    "table_widget = ss.gui()\n",
    "table_widget"
   ],
   "metadata": {
    "collapsed": false,
    "pycharm": {
     "name": "#%%\n"
    }
   }
  },
  {
   "cell_type": "code",
   "execution_count": null,
   "outputs": [],
   "source": [
    "\n",
    "\n",
    "\n"
   ],
   "metadata": {
    "collapsed": false,
    "pycharm": {
     "name": "#%%\n"
    }
   }
  }
 ],
 "metadata": {
  "kernelspec": {
   "display_name": "Python 3",
   "language": "python",
   "name": "python3"
  },
  "language_info": {
   "codemirror_mode": {
    "name": "ipython",
    "version": 2
   },
   "file_extension": ".py",
   "mimetype": "text/x-python",
   "name": "python",
   "nbconvert_exporter": "python",
   "pygments_lexer": "ipython2",
   "version": "2.7.6"
  }
 },
 "nbformat": 4,
 "nbformat_minor": 0
}