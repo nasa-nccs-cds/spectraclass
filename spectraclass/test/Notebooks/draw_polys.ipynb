{
 "cells": [
  {
   "cell_type": "code",
   "execution_count": 1,
   "metadata": {},
   "outputs": [],
   "source": [
    "%matplotlib widget\n",
    "import numpy as np\n",
    "from matplotlib.lines import Line2D\n",
    "from matplotlib.artist import Artist\n",
    "from matplotlib.backend_bases import MouseEvent\n",
    "import logging, os\n",
    "from typing import List, Union, Tuple, Optional, Dict, Callable\n",
    "import matplotlib.pyplot as plt\n",
    "from matplotlib.patches import Polygon\n",
    "\n",
    "log_file = os.path.expanduser('~/.spectraclass/logging/geospatial.log')\n",
    "file_handler = logging.FileHandler(filename=log_file, mode='w')\n",
    "logger = logging.getLogger(__name__)\n",
    "logger.addHandler(file_handler)\n",
    "logger.setLevel(logging.DEBUG)"
   ]
  },
  {
   "cell_type": "code",
   "execution_count": 2,
   "metadata": {
    "collapsed": false,
    "jupyter": {
     "outputs_hidden": false
    },
    "pycharm": {
     "name": "#%%\n"
    }
   },
   "outputs": [],
   "source": [
    "def dist(x, y):\n",
    "    d = x - y\n",
    "    return np.sqrt(np.dot(d, d))\n",
    "\n",
    "class PolyRec:\n",
    "    epsilon = 5  # max pixel distance to count as a vertex hit\n",
    "\n",
    "    def __init__(self, pid, ax,  x, y, c=\"grey\", on_change: Callable = None ):\n",
    "        self.ax = ax\n",
    "        self.color = c\n",
    "        self.canvas = ax.figure.canvas\n",
    "        self.pid = pid\n",
    "        self.selected = False\n",
    "        xs, ys = np.array( [x,x] ), np.array( [y,y] )\n",
    "        self.poly = Polygon( np.column_stack([xs,ys]), animated=True, facecolor=self.color, closed=False )\n",
    "        x, y = zip(*self.poly.xy)\n",
    "        self.line = Line2D(x, y, marker='o', markerfacecolor='r', animated=True)\n",
    "        if on_change: self.cid = self.poly.add_callback( on_change )\n",
    "        else: self.cid = None\n",
    "        ax.add_patch(self.poly)\n",
    "        ax.add_line(self.line)\n",
    "        self.indx = -1\n",
    "\n",
    "    def contains_point(self, event: MouseEvent ) -> bool:\n",
    "        return self.poly.contains_point( (event.x,event.y) )\n",
    "\n",
    "    def vertex_selected( self, event: MouseEvent ):\n",
    "        xy = np.asarray(self.poly.xy)\n",
    "        xyt = self.poly.get_transform().transform(xy)\n",
    "        xt, yt = xyt[:, 0], xyt[:, 1]\n",
    "        d = np.hypot(xt - event.x, yt - event.y)\n",
    "        indseq, = np.nonzero(d == d.min())\n",
    "        d0 = d[ indseq[0] ]\n",
    "        selected = (d0 < self.epsilon)\n",
    "        self.indx = indseq[0] if selected else -1\n",
    "        return ( self.indx > -1 )\n",
    "\n",
    "    def clear_vertex_selection(self):\n",
    "        self.indx = -1\n",
    "\n",
    "    def _update(self):\n",
    "        self.line.set_data(zip(*self.poly.xy))\n",
    "\n",
    "    def insert_point(self, event ):\n",
    "        x, y = event.xdata, event.ydata\n",
    "        self.poly.xy = np.row_stack( [ self.poly.xy, np.array( [x, y] ) ] )\n",
    "        self.draw()\n",
    "\n",
    "    def complete( self ):\n",
    "        self.poly.xy[-1] = self.poly.xy[0]\n",
    "        self.line.set_visible(False)\n",
    "        self.poly.set_closed(True)\n",
    "        self.ax.draw_artist(self.line)\n",
    "\n",
    "    def update(self):\n",
    "        self.line.set_data(zip(*self.poly.xy))\n",
    "        self.ax.draw_artist(self.poly)\n",
    "        self.ax.draw_artist(self.line)\n",
    "\n",
    "    def draw(self):\n",
    "        self.canvas.draw_idle()\n",
    "\n",
    "    def set_selected(self, selected: bool ):\n",
    "        self.selected = selected\n",
    "        self.line.set_visible(selected)\n",
    "        self.ax.draw_artist(self.line)\n",
    "\n",
    "    def drag_vertex(self, event ):\n",
    "        x, y = event.xdata, event.ydata\n",
    "        self.poly.xy[ self.indx ] = x, y\n",
    "        indx1 = self.poly.xy.shape[0]-1\n",
    "        if self.indx == 0:     self.poly.xy[indx1] = self.poly.xy[0]\n",
    "        if self.indx == indx1: self.poly.xy[0]     = self.poly.xy[indx1]\n",
    "\n",
    "class PolygonInteractor:\n",
    "\n",
    "    showverts = True\n",
    "\n",
    "\n",
    "    def __init__(self, ax):\n",
    "        self.ax = ax\n",
    "        self.polys: List[PolyRec] = []\n",
    "        self.prec: PolyRec = None\n",
    "        self.enabled = True\n",
    "        self.editing = False\n",
    "        self.creating = False\n",
    "        self.fill_color = \"grey\"\n",
    "\n",
    "        canvas = ax.figure.canvas\n",
    "        canvas.mpl_connect('draw_event', self.on_draw)\n",
    "        canvas.mpl_connect('button_press_event', self.on_button_press)\n",
    "        canvas.mpl_connect('button_release_event', self.on_button_release)\n",
    "        canvas.mpl_connect('key_press_event', self.on_key_press)\n",
    "        canvas.mpl_connect('motion_notify_event', self.on_mouse_move)\n",
    "        self.canvas = canvas\n",
    "\n",
    "    def set_enabled(self, enabled ):\n",
    "        self.enabled = enabled\n",
    "        if not enabled and (self.prec != None):\n",
    "            self.prec.complete()\n",
    "            self.prec = None\n",
    "            self.draw()\n",
    "\n",
    "    def add_poly( self, event ):\n",
    "        if not self.in_poly(event):\n",
    "            x, y = event.xdata, event.ydata\n",
    "            pid = len(self.polys)\n",
    "            self.prec = PolyRec( pid, ax, x, y, self.fill_color, self.poly_changed )\n",
    "            self.polys.append( self.prec )\n",
    "            self.creating = True\n",
    "        return self.prec\n",
    "\n",
    "    def on_draw(self, event):\n",
    "        self.background = self.canvas.copy_from_bbox(self.ax.bbox)\n",
    "        for prec in self.polys:\n",
    "            self.ax.draw_artist(prec.poly)\n",
    "            self.ax.draw_artist(prec.line)\n",
    "\n",
    "    def poly_changed(self, poly):\n",
    "        if self.prec is not None:\n",
    "            vis = self.prec.line.get_visible()\n",
    "            Artist.update_from(self.prec.line, poly)\n",
    "            self.prec.line.set_visible(vis)\n",
    "\n",
    "    def in_poly( self, event ) -> Optional[PolyRec]:\n",
    "        for prec in self.polys:\n",
    "            if prec.contains_point( event ):\n",
    "                return prec\n",
    "        return None\n",
    "\n",
    "    def select_poly(self, event):\n",
    "        self.prec = self.in_poly( event )\n",
    "        selected_pid = self.prec.pid if (self.prec is not None) else -1\n",
    "        for prec in self.polys:\n",
    "            prec.set_selected( prec.pid == selected_pid )\n",
    "        self.draw()\n",
    "\n",
    "    def close_poly(self):\n",
    "        self.prec.complete()\n",
    "        self.prec = None\n",
    "        self.creating = False\n",
    "        self.draw()\n",
    "\n",
    "    def on_button_press(self, event: MouseEvent ):\n",
    "        if event.inaxes is None: return\n",
    "        print( event )\n",
    "\n",
    "        if event.button == 1:\n",
    "            if self.enabled:\n",
    "                if event.dblclick:\n",
    "                    if self.creating:   self.close_poly()\n",
    "                    else:               self.select_poly( event )\n",
    "                else:\n",
    "                    if self.prec is None:  self.add_poly( event )\n",
    "                    else:\n",
    "                        if self.creating:  self.prec.insert_point( event )\n",
    "                        else:              self.editing = self.prec.vertex_selected( event )\n",
    "\n",
    "        elif event.button == 3:\n",
    "            pass\n",
    "\n",
    "    def on_button_release(self, event):\n",
    "        if self.prec is not None:\n",
    "            self.prec.clear_vertex_selection()\n",
    "            self.editing = False\n",
    "\n",
    "    def on_key_press(self, event):\n",
    "        if not event.inaxes:\n",
    "            return\n",
    "        if event.key == 'r':  self.fill_color = \"red\"\n",
    "        elif event.key == 'g':  self.fill_color = \"green\"\n",
    "        elif event.key == 'b':  self.fill_color = \"blue\"\n",
    "        elif event.key == 'p':  self.fill_color = \"purple\"\n",
    "\n",
    "    def on_mouse_move(self, event):\n",
    "        if event.inaxes is None: return\n",
    "        if (self.editing or self.creating):\n",
    "            self.prec.drag_vertex( event )\n",
    "            self.draw()\n",
    "\n",
    "    def draw(self):\n",
    "        self.canvas.restore_region(self.background)\n",
    "        for prec in self.polys: prec.update()\n",
    "        self.canvas.blit(self.ax.bbox)\n"
   ]
  },
  {
   "cell_type": "code",
   "execution_count": 3,
   "metadata": {
    "collapsed": false,
    "jupyter": {
     "outputs_hidden": false
    },
    "pycharm": {
     "name": "#%%\n"
    }
   },
   "outputs": [
    {
     "data": {
      "text/plain": [
       "(-2.0, 2.0)"
      ]
     },
     "execution_count": 3,
     "metadata": {},
     "output_type": "execute_result"
    },
    {
     "data": {
      "application/vnd.jupyter.widget-view+json": {
       "model_id": "3e0ea07f5f8e4b0da6562774d5f72dc0",
       "version_major": 2,
       "version_minor": 0
      },
      "text/html": [
       "\n",
       "            <div style=\"display: inline-block;\">\n",
       "                <div class=\"jupyter-widgets widget-label\" style=\"text-align: center;\">\n",
       "                    Figure\n",
       "                </div>\n",
       "                <img src='data:image/png;base64,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' width=640.0/>\n",
       "            </div>\n",
       "        "
      ],
      "text/plain": [
       "Canvas(toolbar=Toolbar(toolitems=[('Home', 'Reset original view', 'home', 'home'), ('Back', 'Back to previous …"
      ]
     },
     "metadata": {},
     "output_type": "display_data"
    }
   ],
   "source": [
    "fig, ax = plt.subplots()\n",
    "p = PolygonInteractor(ax)\n",
    "ax.set_title('Patch selection test')\n",
    "ax.set_xlim((-2, 2))\n",
    "ax.set_ylim((-2, 2))"
   ]
  },
  {
   "cell_type": "code",
   "execution_count": null,
   "metadata": {
    "collapsed": false,
    "jupyter": {
     "outputs_hidden": false
    },
    "pycharm": {
     "name": "#%%\n"
    }
   },
   "outputs": [],
   "source": [
    "\n"
   ]
  }
 ],
 "metadata": {
  "kernelspec": {
   "display_name": "Python 3",
   "language": "python",
   "name": "python3"
  },
  "language_info": {
   "codemirror_mode": {
    "name": "ipython",
    "version": 3
   },
   "file_extension": ".py",
   "mimetype": "text/x-python",
   "name": "python",
   "nbconvert_exporter": "python",
   "pygments_lexer": "ipython3",
   "version": "3.9.7"
  }
 },
 "nbformat": 4,
 "nbformat_minor": 4
}